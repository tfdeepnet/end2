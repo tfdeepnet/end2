{
  "nbformat": 4,
  "nbformat_minor": 0,
  "metadata": {
    "colab": {
      "name": "add_num_and_mnist_pred_END2_week4.ipynb",
      "provenance": [],
      "collapsed_sections": []
    },
    "kernelspec": {
      "name": "python3",
      "display_name": "Python 3"
    },
    "accelerator": "GPU",
    "widgets": {
      "application/vnd.jupyter.widget-state+json": {
        "fed81a2007194e2fb18c020cdb66cb4d": {
          "model_module": "@jupyter-widgets/controls",
          "model_name": "HBoxModel",
          "state": {
            "_view_name": "HBoxView",
            "_dom_classes": [],
            "_model_name": "HBoxModel",
            "_view_module": "@jupyter-widgets/controls",
            "_model_module_version": "1.5.0",
            "_view_count": null,
            "_view_module_version": "1.5.0",
            "box_style": "",
            "layout": "IPY_MODEL_aac457cc7dcd46e58f34f6cf979b3eba",
            "_model_module": "@jupyter-widgets/controls",
            "children": [
              "IPY_MODEL_519ccf5c03414d4b99b15d85b525397c",
              "IPY_MODEL_5e7d87871de34cffa163a694f8983d86"
            ]
          }
        },
        "aac457cc7dcd46e58f34f6cf979b3eba": {
          "model_module": "@jupyter-widgets/base",
          "model_name": "LayoutModel",
          "state": {
            "_view_name": "LayoutView",
            "grid_template_rows": null,
            "right": null,
            "justify_content": null,
            "_view_module": "@jupyter-widgets/base",
            "overflow": null,
            "_model_module_version": "1.2.0",
            "_view_count": null,
            "flex_flow": null,
            "width": null,
            "min_width": null,
            "border": null,
            "align_items": null,
            "bottom": null,
            "_model_module": "@jupyter-widgets/base",
            "top": null,
            "grid_column": null,
            "overflow_y": null,
            "overflow_x": null,
            "grid_auto_flow": null,
            "grid_area": null,
            "grid_template_columns": null,
            "flex": null,
            "_model_name": "LayoutModel",
            "justify_items": null,
            "grid_row": null,
            "max_height": null,
            "align_content": null,
            "visibility": null,
            "align_self": null,
            "height": null,
            "min_height": null,
            "padding": null,
            "grid_auto_rows": null,
            "grid_gap": null,
            "max_width": null,
            "order": null,
            "_view_module_version": "1.2.0",
            "grid_template_areas": null,
            "object_position": null,
            "object_fit": null,
            "grid_auto_columns": null,
            "margin": null,
            "display": null,
            "left": null
          }
        },
        "519ccf5c03414d4b99b15d85b525397c": {
          "model_module": "@jupyter-widgets/controls",
          "model_name": "FloatProgressModel",
          "state": {
            "_view_name": "ProgressView",
            "style": "IPY_MODEL_5171c9803eee453db7f272f87ce83432",
            "_dom_classes": [],
            "description": "",
            "_model_name": "FloatProgressModel",
            "bar_style": "success",
            "max": 9912422,
            "_view_module": "@jupyter-widgets/controls",
            "_model_module_version": "1.5.0",
            "value": 9912422,
            "_view_count": null,
            "_view_module_version": "1.5.0",
            "orientation": "horizontal",
            "min": 0,
            "description_tooltip": null,
            "_model_module": "@jupyter-widgets/controls",
            "layout": "IPY_MODEL_0e0e6391137a40488578d59e94a91a73"
          }
        },
        "5e7d87871de34cffa163a694f8983d86": {
          "model_module": "@jupyter-widgets/controls",
          "model_name": "HTMLModel",
          "state": {
            "_view_name": "HTMLView",
            "style": "IPY_MODEL_dc11988141c34812bac73aa5d4b9c8dc",
            "_dom_classes": [],
            "description": "",
            "_model_name": "HTMLModel",
            "placeholder": "​",
            "_view_module": "@jupyter-widgets/controls",
            "_model_module_version": "1.5.0",
            "value": " 9913344/? [06:40&lt;00:00, 24773.55it/s]",
            "_view_count": null,
            "_view_module_version": "1.5.0",
            "description_tooltip": null,
            "_model_module": "@jupyter-widgets/controls",
            "layout": "IPY_MODEL_d176501031cb473d9e18c3c2579f60d2"
          }
        },
        "5171c9803eee453db7f272f87ce83432": {
          "model_module": "@jupyter-widgets/controls",
          "model_name": "ProgressStyleModel",
          "state": {
            "_view_name": "StyleView",
            "_model_name": "ProgressStyleModel",
            "description_width": "initial",
            "_view_module": "@jupyter-widgets/base",
            "_model_module_version": "1.5.0",
            "_view_count": null,
            "_view_module_version": "1.2.0",
            "bar_color": null,
            "_model_module": "@jupyter-widgets/controls"
          }
        },
        "0e0e6391137a40488578d59e94a91a73": {
          "model_module": "@jupyter-widgets/base",
          "model_name": "LayoutModel",
          "state": {
            "_view_name": "LayoutView",
            "grid_template_rows": null,
            "right": null,
            "justify_content": null,
            "_view_module": "@jupyter-widgets/base",
            "overflow": null,
            "_model_module_version": "1.2.0",
            "_view_count": null,
            "flex_flow": null,
            "width": null,
            "min_width": null,
            "border": null,
            "align_items": null,
            "bottom": null,
            "_model_module": "@jupyter-widgets/base",
            "top": null,
            "grid_column": null,
            "overflow_y": null,
            "overflow_x": null,
            "grid_auto_flow": null,
            "grid_area": null,
            "grid_template_columns": null,
            "flex": null,
            "_model_name": "LayoutModel",
            "justify_items": null,
            "grid_row": null,
            "max_height": null,
            "align_content": null,
            "visibility": null,
            "align_self": null,
            "height": null,
            "min_height": null,
            "padding": null,
            "grid_auto_rows": null,
            "grid_gap": null,
            "max_width": null,
            "order": null,
            "_view_module_version": "1.2.0",
            "grid_template_areas": null,
            "object_position": null,
            "object_fit": null,
            "grid_auto_columns": null,
            "margin": null,
            "display": null,
            "left": null
          }
        },
        "dc11988141c34812bac73aa5d4b9c8dc": {
          "model_module": "@jupyter-widgets/controls",
          "model_name": "DescriptionStyleModel",
          "state": {
            "_view_name": "StyleView",
            "_model_name": "DescriptionStyleModel",
            "description_width": "",
            "_view_module": "@jupyter-widgets/base",
            "_model_module_version": "1.5.0",
            "_view_count": null,
            "_view_module_version": "1.2.0",
            "_model_module": "@jupyter-widgets/controls"
          }
        },
        "d176501031cb473d9e18c3c2579f60d2": {
          "model_module": "@jupyter-widgets/base",
          "model_name": "LayoutModel",
          "state": {
            "_view_name": "LayoutView",
            "grid_template_rows": null,
            "right": null,
            "justify_content": null,
            "_view_module": "@jupyter-widgets/base",
            "overflow": null,
            "_model_module_version": "1.2.0",
            "_view_count": null,
            "flex_flow": null,
            "width": null,
            "min_width": null,
            "border": null,
            "align_items": null,
            "bottom": null,
            "_model_module": "@jupyter-widgets/base",
            "top": null,
            "grid_column": null,
            "overflow_y": null,
            "overflow_x": null,
            "grid_auto_flow": null,
            "grid_area": null,
            "grid_template_columns": null,
            "flex": null,
            "_model_name": "LayoutModel",
            "justify_items": null,
            "grid_row": null,
            "max_height": null,
            "align_content": null,
            "visibility": null,
            "align_self": null,
            "height": null,
            "min_height": null,
            "padding": null,
            "grid_auto_rows": null,
            "grid_gap": null,
            "max_width": null,
            "order": null,
            "_view_module_version": "1.2.0",
            "grid_template_areas": null,
            "object_position": null,
            "object_fit": null,
            "grid_auto_columns": null,
            "margin": null,
            "display": null,
            "left": null
          }
        },
        "b808bcb0ac2347f6b1ad1e01b6f6a30d": {
          "model_module": "@jupyter-widgets/controls",
          "model_name": "HBoxModel",
          "state": {
            "_view_name": "HBoxView",
            "_dom_classes": [],
            "_model_name": "HBoxModel",
            "_view_module": "@jupyter-widgets/controls",
            "_model_module_version": "1.5.0",
            "_view_count": null,
            "_view_module_version": "1.5.0",
            "box_style": "",
            "layout": "IPY_MODEL_683403df48b94f5eba9a168c8907b651",
            "_model_module": "@jupyter-widgets/controls",
            "children": [
              "IPY_MODEL_26d0319a65044b9e8c32aebb689c50f1",
              "IPY_MODEL_cbb5c3ceca724f679b59c5743d1a8815"
            ]
          }
        },
        "683403df48b94f5eba9a168c8907b651": {
          "model_module": "@jupyter-widgets/base",
          "model_name": "LayoutModel",
          "state": {
            "_view_name": "LayoutView",
            "grid_template_rows": null,
            "right": null,
            "justify_content": null,
            "_view_module": "@jupyter-widgets/base",
            "overflow": null,
            "_model_module_version": "1.2.0",
            "_view_count": null,
            "flex_flow": null,
            "width": null,
            "min_width": null,
            "border": null,
            "align_items": null,
            "bottom": null,
            "_model_module": "@jupyter-widgets/base",
            "top": null,
            "grid_column": null,
            "overflow_y": null,
            "overflow_x": null,
            "grid_auto_flow": null,
            "grid_area": null,
            "grid_template_columns": null,
            "flex": null,
            "_model_name": "LayoutModel",
            "justify_items": null,
            "grid_row": null,
            "max_height": null,
            "align_content": null,
            "visibility": null,
            "align_self": null,
            "height": null,
            "min_height": null,
            "padding": null,
            "grid_auto_rows": null,
            "grid_gap": null,
            "max_width": null,
            "order": null,
            "_view_module_version": "1.2.0",
            "grid_template_areas": null,
            "object_position": null,
            "object_fit": null,
            "grid_auto_columns": null,
            "margin": null,
            "display": null,
            "left": null
          }
        },
        "26d0319a65044b9e8c32aebb689c50f1": {
          "model_module": "@jupyter-widgets/controls",
          "model_name": "FloatProgressModel",
          "state": {
            "_view_name": "ProgressView",
            "style": "IPY_MODEL_dbd5903b7bb54657a2b90c1345327c61",
            "_dom_classes": [],
            "description": "",
            "_model_name": "FloatProgressModel",
            "bar_style": "success",
            "max": 28881,
            "_view_module": "@jupyter-widgets/controls",
            "_model_module_version": "1.5.0",
            "value": 28881,
            "_view_count": null,
            "_view_module_version": "1.5.0",
            "orientation": "horizontal",
            "min": 0,
            "description_tooltip": null,
            "_model_module": "@jupyter-widgets/controls",
            "layout": "IPY_MODEL_3a829e9d56d84209a41dc4eb7ec2f97a"
          }
        },
        "cbb5c3ceca724f679b59c5743d1a8815": {
          "model_module": "@jupyter-widgets/controls",
          "model_name": "HTMLModel",
          "state": {
            "_view_name": "HTMLView",
            "style": "IPY_MODEL_493a490e56de4df290c55b0d08d2753d",
            "_dom_classes": [],
            "description": "",
            "_model_name": "HTMLModel",
            "placeholder": "​",
            "_view_module": "@jupyter-widgets/controls",
            "_model_module_version": "1.5.0",
            "value": " 29696/? [00:02&lt;00:00, 12454.11it/s]",
            "_view_count": null,
            "_view_module_version": "1.5.0",
            "description_tooltip": null,
            "_model_module": "@jupyter-widgets/controls",
            "layout": "IPY_MODEL_b8082e2b76614e1c9d7fafc6dda9a2ee"
          }
        },
        "dbd5903b7bb54657a2b90c1345327c61": {
          "model_module": "@jupyter-widgets/controls",
          "model_name": "ProgressStyleModel",
          "state": {
            "_view_name": "StyleView",
            "_model_name": "ProgressStyleModel",
            "description_width": "initial",
            "_view_module": "@jupyter-widgets/base",
            "_model_module_version": "1.5.0",
            "_view_count": null,
            "_view_module_version": "1.2.0",
            "bar_color": null,
            "_model_module": "@jupyter-widgets/controls"
          }
        },
        "3a829e9d56d84209a41dc4eb7ec2f97a": {
          "model_module": "@jupyter-widgets/base",
          "model_name": "LayoutModel",
          "state": {
            "_view_name": "LayoutView",
            "grid_template_rows": null,
            "right": null,
            "justify_content": null,
            "_view_module": "@jupyter-widgets/base",
            "overflow": null,
            "_model_module_version": "1.2.0",
            "_view_count": null,
            "flex_flow": null,
            "width": null,
            "min_width": null,
            "border": null,
            "align_items": null,
            "bottom": null,
            "_model_module": "@jupyter-widgets/base",
            "top": null,
            "grid_column": null,
            "overflow_y": null,
            "overflow_x": null,
            "grid_auto_flow": null,
            "grid_area": null,
            "grid_template_columns": null,
            "flex": null,
            "_model_name": "LayoutModel",
            "justify_items": null,
            "grid_row": null,
            "max_height": null,
            "align_content": null,
            "visibility": null,
            "align_self": null,
            "height": null,
            "min_height": null,
            "padding": null,
            "grid_auto_rows": null,
            "grid_gap": null,
            "max_width": null,
            "order": null,
            "_view_module_version": "1.2.0",
            "grid_template_areas": null,
            "object_position": null,
            "object_fit": null,
            "grid_auto_columns": null,
            "margin": null,
            "display": null,
            "left": null
          }
        },
        "493a490e56de4df290c55b0d08d2753d": {
          "model_module": "@jupyter-widgets/controls",
          "model_name": "DescriptionStyleModel",
          "state": {
            "_view_name": "StyleView",
            "_model_name": "DescriptionStyleModel",
            "description_width": "",
            "_view_module": "@jupyter-widgets/base",
            "_model_module_version": "1.5.0",
            "_view_count": null,
            "_view_module_version": "1.2.0",
            "_model_module": "@jupyter-widgets/controls"
          }
        },
        "b8082e2b76614e1c9d7fafc6dda9a2ee": {
          "model_module": "@jupyter-widgets/base",
          "model_name": "LayoutModel",
          "state": {
            "_view_name": "LayoutView",
            "grid_template_rows": null,
            "right": null,
            "justify_content": null,
            "_view_module": "@jupyter-widgets/base",
            "overflow": null,
            "_model_module_version": "1.2.0",
            "_view_count": null,
            "flex_flow": null,
            "width": null,
            "min_width": null,
            "border": null,
            "align_items": null,
            "bottom": null,
            "_model_module": "@jupyter-widgets/base",
            "top": null,
            "grid_column": null,
            "overflow_y": null,
            "overflow_x": null,
            "grid_auto_flow": null,
            "grid_area": null,
            "grid_template_columns": null,
            "flex": null,
            "_model_name": "LayoutModel",
            "justify_items": null,
            "grid_row": null,
            "max_height": null,
            "align_content": null,
            "visibility": null,
            "align_self": null,
            "height": null,
            "min_height": null,
            "padding": null,
            "grid_auto_rows": null,
            "grid_gap": null,
            "max_width": null,
            "order": null,
            "_view_module_version": "1.2.0",
            "grid_template_areas": null,
            "object_position": null,
            "object_fit": null,
            "grid_auto_columns": null,
            "margin": null,
            "display": null,
            "left": null
          }
        },
        "f0c0a2e27554421687eb3ea804fa56a8": {
          "model_module": "@jupyter-widgets/controls",
          "model_name": "HBoxModel",
          "state": {
            "_view_name": "HBoxView",
            "_dom_classes": [],
            "_model_name": "HBoxModel",
            "_view_module": "@jupyter-widgets/controls",
            "_model_module_version": "1.5.0",
            "_view_count": null,
            "_view_module_version": "1.5.0",
            "box_style": "",
            "layout": "IPY_MODEL_bfbe559ab9f248729e3946f142d93bcc",
            "_model_module": "@jupyter-widgets/controls",
            "children": [
              "IPY_MODEL_580ccd16af674e08a66fa726d2a54575",
              "IPY_MODEL_94d002c63b004950a4cccae63e51db28"
            ]
          }
        },
        "bfbe559ab9f248729e3946f142d93bcc": {
          "model_module": "@jupyter-widgets/base",
          "model_name": "LayoutModel",
          "state": {
            "_view_name": "LayoutView",
            "grid_template_rows": null,
            "right": null,
            "justify_content": null,
            "_view_module": "@jupyter-widgets/base",
            "overflow": null,
            "_model_module_version": "1.2.0",
            "_view_count": null,
            "flex_flow": null,
            "width": null,
            "min_width": null,
            "border": null,
            "align_items": null,
            "bottom": null,
            "_model_module": "@jupyter-widgets/base",
            "top": null,
            "grid_column": null,
            "overflow_y": null,
            "overflow_x": null,
            "grid_auto_flow": null,
            "grid_area": null,
            "grid_template_columns": null,
            "flex": null,
            "_model_name": "LayoutModel",
            "justify_items": null,
            "grid_row": null,
            "max_height": null,
            "align_content": null,
            "visibility": null,
            "align_self": null,
            "height": null,
            "min_height": null,
            "padding": null,
            "grid_auto_rows": null,
            "grid_gap": null,
            "max_width": null,
            "order": null,
            "_view_module_version": "1.2.0",
            "grid_template_areas": null,
            "object_position": null,
            "object_fit": null,
            "grid_auto_columns": null,
            "margin": null,
            "display": null,
            "left": null
          }
        },
        "580ccd16af674e08a66fa726d2a54575": {
          "model_module": "@jupyter-widgets/controls",
          "model_name": "FloatProgressModel",
          "state": {
            "_view_name": "ProgressView",
            "style": "IPY_MODEL_f74aec58618a4a3ab6301324210b96aa",
            "_dom_classes": [],
            "description": "",
            "_model_name": "FloatProgressModel",
            "bar_style": "success",
            "max": 1648877,
            "_view_module": "@jupyter-widgets/controls",
            "_model_module_version": "1.5.0",
            "value": 1648877,
            "_view_count": null,
            "_view_module_version": "1.5.0",
            "orientation": "horizontal",
            "min": 0,
            "description_tooltip": null,
            "_model_module": "@jupyter-widgets/controls",
            "layout": "IPY_MODEL_a7a9b38c27614f7d98e8723d6bc37e1e"
          }
        },
        "94d002c63b004950a4cccae63e51db28": {
          "model_module": "@jupyter-widgets/controls",
          "model_name": "HTMLModel",
          "state": {
            "_view_name": "HTMLView",
            "style": "IPY_MODEL_eb7ac8a579d64d968ade0c0ed3276995",
            "_dom_classes": [],
            "description": "",
            "_model_name": "HTMLModel",
            "placeholder": "​",
            "_view_module": "@jupyter-widgets/controls",
            "_model_module_version": "1.5.0",
            "value": " 1649664/? [00:01&lt;00:00, 1447092.92it/s]",
            "_view_count": null,
            "_view_module_version": "1.5.0",
            "description_tooltip": null,
            "_model_module": "@jupyter-widgets/controls",
            "layout": "IPY_MODEL_8b487e0eb79f414f9fa918b4476babca"
          }
        },
        "f74aec58618a4a3ab6301324210b96aa": {
          "model_module": "@jupyter-widgets/controls",
          "model_name": "ProgressStyleModel",
          "state": {
            "_view_name": "StyleView",
            "_model_name": "ProgressStyleModel",
            "description_width": "initial",
            "_view_module": "@jupyter-widgets/base",
            "_model_module_version": "1.5.0",
            "_view_count": null,
            "_view_module_version": "1.2.0",
            "bar_color": null,
            "_model_module": "@jupyter-widgets/controls"
          }
        },
        "a7a9b38c27614f7d98e8723d6bc37e1e": {
          "model_module": "@jupyter-widgets/base",
          "model_name": "LayoutModel",
          "state": {
            "_view_name": "LayoutView",
            "grid_template_rows": null,
            "right": null,
            "justify_content": null,
            "_view_module": "@jupyter-widgets/base",
            "overflow": null,
            "_model_module_version": "1.2.0",
            "_view_count": null,
            "flex_flow": null,
            "width": null,
            "min_width": null,
            "border": null,
            "align_items": null,
            "bottom": null,
            "_model_module": "@jupyter-widgets/base",
            "top": null,
            "grid_column": null,
            "overflow_y": null,
            "overflow_x": null,
            "grid_auto_flow": null,
            "grid_area": null,
            "grid_template_columns": null,
            "flex": null,
            "_model_name": "LayoutModel",
            "justify_items": null,
            "grid_row": null,
            "max_height": null,
            "align_content": null,
            "visibility": null,
            "align_self": null,
            "height": null,
            "min_height": null,
            "padding": null,
            "grid_auto_rows": null,
            "grid_gap": null,
            "max_width": null,
            "order": null,
            "_view_module_version": "1.2.0",
            "grid_template_areas": null,
            "object_position": null,
            "object_fit": null,
            "grid_auto_columns": null,
            "margin": null,
            "display": null,
            "left": null
          }
        },
        "eb7ac8a579d64d968ade0c0ed3276995": {
          "model_module": "@jupyter-widgets/controls",
          "model_name": "DescriptionStyleModel",
          "state": {
            "_view_name": "StyleView",
            "_model_name": "DescriptionStyleModel",
            "description_width": "",
            "_view_module": "@jupyter-widgets/base",
            "_model_module_version": "1.5.0",
            "_view_count": null,
            "_view_module_version": "1.2.0",
            "_model_module": "@jupyter-widgets/controls"
          }
        },
        "8b487e0eb79f414f9fa918b4476babca": {
          "model_module": "@jupyter-widgets/base",
          "model_name": "LayoutModel",
          "state": {
            "_view_name": "LayoutView",
            "grid_template_rows": null,
            "right": null,
            "justify_content": null,
            "_view_module": "@jupyter-widgets/base",
            "overflow": null,
            "_model_module_version": "1.2.0",
            "_view_count": null,
            "flex_flow": null,
            "width": null,
            "min_width": null,
            "border": null,
            "align_items": null,
            "bottom": null,
            "_model_module": "@jupyter-widgets/base",
            "top": null,
            "grid_column": null,
            "overflow_y": null,
            "overflow_x": null,
            "grid_auto_flow": null,
            "grid_area": null,
            "grid_template_columns": null,
            "flex": null,
            "_model_name": "LayoutModel",
            "justify_items": null,
            "grid_row": null,
            "max_height": null,
            "align_content": null,
            "visibility": null,
            "align_self": null,
            "height": null,
            "min_height": null,
            "padding": null,
            "grid_auto_rows": null,
            "grid_gap": null,
            "max_width": null,
            "order": null,
            "_view_module_version": "1.2.0",
            "grid_template_areas": null,
            "object_position": null,
            "object_fit": null,
            "grid_auto_columns": null,
            "margin": null,
            "display": null,
            "left": null
          }
        },
        "17931b09167e42709398211fc0032977": {
          "model_module": "@jupyter-widgets/controls",
          "model_name": "HBoxModel",
          "state": {
            "_view_name": "HBoxView",
            "_dom_classes": [],
            "_model_name": "HBoxModel",
            "_view_module": "@jupyter-widgets/controls",
            "_model_module_version": "1.5.0",
            "_view_count": null,
            "_view_module_version": "1.5.0",
            "box_style": "",
            "layout": "IPY_MODEL_ba4653d7c38d4c88819ef767f014fa70",
            "_model_module": "@jupyter-widgets/controls",
            "children": [
              "IPY_MODEL_5f4b0fcb289e4667af46ab799a4ff4b8",
              "IPY_MODEL_68f0c73e5a2e498d9ca93c7d9c5320ca"
            ]
          }
        },
        "ba4653d7c38d4c88819ef767f014fa70": {
          "model_module": "@jupyter-widgets/base",
          "model_name": "LayoutModel",
          "state": {
            "_view_name": "LayoutView",
            "grid_template_rows": null,
            "right": null,
            "justify_content": null,
            "_view_module": "@jupyter-widgets/base",
            "overflow": null,
            "_model_module_version": "1.2.0",
            "_view_count": null,
            "flex_flow": null,
            "width": null,
            "min_width": null,
            "border": null,
            "align_items": null,
            "bottom": null,
            "_model_module": "@jupyter-widgets/base",
            "top": null,
            "grid_column": null,
            "overflow_y": null,
            "overflow_x": null,
            "grid_auto_flow": null,
            "grid_area": null,
            "grid_template_columns": null,
            "flex": null,
            "_model_name": "LayoutModel",
            "justify_items": null,
            "grid_row": null,
            "max_height": null,
            "align_content": null,
            "visibility": null,
            "align_self": null,
            "height": null,
            "min_height": null,
            "padding": null,
            "grid_auto_rows": null,
            "grid_gap": null,
            "max_width": null,
            "order": null,
            "_view_module_version": "1.2.0",
            "grid_template_areas": null,
            "object_position": null,
            "object_fit": null,
            "grid_auto_columns": null,
            "margin": null,
            "display": null,
            "left": null
          }
        },
        "5f4b0fcb289e4667af46ab799a4ff4b8": {
          "model_module": "@jupyter-widgets/controls",
          "model_name": "FloatProgressModel",
          "state": {
            "_view_name": "ProgressView",
            "style": "IPY_MODEL_60cf0f075cb740c1b8326da93033efda",
            "_dom_classes": [],
            "description": "",
            "_model_name": "FloatProgressModel",
            "bar_style": "success",
            "max": 4542,
            "_view_module": "@jupyter-widgets/controls",
            "_model_module_version": "1.5.0",
            "value": 4542,
            "_view_count": null,
            "_view_module_version": "1.5.0",
            "orientation": "horizontal",
            "min": 0,
            "description_tooltip": null,
            "_model_module": "@jupyter-widgets/controls",
            "layout": "IPY_MODEL_9304b402d4a84024a23aa8a2062274ee"
          }
        },
        "68f0c73e5a2e498d9ca93c7d9c5320ca": {
          "model_module": "@jupyter-widgets/controls",
          "model_name": "HTMLModel",
          "state": {
            "_view_name": "HTMLView",
            "style": "IPY_MODEL_6acfacb1d24143fc9656662ced67572c",
            "_dom_classes": [],
            "description": "",
            "_model_name": "HTMLModel",
            "placeholder": "​",
            "_view_module": "@jupyter-widgets/controls",
            "_model_module_version": "1.5.0",
            "value": " 5120/? [06:35&lt;00:00, 12.94it/s]",
            "_view_count": null,
            "_view_module_version": "1.5.0",
            "description_tooltip": null,
            "_model_module": "@jupyter-widgets/controls",
            "layout": "IPY_MODEL_d57742e287ea4ee2988d901a45be0675"
          }
        },
        "60cf0f075cb740c1b8326da93033efda": {
          "model_module": "@jupyter-widgets/controls",
          "model_name": "ProgressStyleModel",
          "state": {
            "_view_name": "StyleView",
            "_model_name": "ProgressStyleModel",
            "description_width": "initial",
            "_view_module": "@jupyter-widgets/base",
            "_model_module_version": "1.5.0",
            "_view_count": null,
            "_view_module_version": "1.2.0",
            "bar_color": null,
            "_model_module": "@jupyter-widgets/controls"
          }
        },
        "9304b402d4a84024a23aa8a2062274ee": {
          "model_module": "@jupyter-widgets/base",
          "model_name": "LayoutModel",
          "state": {
            "_view_name": "LayoutView",
            "grid_template_rows": null,
            "right": null,
            "justify_content": null,
            "_view_module": "@jupyter-widgets/base",
            "overflow": null,
            "_model_module_version": "1.2.0",
            "_view_count": null,
            "flex_flow": null,
            "width": null,
            "min_width": null,
            "border": null,
            "align_items": null,
            "bottom": null,
            "_model_module": "@jupyter-widgets/base",
            "top": null,
            "grid_column": null,
            "overflow_y": null,
            "overflow_x": null,
            "grid_auto_flow": null,
            "grid_area": null,
            "grid_template_columns": null,
            "flex": null,
            "_model_name": "LayoutModel",
            "justify_items": null,
            "grid_row": null,
            "max_height": null,
            "align_content": null,
            "visibility": null,
            "align_self": null,
            "height": null,
            "min_height": null,
            "padding": null,
            "grid_auto_rows": null,
            "grid_gap": null,
            "max_width": null,
            "order": null,
            "_view_module_version": "1.2.0",
            "grid_template_areas": null,
            "object_position": null,
            "object_fit": null,
            "grid_auto_columns": null,
            "margin": null,
            "display": null,
            "left": null
          }
        },
        "6acfacb1d24143fc9656662ced67572c": {
          "model_module": "@jupyter-widgets/controls",
          "model_name": "DescriptionStyleModel",
          "state": {
            "_view_name": "StyleView",
            "_model_name": "DescriptionStyleModel",
            "description_width": "",
            "_view_module": "@jupyter-widgets/base",
            "_model_module_version": "1.5.0",
            "_view_count": null,
            "_view_module_version": "1.2.0",
            "_model_module": "@jupyter-widgets/controls"
          }
        },
        "d57742e287ea4ee2988d901a45be0675": {
          "model_module": "@jupyter-widgets/base",
          "model_name": "LayoutModel",
          "state": {
            "_view_name": "LayoutView",
            "grid_template_rows": null,
            "right": null,
            "justify_content": null,
            "_view_module": "@jupyter-widgets/base",
            "overflow": null,
            "_model_module_version": "1.2.0",
            "_view_count": null,
            "flex_flow": null,
            "width": null,
            "min_width": null,
            "border": null,
            "align_items": null,
            "bottom": null,
            "_model_module": "@jupyter-widgets/base",
            "top": null,
            "grid_column": null,
            "overflow_y": null,
            "overflow_x": null,
            "grid_auto_flow": null,
            "grid_area": null,
            "grid_template_columns": null,
            "flex": null,
            "_model_name": "LayoutModel",
            "justify_items": null,
            "grid_row": null,
            "max_height": null,
            "align_content": null,
            "visibility": null,
            "align_self": null,
            "height": null,
            "min_height": null,
            "padding": null,
            "grid_auto_rows": null,
            "grid_gap": null,
            "max_width": null,
            "order": null,
            "_view_module_version": "1.2.0",
            "grid_template_areas": null,
            "object_position": null,
            "object_fit": null,
            "grid_auto_columns": null,
            "margin": null,
            "display": null,
            "left": null
          }
        }
      }
    }
  },
  "cells": [
    {
      "cell_type": "markdown",
      "metadata": {
        "id": "thimR4_U4J6t"
      },
      "source": [
        "Import the necessary **libraries**"
      ]
    },
    {
      "cell_type": "code",
      "metadata": {
        "id": "0m2JWFliFfKT"
      },
      "source": [
        "from __future__ import print_function\n",
        "import torch\n",
        "import torch.nn as nn\n",
        "import torch.nn.functional as F\n",
        "import torch.optim as optim\n",
        "import numpy as np\n",
        "from torchvision import datasets, transforms\n",
        "\n",
        "import matplotlib.pyplot as plt\n",
        "%matplotlib inline"
      ],
      "execution_count": 1,
      "outputs": []
    },
    {
      "cell_type": "markdown",
      "metadata": {
        "id": "76YyvhtnIMAB"
      },
      "source": [
        "## The model is esigned to take an image and a number as an input\n",
        "\n",
        "Inside the model ,\n",
        "\n",
        "* mnist image is processed first to get the predicted number , \n",
        "* this number is then paired with the number input \n",
        "* and fed to four linear layer to learn the addition of number.\n",
        "** One hot encoding of the input number is done to create a 1x10 vector \n",
        "** torch.cat is used pair the predicted number with input number\n",
        "\n",
        "### Mnist Model summary\n",
        "\\begin{array}{ccc}\n",
        "\\text{Layer}&\\text{Input}&\\text{Output}&\\text{Receptive Field}\\\\\n",
        "Conv1&28*28*1&28*28*32&3*3\\\\\n",
        "Conv2&28*28*32&28*28*64&5*5\\\\\n",
        "Pool1&28*28*64&14*14*64&10*10\\\\\n",
        "Conv3&14*14*64&14*14*128&12*12\\\\\n",
        "Conv4&14*14*128&14*14*256&14*14\\\\\n",
        "Pool2&14*14*256&7*7*256&28*28\\\\\n",
        "Conv5&7*7*256&5*5*512&30*30\\\\\n",
        "Conv6&5*5*512&3*3*1024&32*32\\\\\n",
        "Conv7&3*3*1024&1*1*10&34*34\\\\\n",
        "\\end{array}\n",
        "\n",
        "\n",
        "### Adder model summary\n",
        "\\begin{array}{ccc}\n",
        "\\text{Layer}&\\text{Input}&\\text{Output}\\\\\n",
        "fc1&1*1*20&1*1*200\\\\\n",
        "fc2&1*1*200&1*1*400\\\\\n",
        "fc3&1*1*400&1*1*800\\\\\n",
        "fc4&1*1*800&1*1*20\\\\\n",
        "\\end{array}"
      ]
    },
    {
      "cell_type": "code",
      "metadata": {
        "id": "h_Cx9q2QFgM7"
      },
      "source": [
        "class Net(nn.Module):\n",
        "    def __init__(self):\n",
        "        super(Net, self).__init__()\n",
        "        self.conv1 = nn.Conv2d(1, 32, 3, padding=1) \n",
        "        self.conv2 = nn.Conv2d(32, 64, 3, padding=1) \n",
        "        self.pool1 = nn.MaxPool2d(2, 2)\n",
        "        self.conv3 = nn.Conv2d(64, 128, 3, padding=1)\n",
        "        self.conv4 = nn.Conv2d(128, 256, 3, padding=1)\n",
        "        self.pool2 = nn.MaxPool2d(2, 2)\n",
        "        self.conv5 = nn.Conv2d(256, 512, 3)\n",
        "        self.conv6 = nn.Conv2d(512, 1024, 3)\n",
        "        self.conv7 = nn.Conv2d(1024, 10, 3)\n",
        "        self.fc1 = nn.Linear(9216, 10)\n",
        "        self.lin1 = nn.Linear(20, 200 , bias = True)\n",
        "        self.lin2 = nn.Linear(200, 400 , bias = True)\n",
        "        self.lin3 = nn.Linear(400, 800 , bias = True)\n",
        "        self.lin4 = nn.Linear(800, 20 , bias = False)\n",
        "\n",
        "\n",
        "    def forward(self, x , x2 = None):\n",
        "        # process the mnist image\n",
        "        x = self.pool1(F.relu(self.conv2(F.relu(self.conv1(x)))))\n",
        "        x = self.pool2(F.relu(self.conv4(F.relu(self.conv3(x)))))\n",
        "        \n",
        "        x = F.relu(self.conv6(F.relu(self.conv5(x))))\n",
        "        \n",
        "        x = (self.conv7(x))\n",
        "\n",
        "        x = x.view(-1, 10)\n",
        "\n",
        "        x = F.log_softmax(x)\n",
        "\n",
        "        # initialize an empty tensor , this is required to get the model summary\n",
        "        x_in = torch.empty(x.size()[0], 20)#, dtype=torch.float32)\n",
        "\n",
        "        # take the mnist image out put and pair with the input number\n",
        "        if (x2 != None):\n",
        "          onehotx2 = torch.nn.functional.one_hot(x2 , num_classes=10)\n",
        "\n",
        "          x_in = torch.cat((x.view(x.size(0), -1),\n",
        "                          onehotx2.view(onehotx2.size(0), -1)), dim=1)\n",
        "        \n",
        "        x_in = x_in.to(device)\n",
        "\n",
        "        # process the pair to add the numbers\n",
        "        x_in = self.lin1(x_in)\n",
        "        x_in = torch.tanh(x_in)\n",
        "        \n",
        "        x_in = self.lin2(x_in)\n",
        "        x_in = torch.tanh(x_in)\n",
        "\n",
        "        x_in = self.lin3(x_in)\n",
        "        x_in = torch.tanh(x_in)\n",
        "\n",
        "        x_in = self.lin4(x_in)\n",
        "        x_in = x_in.view(-1, 20)\n",
        "        x_in = F.log_softmax(x_in)\n",
        "        \n",
        "        return x_in"
      ],
      "execution_count": 2,
      "outputs": []
    },
    {
      "cell_type": "markdown",
      "metadata": {
        "id": "x28yCvzybWwJ"
      },
      "source": [
        "## summary\n",
        " \n",
        "\\begin{array}{ccc}\n",
        "\\text{Layer}&\\text{calculation}&\\text{No of parameters}\\\\\n",
        "Conv1&3*3*32 + 32(bias)&320\\\\\n",
        "Conv2&3*3*32*64 + 64(bias)&18,496\\\\\n",
        "Conv3&3*3*64*128 + 128(bias)&73,856\\\\\n",
        "Conv4&3*3*128*256 + 256(bias)&295,168\\\\\n",
        "Conv5&3*3*256*512 + 512(bias)&1,180,160\\\\\n",
        "Conv6&3*3*512*1024 + 1024(bias)&4,719,616\\\\\n",
        "Conv7&3*3*1024*10 + 10(bias)&92,170\\\\\n",
        "fc1&20*200 + 200(bias)&4200\\\\\n",
        "fc2&200*400 + 400(bias)&80400\\\\\n",
        "fc3&400*800 + 800(bias)&320800\\\\\n",
        "fc4&800*20 + 0(bias)&16000\\\\\n",
        "\\end{array}"
      ]
    },
    {
      "cell_type": "code",
      "metadata": {
        "id": "xdydjYTZFyi3",
        "colab": {
          "base_uri": "https://localhost:8080/"
        },
        "outputId": "a905d8a4-4b3a-4295-fa5d-bbb70bab811b"
      },
      "source": [
        "!pip install torchsummary\n",
        "from torchsummary import summary\n",
        "\n",
        "# Check if gpu is available \n",
        "use_cuda = torch.cuda.is_available()\n",
        "device = torch.device(\"cuda\" if use_cuda else \"cpu\")\n",
        "# direct the model to run in GPU\n",
        "model = Net().to(device)\n",
        "# give a summary of the model like output of each layer , number of parameters in each layer\n",
        "summary(model, input_size=(1, 28, 28))"
      ],
      "execution_count": 3,
      "outputs": [
        {
          "output_type": "stream",
          "text": [
            "Requirement already satisfied: torchsummary in /usr/local/lib/python3.7/dist-packages (1.5.1)\n",
            "----------------------------------------------------------------\n",
            "        Layer (type)               Output Shape         Param #\n",
            "================================================================\n",
            "            Conv2d-1           [-1, 32, 28, 28]             320\n",
            "            Conv2d-2           [-1, 64, 28, 28]          18,496\n",
            "         MaxPool2d-3           [-1, 64, 14, 14]               0\n",
            "            Conv2d-4          [-1, 128, 14, 14]          73,856\n",
            "            Conv2d-5          [-1, 256, 14, 14]         295,168\n",
            "         MaxPool2d-6            [-1, 256, 7, 7]               0\n",
            "            Conv2d-7            [-1, 512, 5, 5]       1,180,160\n",
            "            Conv2d-8           [-1, 1024, 3, 3]       4,719,616\n",
            "            Conv2d-9             [-1, 10, 1, 1]          92,170\n",
            "           Linear-10                  [-1, 200]           4,200\n",
            "           Linear-11                  [-1, 400]          80,400\n",
            "           Linear-12                  [-1, 800]         320,800\n",
            "           Linear-13                   [-1, 20]          16,000\n",
            "================================================================\n",
            "Total params: 6,801,186\n",
            "Trainable params: 6,801,186\n",
            "Non-trainable params: 0\n",
            "----------------------------------------------------------------\n",
            "Input size (MB): 0.00\n",
            "Forward/backward pass size (MB): 1.52\n",
            "Params size (MB): 25.94\n",
            "Estimated Total Size (MB): 27.47\n",
            "----------------------------------------------------------------\n"
          ],
          "name": "stdout"
        },
        {
          "output_type": "stream",
          "text": [
            "/usr/local/lib/python3.7/dist-packages/ipykernel_launcher.py:31: UserWarning: Implicit dimension choice for log_softmax has been deprecated. Change the call to include dim=X as an argument.\n",
            "/usr/local/lib/python3.7/dist-packages/ipykernel_launcher.py:57: UserWarning: Implicit dimension choice for log_softmax has been deprecated. Change the call to include dim=X as an argument.\n"
          ],
          "name": "stderr"
        }
      ]
    },
    {
      "cell_type": "markdown",
      "metadata": {
        "id": "_Z5Dr0iuDM6c"
      },
      "source": [
        "### Pre-processing\n",
        "\n",
        "\n",
        "\n",
        "*   Take a batch size of 128\n",
        "*   Call the DataLoader api \n",
        "*   > use the MNIST dataset from pytorch\n",
        "*   > normalize the data - mean = 0.1307 , std = 0.3081\n",
        "*   > shuffle the data \n",
        "\n",
        "\n",
        "\n",
        "\n"
      ]
    },
    {
      "cell_type": "code",
      "metadata": {
        "id": "DqTWLaM5GHgH",
        "colab": {
          "base_uri": "https://localhost:8080/",
          "height": 852,
          "referenced_widgets": [
            "fed81a2007194e2fb18c020cdb66cb4d",
            "aac457cc7dcd46e58f34f6cf979b3eba",
            "519ccf5c03414d4b99b15d85b525397c",
            "5e7d87871de34cffa163a694f8983d86",
            "5171c9803eee453db7f272f87ce83432",
            "0e0e6391137a40488578d59e94a91a73",
            "dc11988141c34812bac73aa5d4b9c8dc",
            "d176501031cb473d9e18c3c2579f60d2",
            "b808bcb0ac2347f6b1ad1e01b6f6a30d",
            "683403df48b94f5eba9a168c8907b651",
            "26d0319a65044b9e8c32aebb689c50f1",
            "cbb5c3ceca724f679b59c5743d1a8815",
            "dbd5903b7bb54657a2b90c1345327c61",
            "3a829e9d56d84209a41dc4eb7ec2f97a",
            "493a490e56de4df290c55b0d08d2753d",
            "b8082e2b76614e1c9d7fafc6dda9a2ee",
            "f0c0a2e27554421687eb3ea804fa56a8",
            "bfbe559ab9f248729e3946f142d93bcc",
            "580ccd16af674e08a66fa726d2a54575",
            "94d002c63b004950a4cccae63e51db28",
            "f74aec58618a4a3ab6301324210b96aa",
            "a7a9b38c27614f7d98e8723d6bc37e1e",
            "eb7ac8a579d64d968ade0c0ed3276995",
            "8b487e0eb79f414f9fa918b4476babca",
            "17931b09167e42709398211fc0032977",
            "ba4653d7c38d4c88819ef767f014fa70",
            "5f4b0fcb289e4667af46ab799a4ff4b8",
            "68f0c73e5a2e498d9ca93c7d9c5320ca",
            "60cf0f075cb740c1b8326da93033efda",
            "9304b402d4a84024a23aa8a2062274ee",
            "6acfacb1d24143fc9656662ced67572c",
            "d57742e287ea4ee2988d901a45be0675"
          ]
        },
        "outputId": "ee31b6d6-515e-473b-d35e-d75b337adc3a"
      },
      "source": [
        "\n",
        "\n",
        "torch.manual_seed(1)\n",
        "batch_size = 128\n",
        "\n",
        "kwargs = {'num_workers': 1, 'pin_memory': True} if use_cuda else {}\n",
        "train_loader = torch.utils.data.DataLoader(\n",
        "    datasets.MNIST('../data', train=True, download=True,\n",
        "                    transform=transforms.Compose([\n",
        "                        transforms.ToTensor(),\n",
        "                        transforms.Normalize((0.1307,), (0.3081,))\n",
        "                    ])),\n",
        "    batch_size=batch_size, shuffle=True, **kwargs)\n",
        "test_loader = torch.utils.data.DataLoader(\n",
        "    datasets.MNIST('../data', train=False, transform=transforms.Compose([\n",
        "                        transforms.ToTensor(),\n",
        "                        transforms.Normalize((0.1307,), (0.3081,))\n",
        "                    ])),\n",
        "    batch_size=batch_size, shuffle=True, **kwargs)\n"
      ],
      "execution_count": 4,
      "outputs": [
        {
          "output_type": "stream",
          "text": [
            "Downloading http://yann.lecun.com/exdb/mnist/train-images-idx3-ubyte.gz\n",
            "Failed to download (trying next):\n",
            "HTTP Error 503: Service Unavailable\n",
            "\n",
            "Downloading https://ossci-datasets.s3.amazonaws.com/mnist/train-images-idx3-ubyte.gz\n",
            "Downloading https://ossci-datasets.s3.amazonaws.com/mnist/train-images-idx3-ubyte.gz to ../data/MNIST/raw/train-images-idx3-ubyte.gz\n"
          ],
          "name": "stdout"
        },
        {
          "output_type": "display_data",
          "data": {
            "application/vnd.jupyter.widget-view+json": {
              "model_id": "fed81a2007194e2fb18c020cdb66cb4d",
              "version_minor": 0,
              "version_major": 2
            },
            "text/plain": [
              "HBox(children=(FloatProgress(value=0.0, max=9912422.0), HTML(value='')))"
            ]
          },
          "metadata": {
            "tags": []
          }
        },
        {
          "output_type": "stream",
          "text": [
            "\n",
            "Extracting ../data/MNIST/raw/train-images-idx3-ubyte.gz to ../data/MNIST/raw\n",
            "\n",
            "Downloading http://yann.lecun.com/exdb/mnist/train-labels-idx1-ubyte.gz\n",
            "Failed to download (trying next):\n",
            "HTTP Error 503: Service Unavailable\n",
            "\n",
            "Downloading https://ossci-datasets.s3.amazonaws.com/mnist/train-labels-idx1-ubyte.gz\n",
            "Downloading https://ossci-datasets.s3.amazonaws.com/mnist/train-labels-idx1-ubyte.gz to ../data/MNIST/raw/train-labels-idx1-ubyte.gz\n"
          ],
          "name": "stdout"
        },
        {
          "output_type": "display_data",
          "data": {
            "application/vnd.jupyter.widget-view+json": {
              "model_id": "b808bcb0ac2347f6b1ad1e01b6f6a30d",
              "version_minor": 0,
              "version_major": 2
            },
            "text/plain": [
              "HBox(children=(FloatProgress(value=0.0, max=28881.0), HTML(value='')))"
            ]
          },
          "metadata": {
            "tags": []
          }
        },
        {
          "output_type": "stream",
          "text": [
            "\n",
            "Extracting ../data/MNIST/raw/train-labels-idx1-ubyte.gz to ../data/MNIST/raw\n",
            "\n",
            "Downloading http://yann.lecun.com/exdb/mnist/t10k-images-idx3-ubyte.gz\n",
            "Downloading http://yann.lecun.com/exdb/mnist/t10k-images-idx3-ubyte.gz to ../data/MNIST/raw/t10k-images-idx3-ubyte.gz\n",
            "Failed to download (trying next):\n",
            "HTTP Error 503: Service Unavailable\n",
            "\n",
            "Downloading https://ossci-datasets.s3.amazonaws.com/mnist/t10k-images-idx3-ubyte.gz\n",
            "Downloading https://ossci-datasets.s3.amazonaws.com/mnist/t10k-images-idx3-ubyte.gz to ../data/MNIST/raw/t10k-images-idx3-ubyte.gz\n"
          ],
          "name": "stdout"
        },
        {
          "output_type": "display_data",
          "data": {
            "application/vnd.jupyter.widget-view+json": {
              "model_id": "f0c0a2e27554421687eb3ea804fa56a8",
              "version_minor": 0,
              "version_major": 2
            },
            "text/plain": [
              "HBox(children=(FloatProgress(value=0.0, max=1648877.0), HTML(value='')))"
            ]
          },
          "metadata": {
            "tags": []
          }
        },
        {
          "output_type": "stream",
          "text": [
            "\n",
            "Extracting ../data/MNIST/raw/t10k-images-idx3-ubyte.gz to ../data/MNIST/raw\n",
            "\n",
            "Downloading http://yann.lecun.com/exdb/mnist/t10k-labels-idx1-ubyte.gz\n",
            "Downloading http://yann.lecun.com/exdb/mnist/t10k-labels-idx1-ubyte.gz to ../data/MNIST/raw/t10k-labels-idx1-ubyte.gz\n"
          ],
          "name": "stdout"
        },
        {
          "output_type": "display_data",
          "data": {
            "application/vnd.jupyter.widget-view+json": {
              "model_id": "17931b09167e42709398211fc0032977",
              "version_minor": 0,
              "version_major": 2
            },
            "text/plain": [
              "HBox(children=(FloatProgress(value=0.0, max=4542.0), HTML(value='')))"
            ]
          },
          "metadata": {
            "tags": []
          }
        },
        {
          "output_type": "stream",
          "text": [
            "\n",
            "Extracting ../data/MNIST/raw/t10k-labels-idx1-ubyte.gz to ../data/MNIST/raw\n",
            "\n",
            "Processing...\n",
            "Done!\n"
          ],
          "name": "stdout"
        },
        {
          "output_type": "stream",
          "text": [
            "/usr/local/lib/python3.7/dist-packages/torchvision/datasets/mnist.py:502: UserWarning: The given NumPy array is not writeable, and PyTorch does not support non-writeable tensors. This means you can write to the underlying (supposedly non-writeable) NumPy array using the tensor. You may want to copy the array to protect its data or make it writeable before converting it to a tensor. This type of warning will be suppressed for the rest of this program. (Triggered internally at  /pytorch/torch/csrc/utils/tensor_numpy.cpp:143.)\n",
            "  return torch.from_numpy(parsed.astype(m[2], copy=False)).view(*s)\n"
          ],
          "name": "stderr"
        }
      ]
    },
    {
      "cell_type": "markdown",
      "metadata": {
        "id": "Pr07HgtCLYwh"
      },
      "source": [
        "### Function to train \n",
        "\n",
        "*   model -> set the mode to train \n",
        "*   tqdm is used to show progress bar while looping through the train/test dataset\n",
        "*   while looping through each batch of train data and label\n",
        "*   create a batch of random integer between 0 - 9 , this is the second input to the model\n",
        "*   add the labels and second input to create the target label for the adder model\n",
        "*   set the device for each of the input \n",
        "*   set the gradient to zero before doing backpropogation , because pytorch accumulates the gradient on subsequent backward passes. \n",
        "*   train the model on each batch \n",
        "*   get the crossentropy loss between the predicted label and the true label\n",
        "*   backpropogate the loss to readjust the parameter weights\n",
        "\n",
        "*What is the loss function?*\n",
        "\n",
        "It is crossentropy loss between the predicted sum of two numbers and the actual sum of two numbers\n",
        "\n",
        "### Function to test \n",
        "\n",
        "\n",
        "*   model -> set the mode to eval \n",
        "*   disable gradient calculation\n",
        "*   while looping through each batch of test data and label\n",
        "*   create a batch of random integer between 0 - 9 , this is the second input to the model\n",
        "*   add the labels and second input to create the target label for the adder model\n",
        "*   set the device for each of the input \n",
        "*   test the model on each batch \n",
        "*   get the crossentropy loss between the predicted label and the true label \n",
        "*   sum the batch loss\n",
        "*   find the number of correct prediction\n",
        "*   measure the accuracy of the model = correct / total number of records\n",
        "\n",
        "\n"
      ]
    },
    {
      "cell_type": "code",
      "metadata": {
        "id": "8fDefDhaFlwH"
      },
      "source": [
        "from tqdm import tqdm\n",
        "def train(model, device, train_loader, optimizer, epoch):\n",
        "    model.train()\n",
        "    pbar = tqdm(train_loader)\n",
        "    for batch_idx, (data, target) in enumerate(pbar):\n",
        "        randinpt =  np.random.randint(low=0, high=10, size=(target.size()[0],))\n",
        "        randlabel = torch.tensor(randinpt, dtype=torch.int32)\n",
        "        input2 = torch.tensor(randinpt, dtype=torch.long)\n",
        "        \n",
        "        sumLabel = randlabel + target\n",
        "        data, target = data.to(device), target.to(device)\n",
        "        input2 , sumLabel  = input2.to(device) , sumLabel.to(device)\n",
        "        optimizer.zero_grad()\n",
        "        output = model(data ,input2)\n",
        "        \n",
        "        loss = F.cross_entropy(output, sumLabel)\n",
        "        loss.backward()\n",
        "        optimizer.step()\n",
        "        pbar.set_description(desc= f'loss={loss.item()} batch_id={batch_idx}')\n",
        "\n",
        "\n",
        "def test(model, device, test_loader):\n",
        "    model.eval()\n",
        "    test_loss = 0\n",
        "    correct = 0\n",
        "    \n",
        "    with torch.no_grad():\n",
        "        for data, target in test_loader:\n",
        "            randinpttest =  np.random.randint(low=0, high=10, size=(target.size()[0],))\n",
        "            randlabeltest = torch.tensor(randinpttest, dtype=torch.int32)\n",
        "            input2test = torch.tensor(randinpttest, dtype=torch.long)\n",
        "            #input2test = torch.tensor(randinpttest, dtype=torch.float32)\n",
        "            sumLabeltest = randlabeltest + target\n",
        "\n",
        "            data, target = data.to(device), target.to(device)\n",
        "            input2test , sumLabeltest  = input2test.to(device) , sumLabeltest.to(device) \n",
        "\n",
        "            output = model(data,input2test)\n",
        "            test_loss += F.cross_entropy(output, sumLabeltest, reduction='sum').item()  # sum up batch loss\n",
        "            pred = output.argmax(dim=1, keepdim=True)  # get the index of the max log-probability\n",
        "            correct += pred.eq(sumLabeltest.view_as(pred)).sum().item()\n",
        "            #print('pred ' , pred , '- \\n actual - ',sumLabeltest)\n",
        "\n",
        "    test_loss /= len(test_loader.dataset)\n",
        "\n",
        "    print('\\nTest set: Average loss: {:.4f}, Accuracy: {}/{} ({:.0f}%)\\n'.format(\n",
        "        test_loss, correct, len(test_loader.dataset),\n",
        "        100. * correct / len(test_loader.dataset)))\n",
        "    return test_loss , 100. * correct / len(test_loader.dataset)"
      ],
      "execution_count": 5,
      "outputs": []
    },
    {
      "cell_type": "markdown",
      "metadata": {
        "id": "9QGQLNrO5c1i"
      },
      "source": [
        "### run the model on the train data and evaluate the model on test data\n",
        "\n",
        "*   Use stochastic gradient descent to backpropogate and upddate the parameters\n",
        "*   for each epoch , train the model and evaluate it performance on test data\n",
        "\n"
      ]
    },
    {
      "cell_type": "code",
      "metadata": {
        "id": "MMWbLWO6FuHb",
        "colab": {
          "base_uri": "https://localhost:8080/"
        },
        "outputId": "f8051f18-e827-4617-be06-8d2b72a727d3"
      },
      "source": [
        "model = Net().to(device)\n",
        "optimizer = optim.SGD(model.parameters(), lr=0.1, momentum=0.9)\n",
        "losslist = []\n",
        "accrylist = []\n",
        "for epoch in range(1, 10):\n",
        "    train(model, device, train_loader, optimizer, epoch)\n",
        "    loss , accry = test(model, device, test_loader)\n",
        "    losslist.append(loss)\n",
        "    accrylist.append(accry)"
      ],
      "execution_count": 6,
      "outputs": [
        {
          "output_type": "stream",
          "text": [
            "\r  0%|          | 0/469 [00:00<?, ?it/s]/usr/local/lib/python3.7/dist-packages/ipykernel_launcher.py:31: UserWarning: Implicit dimension choice for log_softmax has been deprecated. Change the call to include dim=X as an argument.\n",
            "/usr/local/lib/python3.7/dist-packages/ipykernel_launcher.py:57: UserWarning: Implicit dimension choice for log_softmax has been deprecated. Change the call to include dim=X as an argument.\n",
            "loss=1.3332964181900024 batch_id=468: 100%|██████████| 469/469 [00:40<00:00, 11.49it/s]\n",
            "  0%|          | 0/469 [00:00<?, ?it/s]"
          ],
          "name": "stderr"
        },
        {
          "output_type": "stream",
          "text": [
            "\n",
            "Test set: Average loss: 1.5624, Accuracy: 3700/10000 (37%)\n",
            "\n"
          ],
          "name": "stdout"
        },
        {
          "output_type": "stream",
          "text": [
            "loss=0.5507938861846924 batch_id=468: 100%|██████████| 469/469 [00:41<00:00, 11.38it/s]\n",
            "  0%|          | 0/469 [00:00<?, ?it/s]"
          ],
          "name": "stderr"
        },
        {
          "output_type": "stream",
          "text": [
            "\n",
            "Test set: Average loss: 0.4135, Accuracy: 8980/10000 (90%)\n",
            "\n"
          ],
          "name": "stdout"
        },
        {
          "output_type": "stream",
          "text": [
            "loss=0.26250407099723816 batch_id=468: 100%|██████████| 469/469 [00:40<00:00, 11.46it/s]\n",
            "  0%|          | 0/469 [00:00<?, ?it/s]"
          ],
          "name": "stderr"
        },
        {
          "output_type": "stream",
          "text": [
            "\n",
            "Test set: Average loss: 0.3356, Accuracy: 9301/10000 (93%)\n",
            "\n"
          ],
          "name": "stdout"
        },
        {
          "output_type": "stream",
          "text": [
            "loss=0.2011893391609192 batch_id=468: 100%|██████████| 469/469 [00:41<00:00, 11.38it/s]\n",
            "  0%|          | 0/469 [00:00<?, ?it/s]"
          ],
          "name": "stderr"
        },
        {
          "output_type": "stream",
          "text": [
            "\n",
            "Test set: Average loss: 0.1931, Accuracy: 9534/10000 (95%)\n",
            "\n"
          ],
          "name": "stdout"
        },
        {
          "output_type": "stream",
          "text": [
            "loss=0.21401084959506989 batch_id=468: 100%|██████████| 469/469 [00:41<00:00, 11.37it/s]\n",
            "  0%|          | 0/469 [00:00<?, ?it/s]"
          ],
          "name": "stderr"
        },
        {
          "output_type": "stream",
          "text": [
            "\n",
            "Test set: Average loss: 0.1484, Accuracy: 9676/10000 (97%)\n",
            "\n"
          ],
          "name": "stdout"
        },
        {
          "output_type": "stream",
          "text": [
            "loss=0.1360577493906021 batch_id=468: 100%|██████████| 469/469 [00:40<00:00, 11.44it/s]\n",
            "  0%|          | 0/469 [00:00<?, ?it/s]"
          ],
          "name": "stderr"
        },
        {
          "output_type": "stream",
          "text": [
            "\n",
            "Test set: Average loss: 0.1767, Accuracy: 9591/10000 (96%)\n",
            "\n"
          ],
          "name": "stdout"
        },
        {
          "output_type": "stream",
          "text": [
            "loss=0.1358906328678131 batch_id=468: 100%|██████████| 469/469 [00:40<00:00, 11.49it/s]\n",
            "  0%|          | 0/469 [00:00<?, ?it/s]"
          ],
          "name": "stderr"
        },
        {
          "output_type": "stream",
          "text": [
            "\n",
            "Test set: Average loss: 0.1497, Accuracy: 9656/10000 (97%)\n",
            "\n"
          ],
          "name": "stdout"
        },
        {
          "output_type": "stream",
          "text": [
            "loss=0.1544339507818222 batch_id=468: 100%|██████████| 469/469 [00:40<00:00, 11.53it/s]\n",
            "  0%|          | 0/469 [00:00<?, ?it/s]"
          ],
          "name": "stderr"
        },
        {
          "output_type": "stream",
          "text": [
            "\n",
            "Test set: Average loss: 0.1540, Accuracy: 9658/10000 (97%)\n",
            "\n"
          ],
          "name": "stdout"
        },
        {
          "output_type": "stream",
          "text": [
            "loss=0.1351614147424698 batch_id=468: 100%|██████████| 469/469 [00:40<00:00, 11.50it/s]\n"
          ],
          "name": "stderr"
        },
        {
          "output_type": "stream",
          "text": [
            "\n",
            "Test set: Average loss: 0.1926, Accuracy: 9541/10000 (95%)\n",
            "\n"
          ],
          "name": "stdout"
        }
      ]
    },
    {
      "cell_type": "markdown",
      "metadata": {
        "id": "TJ2w0XXxUsch"
      },
      "source": [
        "## Plot the performance of the model i.e loss and accuracy across epochs\n",
        "\n"
      ]
    },
    {
      "cell_type": "code",
      "metadata": {
        "id": "uxhs2t2VH_kY",
        "colab": {
          "base_uri": "https://localhost:8080/",
          "height": 915
        },
        "outputId": "d622d062-c047-4659-bb12-d6370f213ed8"
      },
      "source": [
        "xpoints = np.arange(len(losslist))\n",
        "ypoints0 = losslist\n",
        "ypoints2 = accrylist\n",
        "\n",
        "plt.rcParams['figure.figsize'] = [20, 15]\n",
        "plt.plot(xpoints, ypoints0 , label = \"loss\")  #\"$lr=\"+str(LRARRAY[0])+\"$\" )\n",
        "plt.plot(xpoints, ypoints2, label = \"accuracy\")\n",
        "\n",
        "plt.legend(loc=\"upper right\")\n",
        "\n",
        "plt.title(\"model performance\", fontsize=16, fontweight='bold')\n",
        "plt.xlabel(\"x\")\n",
        "plt.ylabel(\"loss - accuracy\")\n",
        "plt.show()"
      ],
      "execution_count": 7,
      "outputs": [
        {
          "output_type": "display_data",
          "data": {
            "image/png": "[encoded data removed]",
            "text/plain": [
              "<Figure size 1440x1080 with 1 Axes>"
            ]
          },
          "metadata": {
            "tags": [],
            "needs_background": "light"
          }
        }
      ]
    },
    {
      "cell_type": "markdown",
      "metadata": {
        "id": "6NLJYzd6JNQi"
      },
      "source": [
        "## Show the model performance on a sample dataset\n",
        "\n",
        "* Take a batch from the test data\n",
        "* get the image and label from the batch\n",
        "* generate a batch of random integers between 0 and 9 , this is input 2\n",
        "* add the labels and input2 to get the actual sum\n",
        "* feed the images and input2 to the model to get the predicted sum\n",
        "* Show the array of predicted sum and actual sum"
      ]
    },
    {
      "cell_type": "code",
      "metadata": {
        "id": "N33WUq9W8cfh"
      },
      "source": [
        "def get_num_correct(preds, labels):\n",
        "  return preds.argmax(dim=1).eq(labels).sum().item()"
      ],
      "execution_count": null,
      "outputs": []
    },
    {
      "cell_type": "code",
      "metadata": {
        "colab": {
          "base_uri": "https://localhost:8080/"
        },
        "id": "4bO6aByV8cca",
        "outputId": "b17f6a8f-8b69-466f-e429-16c56e0771b8"
      },
      "source": [
        "batch = next(iter(test_loader))\n",
        "len(batch)\n",
        "images, labels = batch\n",
        "\n",
        "randinpts =  np.random.randint(low=0, high=10, size=(labels.size()[0],))\n",
        "randlabels = torch.tensor(randinpts, dtype=torch.int32)\n",
        "input2s = torch.tensor(randinpts, dtype=torch.long)\n",
        "sumtestlabels = randlabels + labels\n",
        "\n",
        "images, labels = images.to(device), labels.to(device)\n",
        "input2s , sumtestlabels  = input2s.to(device) , sumtestlabels.to(device) \n",
        "\n",
        "output = model(images,input2s)\n",
        "\n",
        "predsum = output.argmax(dim=1)   \n",
        "\n",
        "print('pred -', predsum , '\\n - actual sum -',sumtestlabels )"
      ],
      "execution_count": 9,
      "outputs": [
        {
          "output_type": "stream",
          "text": [
            "pred - tensor([ 6,  7, 11, 10, 17, 10,  6,  3, 15, 14,  8,  6, 17, 17,  8, 18,  7, 15,\n",
            "         2, 13,  5,  2,  5, 10,  7,  6,  9,  7,  9,  9,  5,  7,  9,  5, 11, 13,\n",
            "         4, 17, 15,  6, 13,  9,  3,  6, 10, 16, 16,  7,  9,  6,  6, 13,  4,  9,\n",
            "        13,  6,  6, 13,  2,  6,  8,  8,  6, 13, 11,  9, 16,  7,  9, 11, 18, 14,\n",
            "         7, 15,  8,  5,  9,  5,  4, 17, 10, 15,  5,  9,  5, 11,  8,  9,  6,  7,\n",
            "         2,  9, 10, 16,  3,  8,  4, 10,  3, 11,  4,  4, 13, 16,  9, 13,  7, 15,\n",
            "         8,  9,  8,  5,  7, 13, 13, 17, 10,  5,  4,  9,  5, 13, 15, 15, 12, 14,\n",
            "        11, 10], device='cuda:0') \n",
            " - actual sum - tensor([ 6,  7, 11, 10, 17, 10,  6,  3, 15, 14,  8,  6, 17, 17,  8, 18,  7,  6,\n",
            "         2, 13,  5,  2,  5, 10,  7,  6,  9,  7,  9,  9,  5,  7,  9,  5, 11, 13,\n",
            "         4, 17, 15,  6, 13,  9,  3,  6, 10, 16, 16,  7,  9,  6,  6, 13,  4,  9,\n",
            "        13,  6,  6, 13,  2,  6,  8,  8,  6, 13, 11,  9, 16,  7,  9, 11, 18, 14,\n",
            "         7, 14,  8,  5,  9,  5,  4, 17, 10, 15,  5,  9,  5, 11,  8,  9,  6,  7,\n",
            "         2, 10, 10, 16,  3,  8,  9, 10,  3, 11,  4,  4, 11, 16,  8, 13,  7, 15,\n",
            "         8,  9,  8,  5,  7, 13, 13, 17, 10,  5,  4,  9,  5, 13, 15, 15, 12, 14,\n",
            "         6, 10], device='cuda:0')\n"
          ],
          "name": "stdout"
        },
        {
          "output_type": "stream",
          "text": [
            "/usr/local/lib/python3.7/dist-packages/ipykernel_launcher.py:31: UserWarning: Implicit dimension choice for log_softmax has been deprecated. Change the call to include dim=X as an argument.\n",
            "/usr/local/lib/python3.7/dist-packages/ipykernel_launcher.py:57: UserWarning: Implicit dimension choice for log_softmax has been deprecated. Change the call to include dim=X as an argument.\n"
          ],
          "name": "stderr"
        }
      ]
    },
    {
      "cell_type": "markdown",
      "metadata": {
        "id": "Wvswpib1Khv1"
      },
      "source": [
        "### Show the first image from the dataset , it is 0"
      ]
    },
    {
      "cell_type": "code",
      "metadata": {
        "colab": {
          "base_uri": "https://localhost:8080/",
          "height": 863
        },
        "id": "s4zs8eSX8cZB",
        "outputId": "4e7371f5-460b-4805-de52-ca85522a533a"
      },
      "source": [
        "first_image = np.array(images[0].cpu(), dtype='float')\n",
        "pixels = first_image.reshape((28, 28))\n",
        "plt.imshow(pixels, cmap='gray')\n",
        "plt.show()"
      ],
      "execution_count": 11,
      "outputs": [
        {
          "output_type": "display_data",
          "data": {
            "image/png": "[encoded data removed]",
            "text/plain": [
              "<Figure size 1440x1080 with 1 Axes>"
            ]
          },
          "metadata": {
            "tags": [],
            "needs_background": "light"
          }
        }
      ]
    },
    {
      "cell_type": "markdown",
      "metadata": {
        "id": "PXh84KjRKrNF"
      },
      "source": [
        "### Extract the first entry\n",
        "* true label of the image\n",
        "* input 2\n",
        "* predicted sum\n",
        "* actual sum"
      ]
    },
    {
      "cell_type": "code",
      "metadata": {
        "id": "KemVxqjV8cVM"
      },
      "source": [
        "#\"\\033[1m\" + \n",
        "result =  'Image label = '+ str(labels[0].cpu().data.numpy())\n",
        "result2 = 'Input 2 = ' + str(randlabels[0].cpu().data.numpy())\n",
        "result3 = 'Predicted sum = ' + str(predsum[0].cpu().data.numpy())\n",
        "result4 = 'Actual sum = ' + str (sumtestlabels[0].cpu().data.numpy())"
      ],
      "execution_count": 29,
      "outputs": []
    },
    {
      "cell_type": "markdown",
      "metadata": {
        "id": "xxxEUvYLLTN8"
      },
      "source": [
        "# Display the above result"
      ]
    },
    {
      "cell_type": "code",
      "metadata": {
        "colab": {
          "base_uri": "https://localhost:8080/",
          "height": 168
        },
        "id": "L1qOcdMnHF6p",
        "outputId": "7fc863e3-1808-4fa7-a96f-c86c1956c966"
      },
      "source": [
        "from IPython.display import display, Markdown\n",
        "Markdown('<strong>{}</strong><br><br><strong>{}</strong><br><br><strong>{}</strong><br><br><strong>{}</strong><br><br>'.format(result , result2 , result3 , result4 ))"
      ],
      "execution_count": 31,
      "outputs": [
        {
          "output_type": "execute_result",
          "data": {
            "text/markdown": "<strong>Image label = 0</strong><br><br><strong>Input 2 = 6</strong><br><br><strong>Predicted sum = 6</strong><br><br><strong>Actual sum = 6</strong><br><br>",
            "text/plain": [
              "<IPython.core.display.Markdown object>"
            ]
          },
          "metadata": {
            "tags": []
          },
          "execution_count": 31
        }
      ]
    }
  ]
}