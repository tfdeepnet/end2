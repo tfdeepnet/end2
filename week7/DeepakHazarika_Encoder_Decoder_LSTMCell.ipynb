{
  "nbformat": 4,
  "nbformat_minor": 0,
  "metadata": {
    "colab": {
      "name": "v6_Simple LSTMCell.ipynb",
      "provenance": [],
      "collapsed_sections": []
    },
    "kernelspec": {
      "name": "python3",
      "display_name": "Python 3"
    },
    "language_info": {
      "name": "python"
    }
  },
  "cells": [
    {
      "cell_type": "markdown",
      "metadata": {
        "id": "LzlmnUwmDW-_"
      },
      "source": [
        "### Import the required libraries"
      ]
    },
    {
      "cell_type": "code",
      "metadata": {
        "id": "ltd8uj8o5-qw"
      },
      "source": [
        "import matplotlib.pyplot as plt\n",
        "%matplotlib inline\n",
        "import numpy as np\n",
        "import pandas as pd\n",
        "import random\n",
        "import torch, torchtext\n",
        "from torchtext import data\n",
        "import torch.optim as optim\n",
        "\n",
        "import os, pickle\n",
        "\n",
        "import torch.nn as nn\n",
        "import torch.nn.functional as F\n",
        "import json"
      ],
      "execution_count": null,
      "outputs": []
    },
    {
      "cell_type": "markdown",
      "metadata": {
        "id": "IEOZp27rDeEm"
      },
      "source": [
        "### Upload the tweet csv file"
      ]
    },
    {
      "cell_type": "code",
      "metadata": {
        "id": "gY4eAjHGbFON",
        "colab": {
          "base_uri": "https://localhost:8080/",
          "height": 206
        },
        "outputId": "b4864393-c9f0-4a17-f782-820a2dc95681"
      },
      "source": [
        "\n",
        "\n",
        "df = pd.read_csv( \"/content/tweets.csv\")  #\"/content/orig_swap_del_tlt_insDF.csv\") #   \"/content/tweets.csv\")\n",
        "df.tail()"
      ],
      "execution_count": null,
      "outputs": [
        {
          "output_type": "execute_result",
          "data": {
            "text/html": [
              "<div>\n",
              "<style scoped>\n",
              "    .dataframe tbody tr th:only-of-type {\n",
              "        vertical-align: middle;\n",
              "    }\n",
              "\n",
              "    .dataframe tbody tr th {\n",
              "        vertical-align: top;\n",
              "    }\n",
              "\n",
              "    .dataframe thead th {\n",
              "        text-align: right;\n",
              "    }\n",
              "</style>\n",
              "<table border=\"1\" class=\"dataframe\">\n",
              "  <thead>\n",
              "    <tr style=\"text-align: right;\">\n",
              "      <th></th>\n",
              "      <th>tweets</th>\n",
              "      <th>labels</th>\n",
              "    </tr>\n",
              "  </thead>\n",
              "  <tbody>\n",
              "    <tr>\n",
              "      <th>1359</th>\n",
              "      <td>@liberalminds Its trending idiot.. Did you loo...</td>\n",
              "      <td>0</td>\n",
              "    </tr>\n",
              "    <tr>\n",
              "      <th>1360</th>\n",
              "      <td>RT @AstoldByBass: #KimKardashiansNextBoyfriend...</td>\n",
              "      <td>0</td>\n",
              "    </tr>\n",
              "    <tr>\n",
              "      <th>1361</th>\n",
              "      <td>RT @GatorNation41: gas was $1.92 when Obama to...</td>\n",
              "      <td>1</td>\n",
              "    </tr>\n",
              "    <tr>\n",
              "      <th>1362</th>\n",
              "      <td>@xShwag haha i know im just so smart, i mean y...</td>\n",
              "      <td>1</td>\n",
              "    </tr>\n",
              "    <tr>\n",
              "      <th>1363</th>\n",
              "      <td>#OBAMA:  DICTATOR IN TRAINING.  If he passes t...</td>\n",
              "      <td>0</td>\n",
              "    </tr>\n",
              "  </tbody>\n",
              "</table>\n",
              "</div>"
            ],
            "text/plain": [
              "                                                 tweets  labels\n",
              "1359  @liberalminds Its trending idiot.. Did you loo...       0\n",
              "1360  RT @AstoldByBass: #KimKardashiansNextBoyfriend...       0\n",
              "1361  RT @GatorNation41: gas was $1.92 when Obama to...       1\n",
              "1362  @xShwag haha i know im just so smart, i mean y...       1\n",
              "1363  #OBAMA:  DICTATOR IN TRAINING.  If he passes t...       0"
            ]
          },
          "metadata": {
            "tags": []
          },
          "execution_count": 2
        }
      ]
    },
    {
      "cell_type": "code",
      "metadata": {
        "colab": {
          "base_uri": "https://localhost:8080/"
        },
        "id": "rE-ylf6C6BJD",
        "outputId": "5ebbdae7-ef62-4ba2-f20d-80e7b485cae9"
      },
      "source": [
        "df.shape"
      ],
      "execution_count": null,
      "outputs": [
        {
          "output_type": "execute_result",
          "data": {
            "text/plain": [
              "(1364, 2)"
            ]
          },
          "metadata": {
            "tags": []
          },
          "execution_count": 3
        }
      ]
    },
    {
      "cell_type": "code",
      "metadata": {
        "colab": {
          "base_uri": "https://localhost:8080/"
        },
        "id": "dkxhrQox6Ju3",
        "outputId": "4abc1e56-085f-432f-c66c-84abb2e09fa9"
      },
      "source": [
        "df.labels.value_counts()"
      ],
      "execution_count": null,
      "outputs": [
        {
          "output_type": "execute_result",
          "data": {
            "text/plain": [
              "0    931\n",
              "1    352\n",
              "2     81\n",
              "Name: labels, dtype: int64"
            ]
          },
          "metadata": {
            "tags": []
          },
          "execution_count": 4
        }
      ]
    },
    {
      "cell_type": "markdown",
      "metadata": {
        "id": "wbqEGu8FDw4R"
      },
      "source": [
        "### Set a seed value to enable repeatibility of model performance"
      ]
    },
    {
      "cell_type": "code",
      "metadata": {
        "colab": {
          "base_uri": "https://localhost:8080/"
        },
        "id": "4kqZx2hG6e4Q",
        "outputId": "a1d2dc29-bd0e-4755-9a8a-00adf88ba530"
      },
      "source": [
        "# Manual Seed\n",
        "SEED = 43\n",
        "torch.manual_seed(SEED)"
      ],
      "execution_count": null,
      "outputs": [
        {
          "output_type": "execute_result",
          "data": {
            "text/plain": [
              "<torch._C.Generator at 0x7fcaf611ca30>"
            ]
          },
          "metadata": {
            "tags": []
          },
          "execution_count": 5
        }
      ]
    },
    {
      "cell_type": "markdown",
      "metadata": {
        "id": "WQki6r1xEHn2"
      },
      "source": [
        "### Create Field and LabelField variables to hold the comment and label information\n",
        "\n",
        "**Field** - Defines a datatype together with instructions for converting to Tensor.\n",
        "\n",
        "Field class models common text processing datatypes that can be represented by tensors. It holds a Vocab object that defines the set of possible values for elements of the field and their corresponding numerical representations. The Field object also holds other parameters relating to how a datatype should be numericalized, such as a tokenization method and the kind of Tensor that should be produced.\n",
        "\n",
        "1.   The tweet will be stored in **Tweet** Field object\n",
        "2.   The label will be stored in **Label** LabelField object\n"
      ]
    },
    {
      "cell_type": "code",
      "metadata": {
        "id": "db3eiDVx6mKf"
      },
      "source": [
        "Tweet = torchtext.legacy.data.Field(sequential = True, tokenize = 'spacy', batch_first =True, include_lengths=True)\n",
        "Label = torchtext.legacy.data.LabelField(tokenize ='spacy', is_target=True, batch_first =True, sequential =False)"
      ],
      "execution_count": null,
      "outputs": []
    },
    {
      "cell_type": "markdown",
      "metadata": {
        "id": "Mah6J3vsESsx"
      },
      "source": [
        "#### Map the 2 variables to column header \n",
        "\n",
        "| Column header | Variable name |\n",
        "| --- | --- |\n",
        "| **tweet** | Tweet |\n",
        "| **label** | Label |"
      ]
    },
    {
      "cell_type": "code",
      "metadata": {
        "id": "-by1zHIV7LPI"
      },
      "source": [
        "fields = [('tweet', Tweet), ('label', Label)]"
      ],
      "execution_count": null,
      "outputs": []
    },
    {
      "cell_type": "markdown",
      "metadata": {
        "id": "TK04HuwREqPW"
      },
      "source": [
        "### Create a list of example\n",
        "\n",
        "by doing list comprehension of the tweet and label dataframe generated from the csv file"
      ]
    },
    {
      "cell_type": "code",
      "metadata": {
        "id": "GxmCFTgk797i"
      },
      "source": [
        "example = [torchtext.legacy.data.Example.fromlist([df.tweets[i],df.labels[i]], fields) for i in range(df.shape[0])] "
      ],
      "execution_count": null,
      "outputs": []
    },
    {
      "cell_type": "markdown",
      "metadata": {
        "id": "lc9xHciZEyJu"
      },
      "source": [
        "### Create the Dataset \n",
        "\n",
        "by providing the above list of examples and the field mapping"
      ]
    },
    {
      "cell_type": "code",
      "metadata": {
        "id": "-Lj9XCy38OqE"
      },
      "source": [
        "twitterDataset = torchtext.legacy.data.Dataset(example, fields)"
      ],
      "execution_count": null,
      "outputs": []
    },
    {
      "cell_type": "code",
      "metadata": {
        "colab": {
          "base_uri": "https://localhost:8080/"
        },
        "id": "2rptONIZGBmm",
        "outputId": "05c6920e-88fb-434a-8657-e2f5d2e9259d"
      },
      "source": [
        "twitterDataset"
      ],
      "execution_count": null,
      "outputs": [
        {
          "output_type": "execute_result",
          "data": {
            "text/plain": [
              "<torchtext.legacy.data.dataset.Dataset at 0x7fca9ce6fcd0>"
            ]
          },
          "metadata": {
            "tags": []
          },
          "execution_count": 10
        }
      ]
    },
    {
      "cell_type": "markdown",
      "metadata": {
        "id": "x9ueqdslE3Me"
      },
      "source": [
        "### Split the dataset into\n",
        "\n",
        "train and validation in the ratio of **85:15**"
      ]
    },
    {
      "cell_type": "code",
      "metadata": {
        "id": "4PIA3n0l8m2x"
      },
      "source": [
        "(train, valid) = twitterDataset.split(split_ratio=[85, 15], random_state = random.seed(SEED))"
      ],
      "execution_count": null,
      "outputs": []
    },
    {
      "cell_type": "code",
      "metadata": {
        "colab": {
          "base_uri": "https://localhost:8080/"
        },
        "id": "91fhtSKS8y3T",
        "outputId": "b03b1e0d-796f-4559-a076-2d3fa48c13f4"
      },
      "source": [
        "len(train), len(valid)"
      ],
      "execution_count": null,
      "outputs": [
        {
          "output_type": "execute_result",
          "data": {
            "text/plain": [
              "(1159, 205)"
            ]
          },
          "metadata": {
            "tags": []
          },
          "execution_count": 12
        }
      ]
    },
    {
      "cell_type": "code",
      "metadata": {
        "colab": {
          "base_uri": "https://localhost:8080/"
        },
        "id": "wllgrWlVGhBw",
        "outputId": "3ec85c72-9a4a-48d7-c616-7bbb87fe5304"
      },
      "source": [
        "train.fields"
      ],
      "execution_count": null,
      "outputs": [
        {
          "output_type": "execute_result",
          "data": {
            "text/plain": [
              "{'label': <torchtext.legacy.data.field.LabelField at 0x7fca9f4afa50>,\n",
              " 'tweet': <torchtext.legacy.data.field.Field at 0x7fcaf4d6a850>}"
            ]
          },
          "metadata": {
            "tags": []
          },
          "execution_count": 13
        }
      ]
    },
    {
      "cell_type": "markdown",
      "metadata": {
        "id": "09AOF296E--e"
      },
      "source": [
        "### a training example"
      ]
    },
    {
      "cell_type": "code",
      "metadata": {
        "colab": {
          "base_uri": "https://localhost:8080/"
        },
        "id": "pCDhbBKJ81ZK",
        "outputId": "6c6f2205-3d0f-43a9-b03d-2c69cf6eb502"
      },
      "source": [
        "vars(train.examples[15])"
      ],
      "execution_count": null,
      "outputs": [
        {
          "output_type": "execute_result",
          "data": {
            "text/plain": [
              "{'label': 0,\n",
              " 'tweet': ['In',\n",
              "  'his',\n",
              "  'teen',\n",
              "  'years',\n",
              "  ',',\n",
              "  'Obama',\n",
              "  'has',\n",
              "  'been',\n",
              "  'known',\n",
              "  'to',\n",
              "  'use',\n",
              "  'marijuana',\n",
              "  'and',\n",
              "  'cocaine',\n",
              "  '.']}"
            ]
          },
          "metadata": {
            "tags": []
          },
          "execution_count": 14
        }
      ]
    },
    {
      "cell_type": "markdown",
      "metadata": {
        "id": "XPrsDbp8FEIW"
      },
      "source": [
        "A Vocab object defines the set of possible values for elements of the field and their corresponding numerical representations.\n",
        "\n",
        "Create Vocab object of the tweets and labels"
      ]
    },
    {
      "cell_type": "code",
      "metadata": {
        "id": "b_K23gxx84-K"
      },
      "source": [
        "Tweet.build_vocab(train)\n",
        "Label.build_vocab(train)"
      ],
      "execution_count": null,
      "outputs": []
    },
    {
      "cell_type": "code",
      "metadata": {
        "colab": {
          "base_uri": "https://localhost:8080/"
        },
        "id": "zCPG8VrE9MKq",
        "outputId": "dea1ab52-e399-4111-fb4b-087b2e892491"
      },
      "source": [
        "print('Size of input vocab : ', len(Tweet.vocab))\n",
        "print('Size of label vocab : ', len(Label.vocab))\n",
        "print('Top 10 words appreared repeatedly :', list(Tweet.vocab.freqs.most_common(10)))\n",
        "print('Labels : ', Label.vocab.stoi)"
      ],
      "execution_count": null,
      "outputs": [
        {
          "output_type": "stream",
          "text": [
            "Size of input vocab :  4651\n",
            "Size of label vocab :  3\n",
            "Top 10 words appreared repeatedly : [('Obama', 1069), (':', 783), ('#', 780), ('.', 761), (',', 598), ('\"', 550), ('the', 542), ('RT', 516), ('?', 419), ('to', 400)]\n",
            "Labels :  defaultdict(None, {0: 0, 1: 1, 2: 2})\n"
          ],
          "name": "stdout"
        }
      ]
    },
    {
      "cell_type": "code",
      "metadata": {
        "colab": {
          "base_uri": "https://localhost:8080/"
        },
        "id": "gBmMQQcX9SZk",
        "outputId": "c4025798-032f-45ab-d35f-8855d760cc9b"
      },
      "source": [
        "device = torch.device(\"cuda\" if torch.cuda.is_available() else \"cpu\")\n",
        "device"
      ],
      "execution_count": null,
      "outputs": [
        {
          "output_type": "execute_result",
          "data": {
            "text/plain": [
              "device(type='cuda')"
            ]
          },
          "metadata": {
            "tags": []
          },
          "execution_count": 17
        }
      ]
    },
    {
      "cell_type": "markdown",
      "metadata": {
        "id": "IYkMaqCOFWCG"
      },
      "source": [
        "### Use the BucketIterator to split and create \n",
        "\n",
        "1.   train iterator\n",
        "2.   validation iterator\n",
        "\n"
      ]
    },
    {
      "cell_type": "code",
      "metadata": {
        "id": "fIJyulXA9sEr"
      },
      "source": [
        "batch_size = 32\n",
        "train_iterator, valid_iterator = torchtext.legacy.data.BucketIterator.splits((train, valid), batch_size = batch_size, \n",
        "                                                            sort_key = lambda x: len(x.tweet),\n",
        "                                                            sort_within_batch=True, device = device)"
      ],
      "execution_count": null,
      "outputs": []
    },
    {
      "cell_type": "markdown",
      "metadata": {
        "id": "-mfSHuiZFd63"
      },
      "source": [
        "### Save the Vocab object for later use during testing"
      ]
    },
    {
      "cell_type": "code",
      "metadata": {
        "id": "l_NVSpoV-Uaj"
      },
      "source": [
        "import os, pickle\n",
        "with open('tokenizer.pkl', 'wb') as tokens: \n",
        "    pickle.dump(Tweet.vocab.stoi, tokens)"
      ],
      "execution_count": null,
      "outputs": []
    },
    {
      "cell_type": "markdown",
      "metadata": {
        "id": "RT56G_9RFk8m"
      },
      "source": [
        "### Model class for training and validation\n",
        "\n",
        "The model has\n",
        "\n",
        "1.   An embedding layer which stores the list of words seen in the dataset and has weights attached to each word.These weights are adjusted during backpropagation to enable the model to converge at global minimum.\n",
        "\n",
        "2.   The model processes words in a sentence to encode the information ,\n",
        "\n",
        ">>   the sentences in the batch are padded with 0 to match the longest sentence in the batch.Here **nn.utils.rnn.pad_sequence** is used to pad the batch of sentences.\n",
        "\n",
        ">>   hidden state and cell state are initialized to 0 , before calling the encoder.\n",
        "\n",
        "**Encoder**\n",
        "\n",
        "> *Step 1:* The word of the sentence is processed in left to right order. Each word is fed to a LSTMCell method , the hidden state returned is passed along with the next word.The hidden state is also stored in an array in the same order i.e from left to right.\n",
        "\n",
        "**Decoder**\n",
        "\n",
        "> *Step 2:* The hidden state from step 1 are vertically stacked and then reshaped to - sequence length x batch size x  embedded dimension.The hidden state of each word from the encoder and the last hidden state of the decoder is fed to  LSTMCell in a loop.\n",
        "\n",
        "3.   Output of the decoder is fed to a linear layer to return 3 class values.\n"
      ]
    },
    {
      "cell_type": "markdown",
      "metadata": {
        "id": "pTxS2HF4dJu4"
      },
      "source": [
        "### A global flag is used to check whether to print the encoder and decoder output at each step\n",
        "\n",
        "*   printEncoderDecoderOutput \n",
        "\n",
        "This flag is false during training and validation"
      ]
    },
    {
      "cell_type": "code",
      "metadata": {
        "id": "fNQnNcH6-oZZ"
      },
      "source": [
        "import torch.nn as nn\n",
        "import torch.nn.functional as F\n",
        "\n",
        "printEncoderDecoderOutput = False\n",
        "\n",
        "class classifier(nn.Module):\n",
        "    \n",
        "    # Define all the layers used in model\n",
        "    def __init__(self, vocab_size, hidden_dim, output_dim, n_layers, dropout):\n",
        "        \n",
        "        super().__init__()  \n",
        "        ## store the hidden state   \n",
        "        self.hidden_dim = hidden_dim     \n",
        "        \n",
        "        # Embedding layer\n",
        "        self.embedding = nn.Embedding(vocab_size, hidden_dim)\n",
        "        \n",
        "        # LSTMCell layer for processing words from left to right\n",
        "        self.encoder_fwd = nn.LSTMCell(hidden_dim, \n",
        "                           hidden_dim)\n",
        "\n",
        "        # LSTMCell layer to process the hidden state returned by the encoder.\n",
        "        self.decoder = nn.LSTMCell(hidden_dim, \n",
        "                           hidden_dim)\n",
        "\n",
        "        # Dense layer\n",
        "        self.fc = nn.Linear(hidden_dim, output_dim)\n",
        "        \n",
        "    def forward(self, text, text_lengths):\n",
        "        global printEncoderDecoderOutput\n",
        "\n",
        "        # Initialization of hidden state and cell state for LSTMCell\n",
        "        hidden_fwd = torch.zeros(text.size(0), self.hidden_dim)\n",
        "        cell_fwd = torch.zeros(text.size(0), self.hidden_dim)\n",
        "\n",
        "        # Weights initialization\n",
        "        torch.nn.init.xavier_normal_(hidden_fwd)\n",
        "        torch.nn.init.xavier_normal_(cell_fwd)\n",
        "        #print(text_lengths)\n",
        "\n",
        "        hidden_fwd , cell_fwd = hidden_fwd.to(device) , cell_fwd.to(device) \n",
        "        \n",
        "\n",
        "        # Initialization of hidden state and cell state for decoder LSTMCell\n",
        "        hidden_dcd = torch.zeros(text.size(0), self.hidden_dim)\n",
        "        cell_dcd = torch.zeros(text.size(0), self.hidden_dim)\n",
        "\n",
        "        # Weights initialization\n",
        "        torch.nn.init.xavier_normal_(hidden_dcd)\n",
        "        torch.nn.init.xavier_normal_(cell_dcd)\n",
        "        #print(text_lengths)\n",
        "\n",
        "        hidden_dcd , cell_dcd = hidden_dcd.to(device) , cell_dcd.to(device) \n",
        "\n",
        "        embedded = self.embedding(text)\n",
        "        # embedded = [batch size, sent_len, emb dim]\n",
        "\n",
        "        # padding the batch\n",
        "        packed_embedded = nn.utils.rnn.pad_sequence(embedded, batch_first=True)\n",
        "\n",
        "        # shuffle the packed embedded tensor to bring the 2nd dim to 1st dim , this dim holds the padded string string length.\n",
        "        # We will iterate through this tensor to fetch the words from left to right.\n",
        "        packed_embedded = packed_embedded.view(packed_embedded.data.size(1), text.size(0), -1)\n",
        "        \n",
        "        bsize = packed_embedded.data.size()[1]\n",
        "        seq_len = packed_embedded.data.size(0)\n",
        "\n",
        "        ## Encoder block\n",
        "        hiddenFwdList = []\n",
        "        for i in range(packed_embedded.data.size(0)):  \n",
        "          \n",
        "          hidden_fwd, cell_fwd = self.encoder_fwd(packed_embedded[i] , (hidden_fwd, cell_fwd))\n",
        "          # save the hidden state in a list for use during decode\n",
        "          hiddenFwdList.append(hidden_fwd)\n",
        "          \n",
        "          if printEncoderDecoderOutput:\n",
        "            print('encdr word ', i ,hidden_fwd.size(),hidden_fwd)\n",
        "\n",
        "\n",
        "        #hidden = [batch size, num layers * num directions,hid dim]\n",
        "        #cell = [batch size, num layers * num directions,hid dim]\n",
        "    \n",
        "        # create a tuple of all the hidden state from left to right\n",
        "        tup_hidden = tuple(h for h in hiddenFwdList)\n",
        "\n",
        "        # vertically stack the hidden state \n",
        "        vstack_hidden = torch.vstack(tup_hidden)\n",
        "        \n",
        "        # reshape the vertically stacked tensor to shape - batch size x seq_len x hidden dimension\n",
        "        singlehiddenvector = vstack_hidden.reshape( seq_len , bsize , -1 )\n",
        "\n",
        "        ## decode block\n",
        "        # loop through each hidden state of the encoder along with previous hidden state of decoder\n",
        "        for i in range(packed_embedded.data.size(0)):  \n",
        "          hidden_dcd, cell_dcd = self.decoder(singlehiddenvector[i] , (hidden_dcd, cell_dcd))\n",
        "          \n",
        "          if printEncoderDecoderOutput:\n",
        "            print('decd word ', i ,hidden_dcd.size(),hidden_dcd)\n",
        "          \n",
        "        \n",
        "        dense_outputs = self.fc(hidden_dcd)\n",
        "        \n",
        "        # Final activation function softmax\n",
        "        output = F.softmax(dense_outputs, dim=1)\n",
        "        \n",
        "        return output"
      ],
      "execution_count": null,
      "outputs": []
    },
    {
      "cell_type": "markdown",
      "metadata": {
        "id": "L1YPR0X0VoG9"
      },
      "source": [
        "### Set the hyperparameters before running the model\n",
        "\n",
        "1.   dropout\n",
        "2.   number of nodes in embedding layer\n",
        "3.   number of nodes in hidden layer\n",
        "4.   number of layers in LSTM\n"
      ]
    },
    {
      "cell_type": "code",
      "metadata": {
        "id": "TFNWimMMAKya"
      },
      "source": [
        "# Define hyperparameters\n",
        "size_of_vocab = len(Tweet.vocab)\n",
        "num_hidden_nodes = 100\n",
        "num_output_nodes = 3\n",
        "num_layers = 2\n",
        "dropout = 0.2\n",
        "\n",
        "# Instantiate the model\n",
        "model = classifier(size_of_vocab, num_hidden_nodes, num_output_nodes, num_layers, dropout = dropout)"
      ],
      "execution_count": null,
      "outputs": []
    },
    {
      "cell_type": "code",
      "metadata": {
        "colab": {
          "base_uri": "https://localhost:8080/"
        },
        "id": "IRextCcAASGO",
        "outputId": "ffc03d8b-e3ed-4f5f-a944-f9e805fe4e2c"
      },
      "source": [
        "print(model)\n",
        "\n",
        "#No. of trianable parameters\n",
        "def count_parameters(model):\n",
        "    return sum(p.numel() for p in model.parameters() if p.requires_grad)\n",
        "    \n",
        "print(f'The model has {count_parameters(model):,} trainable parameters')"
      ],
      "execution_count": null,
      "outputs": [
        {
          "output_type": "stream",
          "text": [
            "classifier(\n",
            "  (embedding): Embedding(4651, 100)\n",
            "  (encoder_fwd): LSTMCell(100, 100)\n",
            "  (decoder): LSTMCell(100, 100)\n",
            "  (fc): Linear(in_features=100, out_features=3, bias=True)\n",
            ")\n",
            "The model has 627,003 trainable parameters\n"
          ],
          "name": "stdout"
        }
      ]
    },
    {
      "cell_type": "markdown",
      "metadata": {
        "id": "u3rz1d_VV6Dh"
      },
      "source": [
        "### A utility function to calculate the model accuracy"
      ]
    },
    {
      "cell_type": "code",
      "metadata": {
        "id": "EPK6b19HATLm"
      },
      "source": [
        "import torch.optim as optim\n",
        "\n",
        "learning_rate = 2e-1\n",
        "# define optimizer and loss\n",
        "optimizer = optim.Adam(model.parameters(), lr=learning_rate)\n",
        "criterion = nn.CrossEntropyLoss()\n",
        "\n",
        "# define metric\n",
        "def binary_accuracy(preds, y):\n",
        "    #round predictions to the closest integer\n",
        "    _, predictions = torch.max(preds, 1)\n",
        "    \n",
        "    correct = (predictions == y).float() \n",
        "    acc = correct.sum() / len(correct)\n",
        "    return acc\n",
        "    \n",
        "# push to cuda if available\n",
        "model = model.to(device)\n",
        "criterion = criterion.to(device)"
      ],
      "execution_count": null,
      "outputs": []
    },
    {
      "cell_type": "markdown",
      "metadata": {
        "id": "Sth9nOW6WIrh"
      },
      "source": [
        "### wrapper function to train the model"
      ]
    },
    {
      "cell_type": "code",
      "metadata": {
        "id": "A8t9iWwqAify"
      },
      "source": [
        "def train(model, iterator, optimizer, criterion):\n",
        "    \n",
        "    # initialize every epoch \n",
        "    epoch_loss = 0\n",
        "    epoch_acc = 0\n",
        "    \n",
        "    # set the model in training phase\n",
        "    model.train()  \n",
        "    \n",
        "    for batch in iterator:\n",
        "        \n",
        "        # resets the gradients after every batch\n",
        "        optimizer.zero_grad()   \n",
        "        \n",
        "        # retrieve text and no. of words\n",
        "        tweet, tweet_lengths = batch.tweet \n",
        "        tweet, tweet_lengths = tweet.to(device), tweet_lengths.to(device) \n",
        "        #print(tweet_lengths)\n",
        "        # convert to 1D tensor\n",
        "        predictions = model(tweet, tweet_lengths).squeeze()  \n",
        "        \n",
        "        # compute the loss\n",
        "        #print(predictions.shape, len(batch.label))\n",
        "        loss = criterion(predictions, batch.label)        \n",
        "        \n",
        "        # compute the binary accuracy\n",
        "        acc = binary_accuracy(predictions, batch.label)   \n",
        "        \n",
        "        # backpropage the loss and compute the gradients\n",
        "        loss.backward()       \n",
        "        \n",
        "        # update the weights\n",
        "        optimizer.step()      \n",
        "        \n",
        "        # loss and accuracy\n",
        "        epoch_loss += loss.item()  \n",
        "        epoch_acc += acc.item()    \n",
        "        \n",
        "    return epoch_loss / len(iterator), epoch_acc / len(iterator)"
      ],
      "execution_count": null,
      "outputs": []
    },
    {
      "cell_type": "markdown",
      "metadata": {
        "id": "ektXSpEmWKai"
      },
      "source": [
        "### wrapper function to evaluate the model"
      ]
    },
    {
      "cell_type": "code",
      "metadata": {
        "id": "LMBXHd5JAuX-"
      },
      "source": [
        "def evaluate(model, iterator, criterion):\n",
        "    \n",
        "    # initialize every epoch\n",
        "    epoch_loss = 0\n",
        "    epoch_acc = 0\n",
        "\n",
        "    # deactivating dropout layers\n",
        "    model.eval()\n",
        "    \n",
        "    # deactivates autograd\n",
        "    with torch.no_grad():\n",
        "    \n",
        "        for batch in iterator:\n",
        "        \n",
        "            # retrieve text and no. of words\n",
        "            tweet, tweet_lengths = batch.tweet\n",
        "            \n",
        "            # convert to 1d tensor\n",
        "            predictions = model(tweet, tweet_lengths).squeeze()\n",
        "            if (len(predictions.size())<2):\n",
        "              predictions = predictions.unsqueeze(0)\n",
        "\n",
        "            #print(tweet_lengths , predictions.size(), batch.label.size())\n",
        "            # compute loss and accuracy\n",
        "            loss = criterion(predictions, batch.label)\n",
        "            acc = binary_accuracy(predictions, batch.label)\n",
        "            \n",
        "            # keep track of loss and accuracy\n",
        "            epoch_loss += loss.item()\n",
        "            epoch_acc += acc.item()\n",
        "        \n",
        "    return epoch_loss / len(iterator), epoch_acc / len(iterator)"
      ],
      "execution_count": null,
      "outputs": []
    },
    {
      "cell_type": "markdown",
      "metadata": {
        "id": "RSaQQNe5WT1x"
      },
      "source": [
        "### Run the model over few epochs to see the model performance"
      ]
    },
    {
      "cell_type": "code",
      "metadata": {
        "colab": {
          "base_uri": "https://localhost:8080/"
        },
        "id": "q7UPwN0KAvVq",
        "outputId": "84ed3b1d-1537-437f-c744-596d63d024b3"
      },
      "source": [
        "\n",
        "N_EPOCHS = 10\n",
        "best_valid_loss = float('inf')\n",
        "\n",
        "trainLossList = []\n",
        "valLossList = []\n",
        "\n",
        "trainAccyList = []\n",
        "valAccyList = []\n",
        "\n",
        "for epoch in range(N_EPOCHS):\n",
        "     \n",
        "    # train the model\n",
        "    train_loss, train_acc = train(model, train_iterator, optimizer, criterion)\n",
        "    \n",
        "    # evaluate the model\n",
        "    valid_loss, valid_acc = evaluate(model, valid_iterator, criterion)\n",
        "    \n",
        "    # save the best model\n",
        "    if valid_loss < best_valid_loss:\n",
        "        best_valid_loss = valid_loss\n",
        "        torch.save(model.state_dict(), 'saved_weights.pt')\n",
        "\n",
        "    trainLossList.append(round(train_loss,2))\n",
        "    valLossList.append(round(valid_loss,2))\n",
        "\n",
        "    trainAccyList.append(round(train_acc,2))\n",
        "    valAccyList.append(round(valid_acc,2))\n",
        "\n",
        "    \n",
        "    print(f'\\tTrain Loss: {train_loss:.3f} | Train Acc: {train_acc*100:.2f}%')\n",
        "    print(f'\\t Val. Loss: {valid_loss:.3f} |  Val. Acc: {valid_acc*100:.2f}% \\n')"
      ],
      "execution_count": null,
      "outputs": [
        {
          "output_type": "stream",
          "text": [
            "\tTrain Loss: 0.872 | Train Acc: 67.01%\n",
            "\t Val. Loss: 0.868 |  Val. Acc: 68.30% \n",
            "\n",
            "\tTrain Loss: 0.860 | Train Acc: 69.12%\n",
            "\t Val. Loss: 0.868 |  Val. Acc: 68.30% \n",
            "\n",
            "\tTrain Loss: 0.860 | Train Acc: 69.12%\n",
            "\t Val. Loss: 0.868 |  Val. Acc: 68.30% \n",
            "\n",
            "\tTrain Loss: 0.860 | Train Acc: 69.12%\n",
            "\t Val. Loss: 0.868 |  Val. Acc: 68.30% \n",
            "\n",
            "\tTrain Loss: 0.860 | Train Acc: 69.12%\n",
            "\t Val. Loss: 0.868 |  Val. Acc: 68.30% \n",
            "\n",
            "\tTrain Loss: 0.860 | Train Acc: 69.12%\n",
            "\t Val. Loss: 0.868 |  Val. Acc: 68.30% \n",
            "\n",
            "\tTrain Loss: 0.860 | Train Acc: 69.12%\n",
            "\t Val. Loss: 0.868 |  Val. Acc: 68.30% \n",
            "\n",
            "\tTrain Loss: 0.860 | Train Acc: 69.12%\n",
            "\t Val. Loss: 0.868 |  Val. Acc: 68.30% \n",
            "\n",
            "\tTrain Loss: 0.860 | Train Acc: 69.12%\n",
            "\t Val. Loss: 0.868 |  Val. Acc: 68.30% \n",
            "\n",
            "\tTrain Loss: 0.860 | Train Acc: 69.12%\n",
            "\t Val. Loss: 0.868 |  Val. Acc: 68.30% \n",
            "\n"
          ],
          "name": "stdout"
        }
      ]
    },
    {
      "cell_type": "markdown",
      "metadata": {
        "id": "1kaT0i4UWfIK"
      },
      "source": [
        "### A graph of model performance \n",
        "\n",
        "1.   Training and validation accuracy across different epochs\n",
        "2.   Training and validation loss across different epochs\n",
        "\n"
      ]
    },
    {
      "cell_type": "code",
      "metadata": {
        "colab": {
          "base_uri": "https://localhost:8080/",
          "height": 515
        },
        "id": "Wl132D123vmo",
        "outputId": "561316ac-6bf2-49ec-d450-d8c34edfec4a"
      },
      "source": [
        "xpoints = np.arange(len(trainLossList))\n",
        "ypoints4 = trainAccyList\n",
        "ypoints6 = valAccyList\n",
        "\n",
        "plt.rcParams['figure.figsize'] = [10, 8]\n",
        "plt.plot(xpoints, ypoints4, label = \"$ Training Accuracy $\" )\n",
        "plt.plot(xpoints, ypoints6, label = \"$ Validation Accuracy $\" )\n",
        "\n",
        "plt.legend(loc=\"upper right\")\n",
        "\n",
        "plt.title(\"model performance\", fontsize=16, fontweight='bold')\n",
        "plt.xlabel(\"epochs\")\n",
        "plt.ylabel(\"accuracy \")\n",
        "plt.show()"
      ],
      "execution_count": null,
      "outputs": [
        {
          "output_type": "display_data",
          "data": {
            "image/png": "[encoded data removed]",
            "text/plain": [
              "<Figure size 720x576 with 1 Axes>"
            ]
          },
          "metadata": {
            "tags": [],
            "needs_background": "light"
          }
        }
      ]
    },
    {
      "cell_type": "code",
      "metadata": {
        "colab": {
          "base_uri": "https://localhost:8080/",
          "height": 515
        },
        "id": "dk9H1Sxn3vjx",
        "outputId": "58e8d404-b4af-43b3-ed4e-2ff3560d5fbf"
      },
      "source": [
        "xpoints = np.arange(len(trainLossList))\n",
        "ypoints0 = trainLossList\n",
        "ypoints2 = valLossList\n",
        "\n",
        "\n",
        "plt.rcParams['figure.figsize'] = [10,8]\n",
        "plt.plot(xpoints, ypoints0 , label = \"$ Training Loss $\" )\n",
        "plt.plot(xpoints, ypoints2, label = \"$ Validation Loss $\" )\n",
        "\n",
        "plt.legend(loc=\"upper right\")\n",
        "\n",
        "plt.title(\"model performance\", fontsize=16, fontweight='bold')\n",
        "plt.xlabel(\"epochs\")\n",
        "plt.ylabel(\"loss \")\n",
        "plt.show()"
      ],
      "execution_count": null,
      "outputs": [
        {
          "output_type": "display_data",
          "data": {
            "image/png": "[encoded data removed]",
            "text/plain": [
              "<Figure size 720x576 with 1 Axes>"
            ]
          },
          "metadata": {
            "tags": [],
            "needs_background": "light"
          }
        }
      ]
    },
    {
      "cell_type": "markdown",
      "metadata": {
        "id": "fJ9kTRpeWwoy"
      },
      "source": [
        "### A utility function to classify any tweets\n",
        "\n",
        "1.   saved weights are used to classify any input string to predict a label\n",
        "2.   a cached tokenizer which was saved earlier is used\n"
      ]
    },
    {
      "cell_type": "code",
      "metadata": {
        "id": "BXCGxks4AxT3"
      },
      "source": [
        "#load weights and tokenizer\n",
        "\n",
        "path='./saved_weights.pt'\n",
        "model.load_state_dict(torch.load(path));\n",
        "model.eval();\n",
        "tokenizer_file = open('./tokenizer.pkl', 'rb')\n",
        "tokenizer = pickle.load(tokenizer_file)\n",
        "\n",
        "#inference \n",
        "categories = {0: \"Negative\", 1:\"Positive\", 2:\"Neutral\"}\n",
        "\n",
        "import spacy\n",
        "nlp = spacy.load('en')\n",
        "\n",
        "def classify_tweet(tweet):\n",
        "    \n",
        "    \n",
        "    \n",
        "    # tokenize the tweet \n",
        "    tokenized = [tok.text for tok in nlp.tokenizer(tweet)] \n",
        "    #print(tokenized)\n",
        "    # convert to integer sequence using predefined tokenizer dictionary\n",
        "    indexed = [tokenizer[t] for t in tokenized] \n",
        "    #print(indexed)       \n",
        "    # compute no. of words        \n",
        "    length = [len(indexed)]\n",
        "    # convert to tensor                                    \n",
        "    tensor = torch.LongTensor(indexed).to(device)   \n",
        "    #print(tensor)\n",
        "    # reshape in form of batch, no. of words           \n",
        "    tensor = tensor.unsqueeze(1).T  \n",
        "    #print(tensor)\n",
        "    # convert to tensor                          \n",
        "    length_tensor = torch.LongTensor(length)\n",
        "    #print(length_tensor)\n",
        "    # Get the model prediction                  \n",
        "    prediction = model(tensor, length_tensor)\n",
        "\n",
        "    _, pred = torch.max(prediction, 1) \n",
        "    #print(pred.size(),pred)\n",
        "    \n",
        "    return categories[pred.item()]"
      ],
      "execution_count": null,
      "outputs": []
    },
    {
      "cell_type": "markdown",
      "metadata": {
        "id": "OgwS0wUCdtOi"
      },
      "source": [
        "### Classify a single sentence and print the hidden state at each step of encoder and decoder"
      ]
    },
    {
      "cell_type": "code",
      "metadata": {
        "id": "C1mmb9YiHWOv",
        "colab": {
          "base_uri": "https://localhost:8080/",
          "height": 1000
        },
        "outputId": "fff9d7ce-f2c5-4819-bae8-30022c1c0fd5"
      },
      "source": [
        "printEncoderDecoderOutput = True\n",
        "classify_tweet(\"An invalid explanation for why Nixon will let women on the army.\")"
      ],
      "execution_count": null,
      "outputs": [
        {
          "output_type": "stream",
          "text": [
            "encdr word  0 torch.Size([1, 100]) tensor([[-4.8662e-01,  6.3706e-01, -2.3105e-06, -1.1584e-02, -1.3072e-01,\n",
            "          5.1925e-08, -1.3788e-03,  5.4984e-03,  6.1489e-01, -3.3821e-05,\n",
            "         -4.7829e-02,  2.7177e-05, -1.8713e-02, -3.4484e-01, -7.6159e-01,\n",
            "         -8.0147e-01, -4.8894e-05,  1.4386e-08, -7.6576e-01, -1.3272e-10,\n",
            "          7.5572e-01,  7.6100e-01,  3.8140e-01, -7.1346e-04,  6.2823e-01,\n",
            "         -8.8773e-03,  7.6295e-01,  1.0089e-01,  7.9785e-01,  2.3954e-04,\n",
            "         -3.5603e-04,  4.3626e-03,  2.1475e-02,  4.6080e-01,  7.6430e-01,\n",
            "          1.8736e-06,  2.4822e-03, -6.1532e-06, -7.6281e-01, -5.2347e-14,\n",
            "         -3.9156e-01, -7.5140e-01, -7.6135e-01,  7.6736e-01,  9.3886e-02,\n",
            "         -5.9123e-01,  4.7529e-13,  8.6582e-09,  4.4494e-15,  7.5955e-01,\n",
            "          1.8324e-08, -3.2897e-05, -2.8584e-01, -1.8110e-01,  7.4716e-02,\n",
            "          2.0123e-01, -7.6138e-01, -2.2701e-03, -7.6150e-01, -7.6167e-01,\n",
            "          3.5948e-04,  7.6159e-01,  2.7592e-01,  5.4529e-04, -2.5882e-01,\n",
            "          1.2001e-07,  7.9509e-01, -3.5427e-01, -2.0088e-07, -4.1490e-09,\n",
            "          7.7779e-01, -1.0352e-02, -5.1115e-03, -6.9817e-01,  7.6100e-01,\n",
            "         -4.6440e-07, -7.3621e-01,  1.0680e-06,  1.7522e-07,  1.8528e-01,\n",
            "         -6.6370e-02, -7.6061e-01, -1.1819e-03,  2.0101e-08,  1.9665e-05,\n",
            "          7.5804e-01, -7.1291e-01, -5.6710e-01, -5.0984e-01, -2.3041e-01,\n",
            "         -4.4691e-09, -2.1432e-11,  1.9354e-10,  6.7645e-08,  4.5270e-01,\n",
            "         -1.7139e-02, -4.4564e-02, -3.9502e-01, -8.1484e-01,  7.6157e-01]],\n",
            "       device='cuda:0', grad_fn=<ThnnFusedLstmCellBackward>)\n",
            "encdr word  1 torch.Size([1, 100]) tensor([[-9.9048e-05,  2.1534e-01, -1.5423e-22, -9.5983e-01, -7.3368e-01,\n",
            "          1.8974e-02, -2.5813e-10, -6.3648e-01,  6.1113e-01,  1.7693e-03,\n",
            "          3.4066e-01,  6.0136e-01, -5.3428e-11, -1.3800e-01,  4.0219e-01,\n",
            "         -4.3045e-02,  6.0837e-01,  1.5684e-06, -6.4876e-01, -1.7619e-03,\n",
            "          3.9940e-04, -4.8389e-02,  3.2645e-01,  9.7786e-04,  7.5544e-01,\n",
            "         -8.1538e-03,  9.4188e-01, -2.3486e-01,  9.7004e-01,  4.9138e-05,\n",
            "         -3.6052e-04,  9.7039e-03,  3.6954e-01, -4.6336e-01,  5.7340e-01,\n",
            "         -1.6517e-03,  3.5439e-07,  6.1244e-03, -7.7203e-09,  1.3540e-08,\n",
            "         -3.2446e-01, -7.6612e-01,  6.3958e-05,  5.9971e-03,  2.2293e-11,\n",
            "         -4.2367e-02, -4.2403e-03,  7.0274e-12, -3.1018e-02,  6.9593e-06,\n",
            "          8.1664e-05, -6.5603e-09, -7.6151e-05,  7.5267e-01,  8.1407e-01,\n",
            "          5.5092e-05, -8.7085e-02, -7.9000e-08, -8.6271e-01, -3.2130e-04,\n",
            "          7.5875e-01,  4.4015e-07, -7.5628e-01,  6.4113e-05, -9.5818e-01,\n",
            "         -3.3229e-05,  8.8632e-01,  5.5147e-05, -5.5455e-01,  1.8366e-13,\n",
            "          5.8788e-01, -1.6765e-02, -7.3610e-01, -1.8388e-05, -7.6158e-01,\n",
            "         -1.7695e-05, -6.9035e-10,  4.5136e-01, -2.9924e-07,  2.2592e-04,\n",
            "         -4.1202e-01, -3.2669e-04,  2.3681e-02, -5.8276e-01,  1.6167e-12,\n",
            "          6.2353e-04, -2.7906e-06,  7.5443e-01,  6.6001e-01,  6.3181e-02,\n",
            "         -3.0066e-12, -5.4771e-08,  6.9817e-01,  6.1254e-01,  9.3909e-03,\n",
            "         -1.1268e-06, -1.0648e-01, -3.6347e-01, -9.7276e-01,  7.4455e-01]],\n",
            "       device='cuda:0', grad_fn=<ThnnFusedLstmCellBackward>)\n",
            "encdr word  2 torch.Size([1, 100]) tensor([[-7.5770e-01,  9.6368e-01,  3.1065e-13, -3.9180e-01, -1.1718e-01,\n",
            "          8.3060e-01,  3.0345e-02, -1.7607e-03,  3.1000e-02, -3.9518e-12,\n",
            "          7.1958e-01, -2.1399e-16, -7.6159e-01,  3.1311e-02,  8.0081e-04,\n",
            "         -3.3064e-01,  8.5013e-04,  1.9094e-02,  9.9479e-02, -2.1498e-06,\n",
            "          1.5397e-06,  4.8168e-01,  5.5890e-06,  1.1793e-04,  9.5048e-01,\n",
            "         -2.6797e-06,  1.1308e-04, -1.1339e-05, -7.0117e-01, -8.7602e-06,\n",
            "         -1.6719e-01,  3.4260e-01,  5.9358e-05, -3.0735e-09,  5.6075e-01,\n",
            "         -7.8640e-05,  1.8344e-08, -7.4388e-01, -1.9168e-03,  4.0900e-13,\n",
            "         -6.1223e-03, -1.3255e-01, -7.1338e-01,  8.9419e-01, -1.8991e-02,\n",
            "         -1.4681e-01, -9.1470e-02, -7.2148e-01, -8.0155e-01,  9.8928e-01,\n",
            "          1.0493e-09, -7.3158e-01, -2.6018e-01,  1.7114e-02,  8.1359e-01,\n",
            "         -7.1246e-01, -3.8368e-01, -1.1906e-03, -9.8089e-01, -2.6829e-04,\n",
            "          4.4216e-02,  4.9988e-01, -7.4691e-01,  7.6145e-01, -1.3356e-02,\n",
            "         -4.0940e-01, -5.8719e-01,  4.8976e-01, -9.6591e-05,  4.6183e-03,\n",
            "          6.6538e-01, -1.0294e-01, -1.0331e-07, -5.9957e-01, -9.3645e-09,\n",
            "         -5.2879e-03,  7.6057e-01,  1.8786e-14, -6.7351e-01,  6.3417e-02,\n",
            "          7.6120e-01, -7.9079e-05,  9.1852e-01, -6.2784e-04, -7.5745e-01,\n",
            "          1.8308e-07, -1.1288e-08, -7.6049e-01,  1.8431e-05,  7.8540e-01,\n",
            "         -7.6088e-01, -1.2072e-05,  2.1849e-02,  9.9386e-07, -1.4950e-04,\n",
            "          2.0641e-01, -2.7337e-01, -5.9998e-04, -9.3327e-01,  1.4234e-01]],\n",
            "       device='cuda:0', grad_fn=<ThnnFusedLstmCellBackward>)\n",
            "encdr word  3 torch.Size([1, 100]) tensor([[-7.3401e-01,  1.0741e-01,  1.9590e-01,  7.4544e-01,  8.3845e-02,\n",
            "          3.1224e-02, -7.4854e-01, -6.5345e-01,  8.3973e-01, -8.5308e-09,\n",
            "          5.1006e-01, -7.6096e-01,  6.2260e-01,  6.8157e-01,  8.0748e-01,\n",
            "         -5.7925e-10,  6.9527e-04, -2.4773e-05,  4.2048e-07, -3.8141e-01,\n",
            "          7.6738e-01,  6.2889e-02,  7.6159e-01,  4.2280e-04,  1.4175e-07,\n",
            "          7.4705e-01,  9.9835e-06, -7.5989e-04, -9.6311e-01, -7.6075e-01,\n",
            "         -4.3466e-08,  2.4722e-01,  9.7074e-07,  8.0300e-05,  7.6839e-01,\n",
            "         -2.9552e-01,  1.2685e-04, -1.1565e-08, -7.6161e-01,  6.6010e-01,\n",
            "         -7.5448e-01,  3.8997e-12, -9.5453e-01,  2.4639e-09, -1.6514e-05,\n",
            "         -2.1837e-12, -5.3479e-01, -9.1062e-01, -1.4472e-01,  8.8001e-01,\n",
            "          7.5419e-01, -2.1270e-10, -9.6355e-01,  2.5384e-01,  9.6505e-01,\n",
            "         -1.4476e-06, -4.1727e-05, -1.3390e-04, -6.3979e-03, -1.0777e-03,\n",
            "          1.2166e-12,  6.9879e-07,  1.2156e-09,  7.5397e-01, -7.2802e-01,\n",
            "         -1.5541e-14,  3.3484e-02, -5.5157e-01, -2.6600e-02, -5.3635e-16,\n",
            "         -1.1038e-03, -1.1693e-04, -1.0441e-09, -8.9211e-03,  4.2876e-01,\n",
            "         -8.6980e-01, -5.7348e-11, -9.7551e-19, -4.0145e-05,  2.1423e-03,\n",
            "          5.3690e-03, -7.6027e-01, -1.0918e-09,  1.8437e-05, -1.6925e-13,\n",
            "          7.5113e-01, -7.0022e-09,  3.5033e-05,  1.2784e-02,  5.5744e-08,\n",
            "          7.2861e-01, -7.6146e-01,  6.9248e-19,  7.5473e-01, -7.6150e-01,\n",
            "         -6.2433e-01, -3.9689e-11, -1.6651e-01, -9.3805e-01, -7.8622e-10]],\n",
            "       device='cuda:0', grad_fn=<ThnnFusedLstmCellBackward>)\n",
            "encdr word  4 torch.Size([1, 100]) tensor([[-2.5295e-09,  6.2296e-01,  1.3833e-05, -7.6159e-01, -1.1084e-06,\n",
            "          7.4525e-01, -3.2327e-13, -8.9777e-09,  1.9745e-05,  7.9879e-05,\n",
            "          9.8240e-04, -3.6472e-01, -8.8816e-04,  2.3009e-10, -7.6153e-01,\n",
            "         -2.0971e-05, -2.2552e-03, -8.6473e-01, -7.6111e-01, -3.6621e-01,\n",
            "          2.7550e-15,  7.5632e-01,  3.2883e-13,  7.6160e-01,  1.9866e-01,\n",
            "          8.2119e-01,  9.6733e-01, -8.9212e-02, -1.3268e-01, -9.4542e-09,\n",
            "         -5.0738e-01,  2.7892e-06, -5.6081e-01,  1.0728e-01,  7.6655e-03,\n",
            "         -2.5244e-11,  9.1325e-18, -5.4684e-04, -8.0854e-04,  3.8028e-10,\n",
            "         -1.6568e-02,  9.5674e-01,  3.3287e-07,  1.1755e-01, -9.4398e-01,\n",
            "         -3.5099e-05, -1.2447e-04, -8.7439e-01,  7.2563e-05,  7.0890e-01,\n",
            "         -2.1805e-09,  6.8952e-01, -1.9355e-05, -7.6159e-01, -5.0470e-01,\n",
            "         -2.0139e-08,  4.7868e-01,  2.6402e-03, -9.9720e-01, -7.6109e-01,\n",
            "          7.6171e-01,  7.3390e-01, -3.4351e-01,  1.7145e-10, -9.5829e-01,\n",
            "          5.9255e-01, -5.4080e-01,  7.0279e-01, -7.5173e-05,  7.6159e-01,\n",
            "         -5.6021e-04, -2.3583e-14, -4.3111e-05, -1.2703e-16,  7.6223e-01,\n",
            "         -1.7080e-05, -4.4702e-02,  3.4213e-06, -7.5989e-01,  7.8721e-01,\n",
            "          4.8412e-08, -2.1910e-08, -5.2366e-05, -7.5905e-01, -6.5571e-03,\n",
            "          2.2809e-05,  7.6147e-01, -4.8711e-13,  7.1642e-01,  8.2457e-01,\n",
            "          1.1570e-09, -1.2118e-07,  3.7971e-02,  5.9355e-07, -6.5497e-10,\n",
            "          4.1470e-06, -8.3595e-01, -2.2687e-10, -7.4123e-01, -7.6123e-01]],\n",
            "       device='cuda:0', grad_fn=<ThnnFusedLstmCellBackward>)\n",
            "encdr word  5 torch.Size([1, 100]) tensor([[-7.3259e-01, -1.8783e-05,  7.5495e-01, -1.6012e-04, -7.3609e-01,\n",
            "          6.1726e-02, -7.5863e-01, -7.6488e-07,  8.4387e-01,  7.7976e-01,\n",
            "         -7.3665e-01, -2.5455e-01,  3.7765e-03,  1.4605e-09, -1.0327e-13,\n",
            "          2.9820e-10, -2.9673e-01, -3.1539e-01, -3.3362e-13, -1.0782e-01,\n",
            "         -3.6037e-01,  5.8221e-06, -7.6018e-01,  1.4204e-04,  4.8550e-15,\n",
            "          4.4003e-01,  8.1107e-16, -7.5563e-01, -2.0653e-06, -7.6159e-01,\n",
            "         -2.5493e-01, -1.7108e-01, -4.5663e-01,  1.1583e-04,  3.4855e-10,\n",
            "         -9.6393e-06, -5.3242e-01, -3.1749e-01, -5.3607e-01, -6.7662e-01,\n",
            "         -9.8749e-07, -2.6909e-09, -4.2518e-01,  5.4324e-01, -9.9177e-01,\n",
            "          7.1018e-01,  1.5991e-02,  7.5983e-01, -7.5618e-01, -1.6659e-06,\n",
            "         -6.7936e-01,  9.6369e-01, -9.8811e-01, -1.5968e-05, -9.5023e-01,\n",
            "         -2.8915e-02,  6.6773e-07, -7.1469e-01,  1.4307e-07, -1.7783e-08,\n",
            "          9.8026e-02,  4.2414e-06, -4.0017e-11, -7.6159e-01, -7.9014e-03,\n",
            "          1.0361e-07, -8.7786e-06,  7.4668e-11, -1.5892e-03, -7.6093e-01,\n",
            "         -1.3057e-07, -9.7307e-01,  1.1495e-12,  4.9220e-01,  1.1259e-08,\n",
            "          1.6773e-04, -7.9792e-07,  2.0024e-02, -3.3658e-13, -4.3179e-09,\n",
            "          7.6133e-01,  6.6092e-02, -1.5275e-12, -2.5770e-12,  4.3816e-02,\n",
            "          1.0647e-04,  1.4898e-19,  1.0326e-01, -7.5513e-01,  2.4866e-03,\n",
            "         -7.6145e-01,  7.0410e-02, -4.3916e-12, -7.5841e-01,  7.0685e-01,\n",
            "          8.5106e-01,  2.0136e-03,  7.6155e-01, -4.1386e-14, -1.4022e-04]],\n",
            "       device='cuda:0', grad_fn=<ThnnFusedLstmCellBackward>)\n",
            "encdr word  6 torch.Size([1, 100]) tensor([[ 6.5245e-02,  2.5311e-12,  7.3215e-01, -5.9833e-02,  7.5884e-01,\n",
            "         -7.6150e-01,  1.0501e-02,  6.9768e-05, -7.4681e-01,  4.1392e-02,\n",
            "         -9.3342e-01,  9.6187e-11, -7.1687e-14,  3.5598e-18, -7.2330e-07,\n",
            "          2.6461e-12,  6.0084e-01, -8.6135e-01,  1.0162e-02,  7.6159e-01,\n",
            "         -9.5870e-01, -5.6013e-01, -8.3340e-01, -3.2620e-01, -1.0747e-01,\n",
            "          1.9776e-07,  7.4085e-09, -3.0447e-09, -1.3626e-06, -1.1003e-01,\n",
            "          7.4289e-01, -8.3864e-02, -9.1706e-02, -6.7879e-01,  1.0059e-02,\n",
            "         -1.9642e-05, -9.2090e-01, -1.8658e-04,  7.5975e-01, -7.6312e-01,\n",
            "         -2.3817e-05, -4.4273e-05,  3.7246e-07,  2.8215e-03,  1.8707e-01,\n",
            "          5.5679e-03,  7.6732e-01,  1.0121e-03, -7.8839e-01, -7.7111e-01,\n",
            "          7.6154e-01,  8.9275e-01, -9.1482e-01,  2.5648e-10,  7.5800e-01,\n",
            "         -3.1823e-01, -9.0176e-04, -2.6810e-01,  6.0506e-16, -1.2457e-07,\n",
            "         -2.2545e-03,  5.3017e-05, -9.6939e-09, -4.3699e-02, -5.6793e-01,\n",
            "          1.3294e-02, -2.8698e-06, -4.2056e-01,  2.6812e-01, -3.9078e-01,\n",
            "         -7.6120e-01, -2.8886e-02,  8.0517e-05,  6.7851e-01,  8.4159e-08,\n",
            "          2.2375e-03, -3.2643e-06, -7.5419e-01,  1.6735e-01, -7.9041e-09,\n",
            "          2.5335e-04,  7.8784e-01, -1.1153e-03, -4.1548e-07,  1.7243e-01,\n",
            "         -4.4983e-04,  4.0227e-04,  1.8047e-01, -2.9939e-14,  9.8538e-12,\n",
            "          1.5913e-02, -1.4827e-02, -3.3888e-08, -9.5402e-01,  7.0677e-01,\n",
            "          8.5235e-01,  3.2905e-04, -1.2883e-04,  2.6524e-15, -2.4580e-03]],\n",
            "       device='cuda:0', grad_fn=<ThnnFusedLstmCellBackward>)\n",
            "encdr word  7 torch.Size([1, 100]) tensor([[ 7.8772e-01,  3.2987e-27,  7.7469e-10,  1.1293e-21,  1.4744e-09,\n",
            "         -4.9315e-13,  7.4678e-01,  1.6259e-13, -9.6388e-01, -7.4227e-01,\n",
            "         -9.5717e-01,  6.7242e-01,  9.9841e-08,  4.4936e-01, -3.1182e-04,\n",
            "          4.1416e-10,  9.3455e-01, -2.9022e-01,  4.7095e-20,  9.6403e-01,\n",
            "         -9.9431e-01, -3.6007e-07, -9.7569e-01, -8.7115e-01, -3.1821e-14,\n",
            "          9.4371e-16, -7.4983e-12, -2.3511e-03, -7.6159e-01, -8.0423e-01,\n",
            "          9.6219e-01, -8.2999e-01,  7.4295e-01, -9.4890e-01,  2.4273e-28,\n",
            "         -1.4899e-06, -9.8856e-01,  6.3927e-13,  9.6372e-01, -9.6431e-01,\n",
            "          2.8020e-05, -2.5798e-21,  2.8823e-18, -1.0807e-30,  3.0251e-14,\n",
            "          7.7684e-01,  9.6499e-01,  4.3101e-13, -9.6848e-01, -9.2043e-01,\n",
            "          5.2200e-13, -7.5237e-01, -5.0801e-01,  5.7707e-25,  9.6343e-01,\n",
            "          5.6340e-01, -2.6521e-20, -3.2873e-17,  1.6253e-33,  2.1613e-14,\n",
            "         -5.7271e-16, -6.9706e-18,  1.6073e-06, -9.9095e-01,  7.6157e-01,\n",
            "          5.3183e-15, -1.6901e-20, -8.3882e-01, -5.4120e-01, -8.5995e-01,\n",
            "         -9.1881e-01, -8.4528e-01,  9.6992e-13,  9.4946e-01,  1.0642e-21,\n",
            "          9.2782e-01,  5.1892e-33, -7.3080e-01,  2.6756e-26, -4.6774e-14,\n",
            "         -5.6442e-01,  9.6842e-01, -6.2412e-24,  3.2739e-17,  8.2880e-01,\n",
            "         -7.9181e-08,  1.7040e-31,  8.3034e-01, -9.5944e-01,  2.4079e-23,\n",
            "          5.2648e-01, -7.7820e-01, -3.4819e-12, -8.7783e-01,  9.5454e-01,\n",
            "          2.4772e-01,  1.1100e-15,  7.6154e-01,  5.9708e-13,  2.6232e-21]],\n",
            "       device='cuda:0', grad_fn=<ThnnFusedLstmCellBackward>)\n",
            "encdr word  8 torch.Size([1, 100]) tensor([[ 8.7581e-01,  7.9293e-39,  1.7442e-07,  1.1949e-31,  3.4250e-08,\n",
            "         -7.6037e-01,  9.6476e-01,  8.4608e-18, -9.9504e-01, -9.6075e-01,\n",
            "         -3.7624e-05,  1.9252e-04,  6.7826e-13,  7.6158e-01, -1.8271e-04,\n",
            "          2.5236e-30,  9.9088e-01,  6.0513e-01,  1.1210e-44,  9.9505e-01,\n",
            "         -9.9923e-01, -1.1363e-07, -9.9667e-01, -9.8152e-01, -1.7183e-27,\n",
            "          6.4520e-10, -1.1353e-16, -1.7479e-12, -7.6159e-01, -9.7106e-01,\n",
            "          9.9441e-01, -9.7517e-01,  8.2200e-01, -9.9266e-01,  9.9617e-28,\n",
            "         -6.3186e-12, -9.9849e-01,  9.8782e-16,  9.9501e-01, -9.9509e-01,\n",
            "          9.4008e-01, -5.1715e-40,  1.7393e-25, -4.5578e-34,  2.6867e-18,\n",
            "          9.5350e-01,  9.9519e-01,  1.1408e-03, -9.9567e-01, -9.8915e-01,\n",
            "          5.1815e-19, -9.6257e-01,  4.1361e-01,  7.6519e-30,  9.9497e-01,\n",
            "          9.2716e-01, -1.3254e-30, -2.1008e-18,  2.3725e-37,  2.1842e-29,\n",
            "         -4.5967e-32, -4.5993e-38,  2.0683e-18, -9.9877e-01,  7.6159e-01,\n",
            "          6.9632e-20, -1.2728e-23, -1.1924e-03,  3.7493e-01, -7.7972e-01,\n",
            "         -9.9411e-01, -9.7765e-01,  5.8001e-25,  9.9198e-01,  8.3769e-23,\n",
            "          9.8992e-01,  1.2828e-20, -9.3095e-01,  5.0526e-34, -3.2616e-17,\n",
            "         -9.2715e-01,  9.9567e-01, -2.0533e-35,  7.0744e-25,  9.7498e-01,\n",
            "         -8.9169e-12,  1.6336e-32,  9.7522e-01, -9.9490e-01, -6.2069e-30,\n",
            "          7.0095e-01, -7.6236e-01, -4.9918e-14, -9.9902e-01,  9.9373e-01,\n",
            "         -6.2715e-01,  7.5147e-24,  9.6402e-01,  3.8036e-26,  1.8465e-37]],\n",
            "       device='cuda:0', grad_fn=<ThnnFusedLstmCellBackward>)\n",
            "encdr word  9 torch.Size([1, 100]) tensor([[ 9.8224e-01,  1.5872e-22,  2.4138e-04,  2.9604e-29,  2.4470e-12,\n",
            "         -9.6314e-01,  9.7111e-01,  8.5013e-05, -7.6155e-01, -9.9460e-01,\n",
            "         -4.4680e-13,  3.6104e-19,  8.7751e-09,  7.8729e-01,  2.4952e-02,\n",
            "          1.0555e-28,  9.9876e-01, -7.4324e-01,  2.1018e-27,  8.5883e-01,\n",
            "         -9.9973e-01, -3.5218e-04, -9.9490e-01, -7.6159e-01, -1.2518e-27,\n",
            "          1.4023e-18, -3.1861e-03, -2.1279e-21, -2.0083e-03, -9.9603e-01,\n",
            "          1.7827e-03, -9.9656e-01,  4.6109e-01, -9.9722e-01,  3.0402e-12,\n",
            "         -7.4946e-01, -9.9980e-01,  2.4475e-21,  7.5995e-01, -9.9933e-01,\n",
            "          9.5208e-01,  6.7035e-29,  4.0291e-01, -7.8609e-22,  1.3573e-13,\n",
            "          5.9799e-10,  9.9935e-01,  1.9921e-05, -9.9282e-01, -9.8904e-01,\n",
            "          5.1781e-03, -1.9352e-01,  8.9368e-01,  1.0346e-20,  9.9923e-01,\n",
            "          9.8972e-01, -7.7500e-23, -3.1360e-22,  1.9399e-29,  1.3896e-16,\n",
            "         -3.2234e-24, -6.5904e-12,  1.3203e-04, -9.9983e-01,  1.2987e-01,\n",
            "          2.3766e-10, -1.5183e-22, -6.5573e-01,  8.3579e-05, -7.6159e-01,\n",
            "         -8.6101e-01, -9.9695e-01,  1.2610e-04,  2.8800e-02,  2.0080e-11,\n",
            "          9.9863e-01, -1.9465e-09, -6.0152e-09,  2.2920e-07, -5.9240e-05,\n",
            "         -2.6199e-03,  9.9941e-01, -1.0870e-11,  1.1605e-27,  9.9657e-01,\n",
            "         -1.5170e-03,  6.4486e-17,  9.9402e-01, -2.5824e-05, -1.0398e-09,\n",
            "          5.2014e-21, -9.6384e-01, -7.8181e-14, -7.6160e-01,  9.9915e-01,\n",
            "         -9.3939e-01,  5.8028e-12,  9.9505e-01,  1.5042e-23,  5.1500e-21]],\n",
            "       device='cuda:0', grad_fn=<ThnnFusedLstmCellBackward>)\n",
            "encdr word  10 torch.Size([1, 100]) tensor([[ 9.8221e-01,  5.4895e-28,  8.2770e-20, -4.7545e-25,  2.8537e-18,\n",
            "         -9.9499e-01,  9.6476e-01,  4.1496e-36, -4.9239e-04, -9.6074e-01,\n",
            "         -4.0196e-07,  4.7540e-09,  2.4575e-06,  9.5954e-01,  2.2182e-02,\n",
            "          1.2901e-24,  9.9983e-01, -5.9727e-02,  2.6369e-37,  9.7965e-01,\n",
            "         -9.9996e-01, -1.9104e-15, -9.9994e-01, -9.6403e-01,  1.5307e-36,\n",
            "         -7.6159e-01, -2.2680e-29, -7.3879e-01,  1.9707e-02, -9.9946e-01,\n",
            "          9.9990e-01, -9.9954e-01,  9.5935e-01, -1.4552e-05,  1.1017e-21,\n",
            "         -5.1645e-01, -9.9997e-01,  5.3401e-21,  9.6388e-01, -9.9990e-01,\n",
            "          7.5344e-01,  4.2701e-32,  4.0936e-05, -1.0171e-30,  6.8595e-01,\n",
            "          9.9354e-01,  9.9991e-01,  5.2596e-10, -9.9992e-01, -4.9474e-15,\n",
            "          2.8662e-01,  4.9682e-01,  9.8492e-01,  1.3639e-16,  9.9983e-01,\n",
            "          9.9861e-01,  7.0647e-12, -8.0130e-05,  3.7410e-15,  1.1775e-26,\n",
            "          1.4954e-33, -7.5349e-19,  1.2756e-27, -9.9998e-01, -7.6159e-01,\n",
            "          6.4648e-20, -5.6969e-19, -1.2513e-18,  9.8338e-01, -8.9029e-01,\n",
            "         -4.8098e-01, -9.9958e-01,  4.1716e-17,  9.9880e-01, -1.7375e-05,\n",
            "          9.9981e-01,  4.4234e-31, -6.9558e-01,  3.0575e-41, -1.7430e-27,\n",
            "         -9.9861e-01,  9.9992e-01,  0.0000e+00,  4.5864e-15,  9.9950e-01,\n",
            "         -4.2827e-29,  2.9759e-13,  9.9919e-01, -7.6159e-01,  4.5396e-10,\n",
            "         -6.3519e-08, -9.9503e-01,  7.0203e-25, -9.6403e-01,  9.9915e-01,\n",
            "         -9.9158e-01,  1.6859e-35,  9.9933e-01,  5.2249e-10,  1.7919e-29]],\n",
            "       device='cuda:0', grad_fn=<ThnnFusedLstmCellBackward>)\n",
            "encdr word  11 torch.Size([1, 100]) tensor([[ 9.9757e-01, -2.8026e-45,  4.7674e-04,  0.0000e+00,  3.7449e-28,\n",
            "         -1.5606e-12,  9.9488e-01,  5.5883e-39, -7.6180e-01, -9.9459e-01,\n",
            "         -8.4343e-01,  1.9644e-06,  3.2589e-01,  7.6159e-01,  1.5596e-05,\n",
            "          1.6846e-32,  9.9998e-01,  7.3533e-01,  0.0000e+00,  9.9722e-01,\n",
            "         -9.9999e-01, -2.1623e-24, -9.9999e-01, -9.9505e-01, -0.0000e+00,\n",
            "         -9.6391e-01, -0.0000e+00, -1.0715e-07,  2.1754e-02, -9.9993e-01,\n",
            "          9.9999e-01, -9.9994e-01,  9.9440e-01, -9.9922e-01,  1.3340e-41,\n",
            "         -9.9430e-01, -1.0000e+00,  8.9275e-41,  9.9503e-01, -9.9999e-01,\n",
            "          2.0239e-06, -0.0000e+00,  1.3015e-02, -1.4864e-32,  3.9376e-03,\n",
            "          9.9912e-01,  9.9999e-01,  1.1239e-03, -9.9999e-01, -8.6132e-14,\n",
            "          3.7281e-07,  8.8993e-01,  9.9795e-01,  4.6802e-32,  9.9993e-01,\n",
            "          9.9981e-01,  1.9663e-39, -1.6708e-04,  3.4644e-35,  0.0000e+00,\n",
            "         -0.0000e+00, -1.2604e-28,  3.1119e-41, -1.0000e+00, -7.6157e-01,\n",
            "          1.7997e-30, -1.1643e-30, -2.6501e-06,  9.9774e-01, -9.8435e-01,\n",
            "         -7.9939e-01, -9.9994e-01,  3.0659e-40,  9.9984e-01, -3.5438e-17,\n",
            "          9.9997e-01, -0.0000e+00, -8.2782e-01,  0.0000e+00, -9.1587e-36,\n",
            "         -9.9981e-01,  9.9999e-01, -0.0000e+00,  6.9204e-39,  9.9993e-01,\n",
            "         -6.1396e-40,  2.5311e-15,  9.9989e-01, -1.9220e-01, -6.4627e-13,\n",
            "          1.7975e-04, -9.9933e-01, -0.0000e+00, -9.9505e-01,  9.9988e-01,\n",
            "         -9.9886e-01,  0.0000e+00,  9.9991e-01,  1.8980e-36,  0.0000e+00]],\n",
            "       device='cuda:0', grad_fn=<ThnnFusedLstmCellBackward>)\n",
            "encdr word  12 torch.Size([1, 100]) tensor([[ 9.9590e-01,  4.6788e-17,  2.0861e-01,  5.5033e-34, -3.8657e-26,\n",
            "         -4.9482e-04,  9.9931e-01,  6.4970e-36, -9.6370e-01, -9.6070e-01,\n",
            "         -9.7987e-01,  3.5742e-08,  3.9005e-01,  7.6159e-01,  2.0693e-02,\n",
            "          5.4265e-10,  1.0932e-03, -6.4205e-02,  1.3058e-33,  7.6165e-01,\n",
            "         -1.0000e+00,  1.0350e-26, -1.0000e+00, -9.7187e-01,  5.3713e-27,\n",
            "          9.7847e-03, -1.9362e-32, -1.0908e-03,  1.7377e-04, -9.9999e-01,\n",
            "          9.9999e-01, -9.9999e-01,  9.9917e-01, -5.8388e-01,  3.8175e-12,\n",
            "         -9.9915e-01, -1.0000e+00,  2.3121e-16,  7.5899e-01, -1.0000e+00,\n",
            "          9.4463e-14,  2.3328e-30,  5.1107e-03, -1.4200e-38,  3.1999e-01,\n",
            "          9.9988e-01,  1.7037e-04,  9.1417e-08, -1.0000e+00, -4.8493e-15,\n",
            "          4.2128e-04,  7.6481e-01,  9.8580e-01,  4.1557e-04,  9.9947e-01,\n",
            "          9.9997e-01, -9.0746e-10, -9.5788e-01,  5.2540e-05,  4.3036e-37,\n",
            "         -8.8926e-42, -1.3916e-09,  1.7205e-21, -1.7433e-01,  7.6159e-01,\n",
            "          6.7732e-22, -4.1583e-34, -7.6333e-01,  9.9969e-01, -9.9785e-01,\n",
            "         -2.1133e-08, -9.9999e-01,  1.3853e-31,  9.9998e-01,  7.6091e-01,\n",
            "          1.0000e+00,  6.3021e-40, -7.6141e-01,  4.4441e-36, -2.2868e-34,\n",
            "         -9.9861e-01,  1.0000e+00, -2.1027e-38,  3.1553e-20,  9.9999e-01,\n",
            "         -2.5318e-19,  2.9070e-28,  9.9999e-01, -2.8570e-06,  7.5675e-01,\n",
            "          1.3995e-19, -9.9991e-01,  1.3062e-34, -9.9933e-01,  9.9998e-01,\n",
            "         -9.9878e-01,  0.0000e+00,  9.9999e-01, -1.4994e-16,  1.3560e-20]],\n",
            "       device='cuda:0', grad_fn=<ThnnFusedLstmCellBackward>)\n",
            "decd word  0 torch.Size([1, 100]) tensor([[-3.6031e-01,  4.8445e-01,  7.7625e-02, -6.9921e-01, -1.5235e-03,\n",
            "         -1.5307e-02, -6.1183e-01, -3.8123e-02,  2.0617e-03, -1.2292e-01,\n",
            "          4.0061e-01, -7.1071e-01, -6.8624e-01, -6.3626e-01,  1.3058e-04,\n",
            "         -4.7891e-01,  9.2521e-03,  1.0836e-01,  3.5311e-02, -5.7127e-01,\n",
            "         -4.1774e-03,  2.0433e-06, -6.7744e-01, -6.0004e-01,  6.0058e-01,\n",
            "          6.9332e-01, -1.6969e-01, -3.3063e-01,  7.4279e-04,  6.5150e-01,\n",
            "          1.4903e-02,  2.3776e-05,  5.3262e-02, -5.8165e-09,  3.2696e-02,\n",
            "         -3.0257e-02,  7.1423e-01, -1.2135e-02,  8.8330e-01, -9.4835e-02,\n",
            "         -3.5337e-04, -1.1819e-01,  1.6949e-02, -5.0366e-01,  7.3272e-01,\n",
            "         -6.5101e-01, -4.7680e-01, -1.7737e-01,  1.1999e-05, -1.1393e-03,\n",
            "          9.3343e-04,  1.5368e-01, -7.2636e-06, -1.2814e-01, -6.2276e-01,\n",
            "          7.2567e-01,  3.0826e-02, -3.1342e-01, -2.0021e-03,  9.9870e-02,\n",
            "          1.3965e-04, -1.2850e-02,  1.0473e-02,  2.5484e-02,  6.1063e-02,\n",
            "         -2.3487e-02, -7.5787e-01,  2.1055e-01,  7.2558e-01,  3.1969e-03,\n",
            "          5.8377e-01,  4.8165e-03,  2.8011e-03, -7.2560e-01, -7.3983e-01,\n",
            "          7.2047e-01,  5.9624e-03, -5.7473e-01,  3.7880e-01, -3.2324e-03,\n",
            "         -3.2616e-02,  4.5250e-02, -4.6198e-01, -9.3777e-02,  4.5991e-02,\n",
            "          5.8253e-01,  2.7447e-02,  2.5690e-04, -6.7874e-01, -5.2857e-01,\n",
            "         -2.9639e-02,  6.0913e-03, -2.5064e-02,  2.6159e-02, -6.4952e-01,\n",
            "          2.4242e-01, -6.7675e-01, -1.6863e-02,  3.0699e-02, -3.6993e-02]],\n",
            "       device='cuda:0', grad_fn=<ThnnFusedLstmCellBackward>)\n",
            "decd word  1 torch.Size([1, 100]) tensor([[-9.0495e-01,  8.6010e-01,  9.1158e-09,  6.3599e-14,  7.5515e-01,\n",
            "          3.4396e-01,  1.5434e-01,  3.0718e-13, -7.3227e-01,  1.5832e-19,\n",
            "         -2.7680e-12,  1.7286e-17, -3.7977e-01, -2.0130e-08,  4.3139e-03,\n",
            "          3.0571e-01, -1.3992e-13, -4.3160e-01, -4.4834e-01,  3.7650e-01,\n",
            "         -4.8431e-12,  7.6206e-01, -1.8408e-18,  3.3541e-15,  1.4608e-12,\n",
            "          2.4893e-14,  6.3204e-01,  9.0334e-06,  7.6434e-01,  1.7760e-04,\n",
            "         -7.4651e-02, -7.5788e-01, -7.3385e-01,  9.7397e-03, -7.3543e-01,\n",
            "         -1.2607e-07,  4.6896e-05, -7.6975e-01,  1.4138e-05, -1.0130e-01,\n",
            "          7.5717e-01,  1.7219e-08, -3.7644e-01, -3.8624e-08, -2.5689e-04,\n",
            "         -1.0256e-09,  3.0738e-01, -2.2580e-03,  7.6235e-01,  7.5575e-01,\n",
            "         -7.4845e-01, -1.8658e-09,  7.6067e-01, -7.6189e-07,  1.2200e-14,\n",
            "         -8.0066e-02,  1.6874e-11,  4.9941e-05,  1.9251e-01,  3.8460e-10,\n",
            "         -7.5294e-01,  7.4792e-01, -1.4752e-01, -7.3354e-01,  1.0396e-09,\n",
            "         -7.7145e-01, -4.0962e-01,  7.6849e-01, -7.9279e-02,  2.4558e-07,\n",
            "         -1.0448e-01, -1.3341e-01, -7.5931e-01, -2.3695e-01,  1.6855e-05,\n",
            "          9.5907e-03, -2.1355e-14, -6.6134e-10, -7.5558e-01,  7.5665e-01,\n",
            "          7.4433e-01, -2.1378e-08,  5.2583e-01, -7.6558e-04,  3.1058e-10,\n",
            "         -4.6000e-02,  5.8255e-07,  7.0835e-01,  1.6227e-01, -5.3537e-05,\n",
            "          7.3140e-01, -7.2552e-01,  1.3686e-01, -1.8743e-08,  1.2650e-17,\n",
            "         -4.5539e-01, -5.2728e-12,  6.7547e-01,  7.2998e-15,  7.0529e-01]],\n",
            "       device='cuda:0', grad_fn=<ThnnFusedLstmCellBackward>)\n",
            "decd word  2 torch.Size([1, 100]) tensor([[-9.8645e-01,  9.8698e-01, -1.0082e-22,  3.7121e-22,  9.6294e-01,\n",
            "          9.0476e-01,  8.1960e-01,  8.0503e-24,  1.0370e-05,  8.9449e-26,\n",
            "         -1.8377e-22,  2.2141e-23, -6.6075e-02,  3.2633e-28,  7.2720e-04,\n",
            "          8.6560e-01, -7.8235e-32, -4.1509e-01, -9.0288e-01,  1.0528e-17,\n",
            "         -2.2179e-27,  9.6411e-01,  6.8182e-33,  4.1889e-30, -1.7693e-27,\n",
            "          2.4680e-12,  9.4078e-01,  5.2138e-29,  9.6449e-01, -3.4217e-19,\n",
            "         -9.6840e-14, -9.6340e-01, -9.5930e-01,  9.0386e-08, -9.5957e-01,\n",
            "         -3.5338e-23, -3.7322e-21, -9.6526e-01, -2.9370e-18,  6.9567e-01,\n",
            "          9.6328e-01,  1.0116e-21, -7.3177e-15,  1.1565e-28, -3.6535e-02,\n",
            "          2.0928e-29,  8.6620e-01,  4.9530e-01,  9.6415e-01,  9.6305e-01,\n",
            "         -9.1791e-01, -1.7148e-33,  9.6387e-01,  2.2227e-03,  9.7073e-32,\n",
            "         -7.9329e-01,  5.4103e-31,  6.8220e-22,  1.7307e-16, -2.1203e-32,\n",
            "         -9.6281e-01,  9.6172e-01, -8.1933e-01, -9.5939e-01,  2.5829e-25,\n",
            "         -9.6568e-01,  4.2945e-01,  7.6386e-01, -7.9299e-01,  3.6976e-20,\n",
            "         -8.0305e-01, -1.2788e-09, -9.6367e-01, -7.9169e-15,  7.6929e-01,\n",
            "          7.0574e-12, -4.7112e-19,  2.3068e-26, -7.7141e-01,  9.6321e-01,\n",
            "          9.6111e-01, -3.8393e-12,  9.0337e-01,  3.5050e-10, -1.4687e-28,\n",
            "         -3.6516e-11,  1.3488e-20,  9.5484e-01,  8.2390e-01,  5.3349e-21,\n",
            "          9.5887e-01, -9.6067e-01,  5.7959e-07, -4.5730e-26,  5.4180e-31,\n",
            "         -9.0372e-01,  2.7638e-26,  9.4891e-01, -9.4337e-10,  9.5478e-01]],\n",
            "       device='cuda:0', grad_fn=<ThnnFusedLstmCellBackward>)\n",
            "decd word  3 torch.Size([1, 100]) tensor([[-9.9818e-01,  9.9823e-01, -2.6236e-24,  3.9847e-29,  9.9490e-01,\n",
            "          9.8656e-01,  9.7352e-01,  3.8659e-17,  3.4092e-15,  6.3547e-26,\n",
            "         -1.1395e-24,  1.1647e-29,  6.9663e-01,  2.3450e-30,  4.3726e-13,\n",
            "          9.8069e-01, -5.1616e-30, -9.1531e-01, -9.8628e-01,  4.1523e-21,\n",
            "         -3.4466e-25,  9.9507e-01, -2.0160e-30,  2.5479e-30, -8.1443e-28,\n",
            "          1.4337e-01,  9.9177e-01,  2.1261e-29,  9.9512e-01, -2.6589e-24,\n",
            "         -3.1899e-19, -8.9711e-01, -9.9439e-01,  7.9946e-22, -9.9443e-01,\n",
            "         -1.0922e-26, -2.4436e-22, -7.5945e-01, -9.5872e-28,  9.5257e-01,\n",
            "          9.9495e-01,  5.9821e-25, -4.6222e-23,  1.5457e-31, -7.6407e-01,\n",
            "          9.1012e-31,  9.8078e-01,  9.1263e-01,  7.7089e-01,  9.9492e-01,\n",
            "         -2.1639e-16, -3.1961e-31,  9.9503e-01,  9.2009e-01,  5.1361e-32,\n",
            "         -9.6928e-01,  8.2907e-31,  8.3185e-23,  2.1246e-25, -2.2718e-32,\n",
            "         -9.9488e-01,  9.9473e-01, -9.7348e-01, -9.9441e-01,  3.2133e-29,\n",
            "         -9.9529e-01,  8.9751e-01,  7.6160e-01, -9.6923e-01,  1.2800e-22,\n",
            "         -9.7086e-01,  1.6504e-22, -9.9500e-01, -3.0502e-26,  9.6532e-01,\n",
            "         -9.3322e-24,  7.2983e-20,  1.2676e-25, -9.3685e-01,  9.9494e-01,\n",
            "          9.9465e-01, -3.7707e-25,  9.8663e-01,  2.8585e-17, -3.9241e-28,\n",
            "         -2.7287e-23,  4.8698e-22,  9.9377e-01,  9.7420e-01,  1.3033e-22,\n",
            "          9.9433e-01, -9.9459e-01,  5.2620e-21, -3.1604e-23,  2.8593e-23,\n",
            "         -9.8640e-01,  1.4333e-26,  9.9293e-01, -4.9550e-04,  9.9376e-01]],\n",
            "       device='cuda:0', grad_fn=<ThnnFusedLstmCellBackward>)\n",
            "decd word  4 torch.Size([1, 100]) tensor([[-9.9975e-01,  9.9976e-01, -1.4013e-45,  4.1212e-42,  9.9931e-01,\n",
            "          9.9817e-01,  9.9637e-01,  4.2952e-32,  2.4660e-14,  3.9113e-29,\n",
            "         -3.3771e-43,  7.4269e-44,  9.5276e-01,  0.0000e+00,  9.4914e-08,\n",
            "          9.9736e-01, -0.0000e+00, -9.8799e-01, -9.9813e-01,  1.8777e-43,\n",
            "          7.8591e-39,  9.9933e-01, -0.0000e+00,  0.0000e+00, -3.6714e-43,\n",
            "          2.8320e-08,  9.9888e-01,  0.0000e+00,  9.9934e-01, -1.9338e-43,\n",
            "         -7.5050e-32, -9.8785e-01, -9.9924e-01,  3.4191e-22, -9.9924e-01,\n",
            "         -6.0956e-43, -4.2039e-45, -9.2486e-01, -3.7123e-39,  9.9345e-01,\n",
            "          9.9932e-01,  3.7879e-38, -8.0697e-35,  0.0000e+00, -7.6156e-01,\n",
            "          0.0000e+00,  9.9738e-01,  9.8771e-01,  9.6558e-01,  9.9931e-01,\n",
            "         -6.0350e-02, -0.0000e+00,  9.9933e-01,  1.2831e-02,  2.8026e-45,\n",
            "         -9.9579e-01,  0.0000e+00,  2.8026e-43,  5.5410e-38, -0.0000e+00,\n",
            "         -9.9931e-01,  9.9929e-01, -9.9637e-01, -9.9924e-01,  0.0000e+00,\n",
            "         -9.9936e-01,  9.8549e-01,  7.6195e-01, -9.9578e-01,  1.1778e-40,\n",
            "         -9.9601e-01, -3.2552e-25, -9.9932e-01, -8.3968e-30,  9.9523e-01,\n",
            "         -5.2320e-38,  1.1629e-18,  3.5979e-40, -7.7478e-01,  9.9931e-01,\n",
            "          9.9927e-01, -3.1965e-32,  9.9818e-01,  5.0471e-27, -0.0000e+00,\n",
            "         -1.5570e-30,  7.3343e-40,  9.9915e-01,  9.9647e-01,  2.2421e-44,\n",
            "          9.9923e-01, -9.9927e-01,  4.4681e-17, -0.0000e+00,  2.8846e-39,\n",
            "         -9.9815e-01,  3.4633e-41,  9.9904e-01, -4.9974e-11,  9.9915e-01]],\n",
            "       device='cuda:0', grad_fn=<ThnnFusedLstmCellBackward>)\n",
            "decd word  5 torch.Size([1, 100]) tensor([[-9.9997e-01,  9.9997e-01, -0.0000e+00,  1.7796e-43,  9.9991e-01,\n",
            "          9.9975e-01,  9.9951e-01,  2.6510e-26,  1.6511e-21,  1.4988e-25,\n",
            "         -2.7126e-40,  0.0000e+00,  9.9347e-01,  0.0000e+00,  1.3472e-15,\n",
            "          9.9964e-01, -0.0000e+00, -9.9836e-01, -9.9975e-01,  4.1619e-43,\n",
            "          1.4829e-33,  9.9991e-01, -1.4013e-45,  0.0000e+00, -0.0000e+00,\n",
            "          2.2518e-01,  9.9985e-01,  0.0000e+00,  9.9991e-01, -1.2892e-42,\n",
            "         -4.6670e-32, -9.9835e-01, -9.9990e-01,  1.6908e-30, -9.9990e-01,\n",
            "         -3.9553e-39, -1.1241e-41, -7.6163e-01, -0.0000e+00,  9.9911e-01,\n",
            "          9.9991e-01,  5.2774e-36, -5.3790e-34,  0.0000e+00, -7.6177e-01,\n",
            "          0.0000e+00,  9.9964e-01,  9.9833e-01,  9.9366e-01,  9.9991e-01,\n",
            "         -2.9642e-09, -0.0000e+00,  9.9991e-01,  8.5480e-01,  0.0000e+00,\n",
            "         -9.9943e-01,  8.8282e-44,  3.2561e-38,  5.1868e-38, -0.0000e+00,\n",
            "         -9.9991e-01,  9.9990e-01, -9.9951e-01, -9.9990e-01,  1.4013e-45,\n",
            "         -9.9991e-01,  9.9802e-01,  7.6160e-01, -9.9943e-01,  9.5173e-40,\n",
            "         -9.9946e-01,  8.1507e-26, -9.9991e-01, -1.5193e-30,  9.9935e-01,\n",
            "         -2.5002e-41,  4.3863e-18,  8.4078e-45, -9.6617e-01,  9.9991e-01,\n",
            "          9.9990e-01, -3.2322e-32,  9.9975e-01,  4.8073e-29, -2.3822e-44,\n",
            "         -1.0289e-30,  1.3371e-37,  9.9989e-01,  9.9952e-01,  5.7453e-44,\n",
            "          9.9990e-01, -9.9990e-01,  1.5110e-25, -3.0829e-44,  7.7589e-40,\n",
            "         -9.9975e-01,  2.1762e-42,  9.9987e-01, -1.8637e-11,  9.9989e-01]],\n",
            "       device='cuda:0', grad_fn=<ThnnFusedLstmCellBackward>)\n",
            "decd word  6 torch.Size([1, 100]) tensor([[-1.0000e+00,  1.0000e+00, -0.0000e+00,  0.0000e+00,  9.9999e-01,\n",
            "          9.9997e-01,  9.9993e-01,  3.2087e-31,  7.8457e-19,  1.5315e-34,\n",
            "         -2.8026e-45,  0.0000e+00,  9.9841e-01,  0.0000e+00,  2.0002e-12,\n",
            "          9.9995e-01, -0.0000e+00, -9.9945e-01, -9.9997e-01,  0.0000e+00,\n",
            "          1.1473e-37,  9.9999e-01, -9.8091e-44,  0.0000e+00, -0.0000e+00,\n",
            "          2.4092e-05,  9.9998e-01,  0.0000e+00,  9.9999e-01, -0.0000e+00,\n",
            "         -4.0397e-32, -9.9978e-01, -9.9999e-01,  5.5030e-27, -9.9999e-01,\n",
            "         -0.0000e+00, -0.0000e+00, -7.6193e-01, -2.8026e-45,  9.9988e-01,\n",
            "          9.9999e-01,  3.3040e-39, -9.3607e-43,  0.0000e+00, -7.6103e-01,\n",
            "          0.0000e+00,  9.9995e-01,  9.9977e-01,  9.9911e-01,  9.9999e-01,\n",
            "         -3.0024e-08, -0.0000e+00,  9.9999e-01,  5.0011e-02,  0.0000e+00,\n",
            "         -9.9992e-01,  0.0000e+00,  0.0000e+00,  1.1297e-37, -0.0000e+00,\n",
            "         -9.9999e-01,  9.9999e-01, -9.9993e-01, -9.9999e-01,  0.0000e+00,\n",
            "         -9.9999e-01,  9.9973e-01,  7.6160e-01, -9.9992e-01,  0.0000e+00,\n",
            "         -9.9993e-01, -1.1745e-25, -9.9999e-01, -2.2092e-30,  9.9991e-01,\n",
            "         -0.0000e+00,  1.0243e-18,  0.0000e+00, -9.9535e-01,  9.9999e-01,\n",
            "          9.9999e-01, -7.0714e-40,  9.9997e-01,  6.7468e-37, -0.0000e+00,\n",
            "         -7.4248e-37,  1.7937e-43,  9.9998e-01,  9.9994e-01,  0.0000e+00,\n",
            "          9.9999e-01, -9.9999e-01,  5.2714e-24, -0.0000e+00,  1.4013e-45,\n",
            "         -9.9997e-01,  0.0000e+00,  9.9998e-01, -4.3023e-15,  9.9998e-01]],\n",
            "       device='cuda:0', grad_fn=<ThnnFusedLstmCellBackward>)\n",
            "decd word  7 torch.Size([1, 100]) tensor([[-1.0000e+00,  1.0000e+00, -0.0000e+00,  0.0000e+00,  1.0000e+00,\n",
            "          1.0000e+00,  9.9999e-01,  0.0000e+00,  2.8821e-15,  7.0469e-40,\n",
            "         -0.0000e+00,  0.0000e+00,  9.9978e-01,  0.0000e+00,  1.4259e-07,\n",
            "          9.9999e-01, -0.0000e+00, -7.9471e-01, -1.0000e+00,  0.0000e+00,\n",
            "          0.0000e+00,  1.0000e+00,  0.0000e+00,  0.0000e+00, -0.0000e+00,\n",
            "          4.0595e-18,  1.0000e+00,  0.0000e+00,  1.0000e+00, -0.0000e+00,\n",
            "         -2.5386e-34, -9.9997e-01, -1.0000e+00,  2.8116e-26, -1.0000e+00,\n",
            "         -0.0000e+00, -0.0000e+00, -9.6397e-01, -0.0000e+00,  9.9998e-01,\n",
            "          1.0000e+00,  0.0000e+00, -0.0000e+00,  0.0000e+00, -6.3618e-01,\n",
            "          0.0000e+00,  9.9999e-01,  9.9997e-01,  9.9988e-01,  1.0000e+00,\n",
            "         -7.5771e-01, -0.0000e+00,  1.0000e+00,  9.6436e-08,  0.0000e+00,\n",
            "         -9.9999e-01,  0.0000e+00,  0.0000e+00,  4.0077e-43, -0.0000e+00,\n",
            "         -1.0000e+00,  1.0000e+00, -9.9999e-01, -1.0000e+00,  0.0000e+00,\n",
            "         -1.0000e+00,  9.9996e-01,  7.6159e-01, -9.9999e-01,  0.0000e+00,\n",
            "         -9.9999e-01, -4.2862e-22, -1.0000e+00, -1.9239e-39,  9.9999e-01,\n",
            "         -0.0000e+00, -1.7970e-25,  0.0000e+00, -9.9937e-01,  1.0000e+00,\n",
            "          1.0000e+00, -3.1311e-38,  9.7504e-01,  2.7408e-39, -0.0000e+00,\n",
            "         -1.4013e-45,  0.0000e+00,  1.0000e+00,  9.9999e-01,  0.0000e+00,\n",
            "          1.0000e+00, -1.0000e+00,  1.5194e-18, -0.0000e+00,  0.0000e+00,\n",
            "         -1.0000e+00,  0.0000e+00,  1.0000e+00, -4.0790e-14,  1.0000e+00]],\n",
            "       device='cuda:0', grad_fn=<ThnnFusedLstmCellBackward>)\n",
            "decd word  8 torch.Size([1, 100]) tensor([[-1.0000e+00,  1.0000e+00, -0.0000e+00,  0.0000e+00,  1.0000e+00,\n",
            "          1.0000e+00,  1.0000e+00,  0.0000e+00,  9.3213e-15,  1.4153e-43,\n",
            "         -0.0000e+00,  0.0000e+00,  9.9997e-01,  0.0000e+00,  2.7464e-04,\n",
            "          1.0000e+00, -0.0000e+00, -7.6066e-01, -1.0000e+00,  0.0000e+00,\n",
            "          0.0000e+00,  1.0000e+00,  0.0000e+00,  0.0000e+00, -0.0000e+00,\n",
            "          8.6014e-24,  1.0000e+00,  0.0000e+00,  1.0000e+00, -0.0000e+00,\n",
            "         -3.2344e-37, -1.0000e+00, -1.0000e+00,  1.4379e-25, -1.0000e+00,\n",
            "         -0.0000e+00, -0.0000e+00, -9.9504e-01, -0.0000e+00,  1.0000e+00,\n",
            "          1.0000e+00,  0.0000e+00, -0.0000e+00,  0.0000e+00, -8.1955e-02,\n",
            "          0.0000e+00,  1.0000e+00,  1.0000e+00,  9.9998e-01,  1.0000e+00,\n",
            "         -7.6190e-01, -0.0000e+00,  1.0000e+00,  5.6128e-12,  0.0000e+00,\n",
            "         -1.0000e+00,  0.0000e+00,  0.0000e+00,  0.0000e+00, -0.0000e+00,\n",
            "         -1.0000e+00,  1.0000e+00, -1.0000e+00, -1.0000e+00,  0.0000e+00,\n",
            "         -1.0000e+00,  9.9999e-01,  7.6159e-01, -1.0000e+00,  0.0000e+00,\n",
            "         -1.0000e+00, -1.1320e-19, -1.0000e+00, -3.1389e-42,  1.0000e+00,\n",
            "         -0.0000e+00, -1.5605e-32,  0.0000e+00, -9.9991e-01,  1.0000e+00,\n",
            "          1.0000e+00, -5.7666e-34,  4.8120e-02,  7.4893e-40, -0.0000e+00,\n",
            "         -0.0000e+00,  0.0000e+00,  1.0000e+00,  1.0000e+00,  0.0000e+00,\n",
            "          1.0000e+00, -1.0000e+00,  9.2366e-18, -0.0000e+00,  0.0000e+00,\n",
            "         -1.0000e+00,  0.0000e+00,  1.0000e+00, -2.8986e-10,  1.0000e+00]],\n",
            "       device='cuda:0', grad_fn=<ThnnFusedLstmCellBackward>)\n",
            "decd word  9 torch.Size([1, 100]) tensor([[-1.0000e+00,  1.0000e+00, -0.0000e+00,  0.0000e+00,  1.0000e+00,\n",
            "          1.0000e+00,  1.0000e+00,  7.1466e-44,  2.0793e-12,  2.2449e-42,\n",
            "         -0.0000e+00,  0.0000e+00,  1.0000e+00,  0.0000e+00,  7.8890e-05,\n",
            "          1.0000e+00, -0.0000e+00, -7.6187e-01, -1.0000e+00,  0.0000e+00,\n",
            "          0.0000e+00,  1.0000e+00,  0.0000e+00,  0.0000e+00, -0.0000e+00,\n",
            "          1.1300e-24,  1.0000e+00,  0.0000e+00,  1.0000e+00, -0.0000e+00,\n",
            "         -2.1702e-34, -1.0000e+00, -1.0000e+00,  3.1601e-24, -1.0000e+00,\n",
            "         -0.0000e+00, -0.0000e+00, -9.9933e-01, -0.0000e+00,  1.0000e+00,\n",
            "          1.0000e+00,  0.0000e+00, -0.0000e+00,  0.0000e+00, -2.2273e-02,\n",
            "          0.0000e+00,  1.0000e+00,  1.0000e+00,  1.0000e+00,  1.0000e+00,\n",
            "         -7.6110e-01, -0.0000e+00,  1.0000e+00,  1.5622e-11,  0.0000e+00,\n",
            "         -1.0000e+00,  0.0000e+00,  0.0000e+00,  1.8217e-44, -0.0000e+00,\n",
            "         -1.0000e+00,  1.0000e+00, -1.0000e+00, -1.0000e+00,  0.0000e+00,\n",
            "         -1.0000e+00,  1.0000e+00,  7.6159e-01, -1.0000e+00,  0.0000e+00,\n",
            "         -1.0000e+00, -6.0473e-16, -1.0000e+00, -5.8803e-41,  1.0000e+00,\n",
            "         -0.0000e+00, -8.6116e-35,  0.0000e+00, -9.9999e-01,  1.0000e+00,\n",
            "          1.0000e+00, -5.4265e-36,  9.9461e-01,  3.0051e-37, -0.0000e+00,\n",
            "         -2.1019e-44,  0.0000e+00,  1.0000e+00,  1.0000e+00,  0.0000e+00,\n",
            "          1.0000e+00, -1.0000e+00,  6.3237e-16, -0.0000e+00,  0.0000e+00,\n",
            "         -1.0000e+00,  0.0000e+00,  1.0000e+00, -1.6720e-12,  1.0000e+00]],\n",
            "       device='cuda:0', grad_fn=<ThnnFusedLstmCellBackward>)\n",
            "decd word  10 torch.Size([1, 100]) tensor([[-1.0000e+00,  1.0000e+00, -0.0000e+00,  0.0000e+00,  1.0000e+00,\n",
            "          1.0000e+00,  1.0000e+00,  0.0000e+00,  9.5731e-07,  0.0000e+00,\n",
            "         -0.0000e+00,  0.0000e+00,  1.0000e+00,  0.0000e+00,  7.0617e-01,\n",
            "          1.0000e+00, -0.0000e+00, -7.6181e-01, -1.0000e+00,  5.6052e-45,\n",
            "          0.0000e+00,  1.0000e+00,  0.0000e+00,  0.0000e+00, -0.0000e+00,\n",
            "          1.9127e-28,  1.0000e+00,  0.0000e+00,  1.0000e+00, -0.0000e+00,\n",
            "         -1.6920e-28, -1.0000e+00, -1.0000e+00,  8.1148e-17, -1.0000e+00,\n",
            "         -0.0000e+00, -0.0000e+00, -9.9991e-01, -0.0000e+00,  1.0000e+00,\n",
            "          1.0000e+00,  5.2128e-43, -2.5492e-39,  0.0000e+00, -2.3163e-05,\n",
            "          0.0000e+00,  1.0000e+00,  1.0000e+00,  1.0000e+00,  1.0000e+00,\n",
            "         -8.2811e-01, -0.0000e+00,  1.0000e+00,  1.2337e-15,  0.0000e+00,\n",
            "         -1.0000e+00,  0.0000e+00,  0.0000e+00,  1.1896e-39, -0.0000e+00,\n",
            "         -1.0000e+00,  1.0000e+00, -1.0000e+00, -1.0000e+00,  0.0000e+00,\n",
            "         -1.0000e+00,  9.8181e-01,  7.6162e-01, -1.0000e+00,  0.0000e+00,\n",
            "         -1.0000e+00, -5.2458e-15, -1.0000e+00, -4.1435e-37,  1.0000e+00,\n",
            "         -0.0000e+00, -5.1466e-33,  0.0000e+00, -1.0000e+00,  1.0000e+00,\n",
            "          1.0000e+00, -6.5130e-28,  8.0713e-03,  9.3719e-31, -0.0000e+00,\n",
            "         -4.6814e-37,  0.0000e+00,  1.0000e+00,  1.0000e+00,  0.0000e+00,\n",
            "          1.0000e+00, -1.0000e+00,  8.8470e-09, -0.0000e+00,  0.0000e+00,\n",
            "         -1.0000e+00,  0.0000e+00,  1.0000e+00, -3.3523e-15,  1.0000e+00]],\n",
            "       device='cuda:0', grad_fn=<ThnnFusedLstmCellBackward>)\n",
            "decd word  11 torch.Size([1, 100]) tensor([[-1.0000e+00,  1.0000e+00, -0.0000e+00,  0.0000e+00,  1.0000e+00,\n",
            "          1.0000e+00,  1.0000e+00,  0.0000e+00,  1.1454e-06,  0.0000e+00,\n",
            "         -0.0000e+00,  0.0000e+00,  1.0000e+00,  0.0000e+00,  9.5409e-01,\n",
            "          1.0000e+00, -0.0000e+00, -7.6223e-01, -1.0000e+00,  2.8026e-45,\n",
            "          0.0000e+00,  1.0000e+00,  0.0000e+00,  0.0000e+00, -0.0000e+00,\n",
            "          8.6005e-30,  1.0000e+00,  0.0000e+00,  1.0000e+00, -0.0000e+00,\n",
            "         -1.3095e-26, -1.0000e+00, -1.0000e+00,  7.4596e-14, -1.0000e+00,\n",
            "         -1.1210e-44, -0.0000e+00, -9.9999e-01, -0.0000e+00,  1.0000e+00,\n",
            "          1.0000e+00,  8.2677e-44, -9.0421e-38,  0.0000e+00, -1.5411e-08,\n",
            "          0.0000e+00,  1.0000e+00,  1.0000e+00,  1.0000e+00,  1.0000e+00,\n",
            "         -9.6557e-01, -0.0000e+00,  1.0000e+00,  3.4202e-20,  0.0000e+00,\n",
            "         -1.0000e+00,  0.0000e+00,  0.0000e+00,  1.0024e-36, -0.0000e+00,\n",
            "         -1.0000e+00,  1.0000e+00, -1.0000e+00, -1.0000e+00,  0.0000e+00,\n",
            "         -1.0000e+00,  5.7079e-01,  7.6191e-01, -1.0000e+00,  0.0000e+00,\n",
            "         -1.0000e+00, -2.8086e-16, -1.0000e+00, -7.8719e-38,  1.0000e+00,\n",
            "         -0.0000e+00, -5.3734e-36,  0.0000e+00, -1.0000e+00,  1.0000e+00,\n",
            "          1.0000e+00, -3.5284e-22,  2.7018e-06,  6.1701e-30, -0.0000e+00,\n",
            "         -1.0277e-35,  0.0000e+00,  1.0000e+00,  1.0000e+00,  0.0000e+00,\n",
            "          1.0000e+00, -1.0000e+00,  3.9310e-06, -0.0000e+00,  0.0000e+00,\n",
            "         -1.0000e+00,  0.0000e+00,  1.0000e+00, -8.9199e-16,  1.0000e+00]],\n",
            "       device='cuda:0', grad_fn=<ThnnFusedLstmCellBackward>)\n",
            "decd word  12 torch.Size([1, 100]) tensor([[-1.0000e+00,  1.0000e+00, -0.0000e+00,  0.0000e+00,  1.0000e+00,\n",
            "          1.0000e+00,  1.0000e+00,  0.0000e+00, -3.7189e-04,  0.0000e+00,\n",
            "         -1.6395e-43,  0.0000e+00,  1.0000e+00,  0.0000e+00,  9.9366e-01,\n",
            "          1.0000e+00, -0.0000e+00, -7.6184e-01, -1.0000e+00,  1.5396e-38,\n",
            "          0.0000e+00,  1.0000e+00,  0.0000e+00,  0.0000e+00, -0.0000e+00,\n",
            "          1.8322e-31,  1.0000e+00,  0.0000e+00,  1.0000e+00, -0.0000e+00,\n",
            "         -2.2836e-20, -1.0000e+00, -1.0000e+00,  6.5877e-10, -1.0000e+00,\n",
            "         -8.0532e-40, -0.0000e+00, -1.0000e+00, -0.0000e+00,  1.0000e+00,\n",
            "          1.0000e+00,  1.8443e-40, -5.9997e-31,  0.0000e+00, -3.4960e-12,\n",
            "          0.0000e+00,  1.0000e+00,  1.0000e+00,  1.0000e+00,  1.0000e+00,\n",
            "         -9.9527e-01, -0.0000e+00,  1.0000e+00,  1.4775e-26,  0.0000e+00,\n",
            "         -1.0000e+00,  0.0000e+00,  2.8082e-42,  3.6228e-30, -0.0000e+00,\n",
            "         -1.0000e+00,  1.0000e+00, -1.0000e+00, -1.0000e+00,  0.0000e+00,\n",
            "         -1.0000e+00,  1.2620e-02,  7.8551e-01, -1.0000e+00,  0.0000e+00,\n",
            "         -1.0000e+00, -3.4063e-17, -1.0000e+00, -6.6990e-41,  1.0000e+00,\n",
            "         -2.5223e-44, -5.3166e-35,  0.0000e+00, -1.0000e+00,  1.0000e+00,\n",
            "          1.0000e+00, -3.3087e-18,  2.4184e-08,  1.3146e-24, -0.0000e+00,\n",
            "         -1.3940e-28,  1.5143e-40,  1.0000e+00,  1.0000e+00,  1.5414e-44,\n",
            "          1.0000e+00, -1.0000e+00,  5.0912e-01, -0.0000e+00,  0.0000e+00,\n",
            "         -1.0000e+00,  0.0000e+00,  1.0000e+00, -1.5477e-15,  1.0000e+00]],\n",
            "       device='cuda:0', grad_fn=<ThnnFusedLstmCellBackward>)\n"
          ],
          "name": "stdout"
        },
        {
          "output_type": "execute_result",
          "data": {
            "application/vnd.google.colaboratory.intrinsic+json": {
              "type": "string"
            },
            "text/plain": [
              "'Negative'"
            ]
          },
          "metadata": {
            "tags": []
          },
          "execution_count": 30
        }
      ]
    },
    {
      "cell_type": "markdown",
      "metadata": {
        "id": "1HwjrPw0W-qu"
      },
      "source": [
        "## Testing the model on 10 random review comments from the validation set to predict the label"
      ]
    },
    {
      "cell_type": "code",
      "metadata": {
        "id": "RBCajTM636dI",
        "colab": {
          "base_uri": "https://localhost:8080/",
          "height": 1000
        },
        "outputId": "1b816607-80bf-4379-b015-0f5b3b7924ef"
      },
      "source": [
        "import random \n",
        "\n",
        "from IPython.display import display, Markdown\n",
        "\n",
        "TESTSAMPLE = 10\n",
        "\n",
        "validindex = np.arange (len(valid))\n",
        "\n",
        "printEncoderDecoderOutput = False\n",
        "randindex = random.choices(validindex , k=10)\n",
        "\n",
        "sentenceLabelPrediction = []\n",
        "\n",
        "for i in range(TESTSAMPLE)  :\n",
        "  slp = {}\n",
        "  out = vars(valid.examples[randindex[i]])\n",
        "  \n",
        "  true_label = categories[out['label']]\n",
        "  in_tweet = ' '.join(out['tweet'])\n",
        "  pred_label = classify_tweet(in_tweet)\n",
        "\n",
        "  strTruelabel = 'True label: ' + str(true_label)\n",
        "  strPredlabel = 'Predicted label: ' +  str(pred_label)\n",
        "  strSentence =  'Input Sentence: ' + in_tweet\n",
        "  slp['Truelabel'] = true_label\n",
        "  slp['Predictedlabel'] = pred_label\n",
        "  slp['Input Sentence'] = in_tweet\n",
        "\n",
        "  sentenceLabelPrediction.append(slp)\n",
        "  \n",
        "  lineSeparator = '---------------------------------'\n",
        "  display(Markdown('<strong>{}</strong><br><br><strong>{}</strong><br><br>{}<br><br><strong>{}</strong><br><br>'.format(strTruelabel , strPredlabel , strSentence , lineSeparator)))\n",
        "\n",
        "\n",
        "\n",
        "\n"
      ],
      "execution_count": null,
      "outputs": [
        {
          "output_type": "display_data",
          "data": {
            "text/markdown": "<strong>True label: Negative</strong><br><br><strong>Predicted label: Negative</strong><br><br>Input Sentence: BUM ! Obama \" threatens \" supreme court justices considering repealing his unconstitutional healthcare law . Nice move bum !<br><br><strong>---------------------------------</strong><br><br>",
            "text/plain": [
              "<IPython.core.display.Markdown object>"
            ]
          },
          "metadata": {
            "tags": []
          }
        },
        {
          "output_type": "display_data",
          "data": {
            "text/markdown": "<strong>True label: Negative</strong><br><br><strong>Predicted label: Negative</strong><br><br>Input Sentence: @ericbolling # Hillary 's gon na challenge # Obama<br><br><strong>---------------------------------</strong><br><br>",
            "text/plain": [
              "<IPython.core.display.Markdown object>"
            ]
          },
          "metadata": {
            "tags": []
          }
        },
        {
          "output_type": "display_data",
          "data": {
            "text/markdown": "<strong>True label: Negative</strong><br><br><strong>Predicted label: Negative</strong><br><br>Input Sentence: RT @ohgirlphrase : American kid \" You 're from the UK ? Ohhh cool , So do you have tea with the Queen ? \" . British kid : \" Do you like , go to Mcdonalds with Obama ?<br><br><strong>---------------------------------</strong><br><br>",
            "text/plain": [
              "<IPython.core.display.Markdown object>"
            ]
          },
          "metadata": {
            "tags": []
          }
        },
        {
          "output_type": "display_data",
          "data": {
            "text/markdown": "<strong>True label: Negative</strong><br><br><strong>Predicted label: Negative</strong><br><br>Input Sentence: @AC360   President Obama is a Constitutional Law scholar - give him credit and the respect that he deserves .   @JaySekulow is annoying .<br><br><strong>---------------------------------</strong><br><br>",
            "text/plain": [
              "<IPython.core.display.Markdown object>"
            ]
          },
          "metadata": {
            "tags": []
          }
        },
        {
          "output_type": "display_data",
          "data": {
            "text/markdown": "<strong>True label: Positive</strong><br><br><strong>Predicted label: Negative</strong><br><br>Input Sentence: Obama signs JOBS Act to boost startup firms - http://t.co/TFuPTCwT<br><br><strong>---------------------------------</strong><br><br>",
            "text/plain": [
              "<IPython.core.display.Markdown object>"
            ]
          },
          "metadata": {
            "tags": []
          }
        },
        {
          "output_type": "display_data",
          "data": {
            "text/markdown": "<strong>True label: Negative</strong><br><br><strong>Predicted label: Negative</strong><br><br>Input Sentence: RT @ohgirlphrase : American kid \" You 're from the UK ? Ohhh cool , So do you have tea with the Queen ? \" . British kid : \" Do you like , go to Mcdonalds with Obama ?<br><br><strong>---------------------------------</strong><br><br>",
            "text/plain": [
              "<IPython.core.display.Markdown object>"
            ]
          },
          "metadata": {
            "tags": []
          }
        },
        {
          "output_type": "display_data",
          "data": {
            "text/markdown": "<strong>True label: Negative</strong><br><br><strong>Predicted label: Negative</strong><br><br>Input Sentence: It 's incredible that something like # WhatsRomneyHiding would be trending . Yet Obama is sneakiest , harmful person and no one says anything .<br><br><strong>---------------------------------</strong><br><br>",
            "text/plain": [
              "<IPython.core.display.Markdown object>"
            ]
          },
          "metadata": {
            "tags": []
          }
        },
        {
          "output_type": "display_data",
          "data": {
            "text/markdown": "<strong>True label: Negative</strong><br><br><strong>Predicted label: Negative</strong><br><br>Input Sentence: A \" legislator \" who 'd never passed legislation . A \" law professor \" who 'd never published a law review article ... Is Obama fictional ? # hhrs<br><br><strong>---------------------------------</strong><br><br>",
            "text/plain": [
              "<IPython.core.display.Markdown object>"
            ]
          },
          "metadata": {
            "tags": []
          }
        },
        {
          "output_type": "display_data",
          "data": {
            "text/markdown": "<strong>True label: Negative</strong><br><br><strong>Predicted label: Negative</strong><br><br>Input Sentence: RT @anna12061 : Another Obama Buddy !<br><br><strong>---------------------------------</strong><br><br>",
            "text/plain": [
              "<IPython.core.display.Markdown object>"
            ]
          },
          "metadata": {
            "tags": []
          }
        },
        {
          "output_type": "display_data",
          "data": {
            "text/markdown": "<strong>True label: Negative</strong><br><br><strong>Predicted label: Negative</strong><br><br>Input Sentence: @obama start tweeting dang<br><br><strong>---------------------------------</strong><br><br>",
            "text/plain": [
              "<IPython.core.display.Markdown object>"
            ]
          },
          "metadata": {
            "tags": []
          }
        }
      ]
    },
    {
      "cell_type": "markdown",
      "metadata": {
        "id": "5NpzwfiJu0H9"
      },
      "source": [
        "### store the information for further analysis"
      ]
    },
    {
      "cell_type": "code",
      "metadata": {
        "id": "hyueHFvP4Yoi"
      },
      "source": [
        "diagnosticDict = {}\n",
        "\n",
        "diagnosticDict['num_hidden_nodes'] = num_hidden_nodes\n",
        "diagnosticDict['epochs'] = N_EPOCHS\n",
        "diagnosticDict['lr'] = learning_rate\n",
        "diagnosticDict['batchsize'] = batch_size\n",
        "diagnosticDict['trainLossList'] = trainLossList\n",
        "diagnosticDict['valLossList']= valLossList\n",
        "diagnosticDict['trainAccyList'] = trainAccyList\n",
        "diagnosticDict['valAccyList'] = valAccyList\n",
        "diagnosticDict['sentencelabelpredict'] = sentenceLabelPrediction\n",
        "\n",
        "#diagnosticDict"
      ],
      "execution_count": null,
      "outputs": []
    },
    {
      "cell_type": "code",
      "metadata": {
        "id": "vBpGdtqf4iFA"
      },
      "source": [
        "import json\n",
        "\n",
        "with open(\"encdr_dcdr_lstmdiagnostic.json\", \"a\") as out_file:\n",
        "  json.dump(diagnosticDict, out_file, indent = 6)\n"
      ],
      "execution_count": null,
      "outputs": []
    }
  ]
}