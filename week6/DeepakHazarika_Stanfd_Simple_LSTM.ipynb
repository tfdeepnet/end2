{
  "nbformat": 4,
  "nbformat_minor": 0,
  "metadata": {
    "colab": {
      "name": "stanfd - Simple LSTM.ipynb",
      "provenance": [],
      "collapsed_sections": []
    },
    "kernelspec": {
      "name": "python3",
      "display_name": "Python 3"
    },
    "language_info": {
      "name": "python"
    }
  },
  "cells": [
    {
      "cell_type": "markdown",
      "metadata": {
        "id": "K30cEqjULNrj"
      },
      "source": [
        "### Import the required libraries"
      ]
    },
    {
      "cell_type": "code",
      "metadata": {
        "id": "1JhGnjFz8lnk"
      },
      "source": [
        "import matplotlib.pyplot as plt\n",
        "%matplotlib inline\n",
        "import numpy as np\n",
        "import pandas as pd\n",
        "import random\n",
        "import torch, torchtext\n",
        "from torchtext import data\n",
        "import torch.optim as optim\n",
        "\n",
        "import os, pickle\n",
        "\n",
        "import torch.nn as nn\n",
        "import torch.nn.functional as F\n",
        "import json"
      ],
      "execution_count": 3,
      "outputs": []
    },
    {
      "cell_type": "markdown",
      "metadata": {
        "id": "H0HiWQPlLT_d"
      },
      "source": [
        "### Get pre processed Stanford sentiment analysis dataset\n",
        "\n",
        "Pre processing of data is done separately to better manage the time between data augmentation and testing the LSTM model.This notebook is focussed on model tuning and performance.More details about data augmentation is provided in the other notebook.A high level view of the augmentation strategy is provided here to give a context about the data. \n",
        "\n",
        "Original datasset has 11286 sentences with labels , data is augmented to generate 45144 additional sentences with labels.\n",
        "\n",
        "The following augmentation strategy is used to mimic real life data\n",
        "\n",
        "1.   random swap - The words are randomly swapped to mimic users comment on a movie\n",
        "2.   random deletion - words are randomly deleted but the labels are kept same.This mimics user feedback when they put their review in a hurry.\n",
        "3.   random insertion - stopwords are removed and some words are repeated to stress importance or convey users feeling about the movie.\n",
        "4.   use google  translate to translate the review comment to a random destination language and re translate to english.This mimics users review comment from different parts of the world into one standard language.\n",
        "\n",
        "#### The labels are normalized into 5 categories based on the following rule\n",
        "\n",
        "1.   *0 <= If the rating is  <= 0.2 - label is 0* which is mapped to **Very negative**\n",
        "2.   *0.2 < If the rating is  <= 0.4 - label is 1* which is mapped to **negative**\n",
        "\n",
        "3.   *0.4 < If the rating is  <= 0.6 - label is 2* which is mapped to **neutral**\n",
        "\n",
        "4.   *0.6 < If the rating is  <= 0.8 - label is 3* which is mapped to **positive**\n",
        "\n",
        "5.   *0.8 < If the rating is  <= 1.0 - label is 4* which is mapped to **Very positive**\n",
        "\n",
        "\n",
        "\n"
      ]
    },
    {
      "cell_type": "code",
      "metadata": {
        "id": "gY4eAjHGbFON",
        "colab": {
          "base_uri": "https://localhost:8080/",
          "height": 206
        },
        "outputId": "c723e8a4-64fe-41eb-e4c0-258ae3c36471"
      },
      "source": [
        "\n",
        "\n",
        "df = pd.read_csv(\"/content/orig_swap_del_tlt_insDF.csv\") #   \"/content/tweets.csv\")\n",
        "df.tail()"
      ],
      "execution_count": 6,
      "outputs": [
        {
          "output_type": "execute_result",
          "data": {
            "text/html": [
              "<div>\n",
              "<style scoped>\n",
              "    .dataframe tbody tr th:only-of-type {\n",
              "        vertical-align: middle;\n",
              "    }\n",
              "\n",
              "    .dataframe tbody tr th {\n",
              "        vertical-align: top;\n",
              "    }\n",
              "\n",
              "    .dataframe thead th {\n",
              "        text-align: right;\n",
              "    }\n",
              "</style>\n",
              "<table border=\"1\" class=\"dataframe\">\n",
              "  <thead>\n",
              "    <tr style=\"text-align: right;\">\n",
              "      <th></th>\n",
              "      <th>sentence</th>\n",
              "      <th>label</th>\n",
              "    </tr>\n",
              "  </thead>\n",
              "  <tbody>\n",
              "    <tr>\n",
              "      <th>56425</th>\n",
              "      <td>real snooze .</td>\n",
              "      <td>0</td>\n",
              "    </tr>\n",
              "    <tr>\n",
              "      <th>56426</th>\n",
              "      <td>surprise .</td>\n",
              "      <td>1</td>\n",
              "    </tr>\n",
              "    <tr>\n",
              "      <th>56427</th>\n",
              "      <td>' ve see see see  see_to_it see_to_it see_to_i...</td>\n",
              "      <td>3</td>\n",
              "    </tr>\n",
              "    <tr>\n",
              "      <th>56428</th>\n",
              "      <td>rooter rooter rooter  walk walk walk walk  wal...</td>\n",
              "      <td>0</td>\n",
              "    </tr>\n",
              "    <tr>\n",
              "      <th>56429</th>\n",
              "      <td>instance instance instance  example example ex...</td>\n",
              "      <td>1</td>\n",
              "    </tr>\n",
              "  </tbody>\n",
              "</table>\n",
              "</div>"
            ],
            "text/plain": [
              "                                                sentence  label\n",
              "56425                                      real snooze .      0\n",
              "56426                                         surprise .      1\n",
              "56427  ' ve see see see  see_to_it see_to_it see_to_i...      3\n",
              "56428  rooter rooter rooter  walk walk walk walk  wal...      0\n",
              "56429  instance instance instance  example example ex...      1"
            ]
          },
          "metadata": {
            "tags": []
          },
          "execution_count": 6
        }
      ]
    },
    {
      "cell_type": "code",
      "metadata": {
        "colab": {
          "base_uri": "https://localhost:8080/"
        },
        "id": "rE-ylf6C6BJD",
        "outputId": "67cd67d1-30cf-4da4-fd9b-7e03da8ded1d"
      },
      "source": [
        "df.shape"
      ],
      "execution_count": 7,
      "outputs": [
        {
          "output_type": "execute_result",
          "data": {
            "text/plain": [
              "(56430, 2)"
            ]
          },
          "metadata": {
            "tags": []
          },
          "execution_count": 7
        }
      ]
    },
    {
      "cell_type": "markdown",
      "metadata": {
        "id": "STs86arER7_-"
      },
      "source": [
        "### A quick glance of the label statistics\n",
        "\n",
        "Majority of the comments have a label of **negative or positive or neutral**  , users avoid giving outlier labels like **Very negative or Very positive**."
      ]
    },
    {
      "cell_type": "code",
      "metadata": {
        "colab": {
          "base_uri": "https://localhost:8080/"
        },
        "id": "dkxhrQox6Ju3",
        "outputId": "d921ad1f-e4c0-4b45-faec-9251b0d6668d"
      },
      "source": [
        "df.label.value_counts()"
      ],
      "execution_count": 8,
      "outputs": [
        {
          "output_type": "execute_result",
          "data": {
            "text/plain": [
              "1    14855\n",
              "3    14830\n",
              "2    10720\n",
              "4     8865\n",
              "0     7160\n",
              "Name: label, dtype: int64"
            ]
          },
          "metadata": {
            "tags": []
          },
          "execution_count": 8
        }
      ]
    },
    {
      "cell_type": "code",
      "metadata": {
        "colab": {
          "base_uri": "https://localhost:8080/"
        },
        "id": "4kqZx2hG6e4Q",
        "outputId": "480527bb-3d51-4883-ea5c-7a43c1d3ec0b"
      },
      "source": [
        "# Manual Seed\n",
        "SEED = 43\n",
        "torch.manual_seed(SEED)"
      ],
      "execution_count": 9,
      "outputs": [
        {
          "output_type": "execute_result",
          "data": {
            "text/plain": [
              "<torch._C.Generator at 0x7f896d354550>"
            ]
          },
          "metadata": {
            "tags": []
          },
          "execution_count": 9
        }
      ]
    },
    {
      "cell_type": "markdown",
      "metadata": {
        "id": "iFJ7v_UsTJSV"
      },
      "source": [
        "### Create Field and LabelField variables to hold the comment and label information\n",
        "\n",
        "**Field** - Defines a datatype together with instructions for converting to Tensor.\n",
        "\n",
        "Field class models common text processing datatypes that can be represented by tensors. It holds a Vocab object that defines the set of possible values for elements of the field and their corresponding numerical representations. The Field object also holds other parameters relating to how a datatype should be numericalized, such as a tokenization method and the kind of Tensor that should be produced.\n",
        "\n",
        "1.   The comment will be stored in **Sentence** Field object\n",
        "2.   The label will be stored in **Label** LabelField object\n"
      ]
    },
    {
      "cell_type": "code",
      "metadata": {
        "id": "db3eiDVx6mKf"
      },
      "source": [
        "Sentence = torchtext.legacy.data.Field(sequential = True, tokenize = 'spacy', batch_first =True, include_lengths=True)\n",
        "Label = torchtext.legacy.data.LabelField(tokenize ='spacy', is_target=True, batch_first =True, sequential =False)"
      ],
      "execution_count": 10,
      "outputs": []
    },
    {
      "cell_type": "markdown",
      "metadata": {
        "id": "jkFwvAr2TrUl"
      },
      "source": [
        "#### Map the 2 variables to column header \n",
        "\n",
        "| Column header | Variable name |\n",
        "| --- | --- |\n",
        "| **sentence** | Sentence |\n",
        "| **label** | Label |"
      ]
    },
    {
      "cell_type": "code",
      "metadata": {
        "id": "-by1zHIV7LPI"
      },
      "source": [
        "fields = [('sentence', Sentence), ('label', Label)]"
      ],
      "execution_count": 11,
      "outputs": []
    },
    {
      "cell_type": "markdown",
      "metadata": {
        "id": "NfbycXHoVs3M"
      },
      "source": [
        "### Create a list of example\n",
        "\n",
        "by doing list comprehension of the sentence and label dataframe generated from the preprocessed csv file"
      ]
    },
    {
      "cell_type": "code",
      "metadata": {
        "id": "GxmCFTgk797i"
      },
      "source": [
        "example = [torchtext.legacy.data.Example.fromlist([df.sentence[i],df.label[i]], fields) for i in range(df.shape[0])] "
      ],
      "execution_count": 12,
      "outputs": []
    },
    {
      "cell_type": "markdown",
      "metadata": {
        "id": "1pAyHk0PYobU"
      },
      "source": [
        "### Create the Dataset \n",
        "\n",
        "by providing the above list of examples and the field mapping"
      ]
    },
    {
      "cell_type": "code",
      "metadata": {
        "id": "-Lj9XCy38OqE"
      },
      "source": [
        "stanfordDataset = torchtext.legacy.data.Dataset(example, fields)"
      ],
      "execution_count": 13,
      "outputs": []
    },
    {
      "cell_type": "code",
      "metadata": {
        "colab": {
          "base_uri": "https://localhost:8080/"
        },
        "id": "2rptONIZGBmm",
        "outputId": "57cf1412-39d2-4a0b-855b-784667e10002"
      },
      "source": [
        "stanfordDataset"
      ],
      "execution_count": 14,
      "outputs": [
        {
          "output_type": "execute_result",
          "data": {
            "text/plain": [
              "<torchtext.legacy.data.dataset.Dataset at 0x7f890dcb9dd0>"
            ]
          },
          "metadata": {
            "tags": []
          },
          "execution_count": 14
        }
      ]
    },
    {
      "cell_type": "markdown",
      "metadata": {
        "id": "Hv2TnDp1Y3KH"
      },
      "source": [
        "### Split the dataset into\n",
        "\n",
        "train and validation in the ratio of **85:15**"
      ]
    },
    {
      "cell_type": "code",
      "metadata": {
        "id": "4PIA3n0l8m2x"
      },
      "source": [
        "(train, valid) = stanfordDataset.split(split_ratio=[85, 15], random_state = random.seed(SEED))"
      ],
      "execution_count": 15,
      "outputs": []
    },
    {
      "cell_type": "code",
      "metadata": {
        "colab": {
          "base_uri": "https://localhost:8080/"
        },
        "id": "91fhtSKS8y3T",
        "outputId": "088f8185-7faa-4632-f324-33f93c862447"
      },
      "source": [
        "len(train), len(valid)"
      ],
      "execution_count": 16,
      "outputs": [
        {
          "output_type": "execute_result",
          "data": {
            "text/plain": [
              "(47966, 8464)"
            ]
          },
          "metadata": {
            "tags": []
          },
          "execution_count": 16
        }
      ]
    },
    {
      "cell_type": "code",
      "metadata": {
        "colab": {
          "base_uri": "https://localhost:8080/"
        },
        "id": "wllgrWlVGhBw",
        "outputId": "5c077156-e272-4c61-de7d-e61902f1988f"
      },
      "source": [
        "train.fields"
      ],
      "execution_count": 17,
      "outputs": [
        {
          "output_type": "execute_result",
          "data": {
            "text/plain": [
              "{'label': <torchtext.legacy.data.field.LabelField at 0x7f8915d3f950>,\n",
              " 'sentence': <torchtext.legacy.data.field.Field at 0x7f896b5f2d10>}"
            ]
          },
          "metadata": {
            "tags": []
          },
          "execution_count": 17
        }
      ]
    },
    {
      "cell_type": "markdown",
      "metadata": {
        "id": "0jHIR5jUZgYF"
      },
      "source": [
        "#### a quick glance of a train record"
      ]
    },
    {
      "cell_type": "code",
      "metadata": {
        "colab": {
          "base_uri": "https://localhost:8080/"
        },
        "id": "pCDhbBKJ81ZK",
        "outputId": "7a58a4b4-3f6e-4e18-959e-be744187edac"
      },
      "source": [
        "vars(train.examples[15])"
      ],
      "execution_count": 18,
      "outputs": [
        {
          "output_type": "execute_result",
          "data": {
            "text/plain": [
              "{'label': 4,\n",
              " 'sentence': ['Maud',\n",
              "  'and',\n",
              "  'Roland',\n",
              "  \"'s\",\n",
              "  'search',\n",
              "  'for',\n",
              "  'an',\n",
              "  'unknowable',\n",
              "  'past',\n",
              "  'makes',\n",
              "  'for',\n",
              "  'a',\n",
              "  'haunting',\n",
              "  'literary',\n",
              "  'detective',\n",
              "  'story',\n",
              "  ',',\n",
              "  'but',\n",
              "  'LaBute',\n",
              "  'pulls',\n",
              "  'off',\n",
              "  'a',\n",
              "  'neater',\n",
              "  'trick',\n",
              "  'in',\n",
              "  'Possession',\n",
              "  ':',\n",
              "  'He',\n",
              "  'makes',\n",
              "  'language',\n",
              "  'sexy',\n",
              "  '.']}"
            ]
          },
          "metadata": {
            "tags": []
          },
          "execution_count": 18
        }
      ]
    },
    {
      "cell_type": "markdown",
      "metadata": {
        "id": "QnrQQrRObusF"
      },
      "source": [
        "A Vocab object defines the set of possible values for elements of the field and their corresponding numerical representations.\n",
        "\n",
        "Create Vocab object of the review comments and labels"
      ]
    },
    {
      "cell_type": "code",
      "metadata": {
        "id": "b_K23gxx84-K"
      },
      "source": [
        "Sentence.build_vocab(train)\n",
        "Label.build_vocab(train)"
      ],
      "execution_count": 19,
      "outputs": []
    },
    {
      "cell_type": "code",
      "metadata": {
        "colab": {
          "base_uri": "https://localhost:8080/"
        },
        "id": "zCPG8VrE9MKq",
        "outputId": "15b706df-2240-4455-c2c8-149b66868741"
      },
      "source": [
        "print('Size of input vocab : ', len(Sentence.vocab))\n",
        "print('Size of label vocab : ', len(Label.vocab))\n",
        "print('Top 10 words appreared repeatedly :', list(Sentence.vocab.freqs.most_common(10)))\n",
        "print('label : ', Label.vocab.stoi)"
      ],
      "execution_count": 20,
      "outputs": [
        {
          "output_type": "stream",
          "text": [
            "Size of input vocab :  30304\n",
            "Size of label vocab :  5\n",
            "Top 10 words appreared repeatedly : [(' ', 74250), ('.', 42403), (',', 37352), ('the', 26290), ('-', 19043), ('of', 18296), ('and', 18143), ('a', 17888), ('to', 12527), (\"'\", 12369)]\n",
            "label :  defaultdict(None, {1: 0, 3: 1, 2: 2, 4: 3, 0: 4})\n"
          ],
          "name": "stdout"
        }
      ]
    },
    {
      "cell_type": "code",
      "metadata": {
        "colab": {
          "base_uri": "https://localhost:8080/"
        },
        "id": "gBmMQQcX9SZk",
        "outputId": "9fd44fa0-3f0c-4621-cc07-1aa2e8cabd77"
      },
      "source": [
        "device = torch.device(\"cuda\" if torch.cuda.is_available() else \"cpu\")\n",
        "device"
      ],
      "execution_count": 21,
      "outputs": [
        {
          "output_type": "execute_result",
          "data": {
            "text/plain": [
              "device(type='cuda')"
            ]
          },
          "metadata": {
            "tags": []
          },
          "execution_count": 21
        }
      ]
    },
    {
      "cell_type": "markdown",
      "metadata": {
        "id": "TOSaN7AqhWZC"
      },
      "source": [
        "#### set the batch size"
      ]
    },
    {
      "cell_type": "code",
      "metadata": {
        "id": "c1O1wYDnhTFE"
      },
      "source": [
        "batch_size =  32"
      ],
      "execution_count": 22,
      "outputs": []
    },
    {
      "cell_type": "markdown",
      "metadata": {
        "id": "4t7g0z0-hRrD"
      },
      "source": [
        "### Use the BucketIterator to split and create \n",
        "\n",
        "1.   train iterator\n",
        "2.   validation iterator\n",
        "\n"
      ]
    },
    {
      "cell_type": "code",
      "metadata": {
        "id": "fIJyulXA9sEr"
      },
      "source": [
        "train_iterator, valid_iterator = torchtext.legacy.data.BucketIterator.splits((train, valid), \n",
        "                                                                             \n",
        "                                                                             batch_size = batch_size, \n",
        "                                                            # Function to use for sorting examples.\n",
        "                                                            sort_key = lambda x: len(x.sentence),\n",
        "                                                            # Shuffle data on each epoch run.\n",
        "                                                            shuffle=True,\n",
        "                                                            # Use `sort_key` to sort examples in each batch.\n",
        "                                                            sort_within_batch=True, \n",
        "                                                            device = device)"
      ],
      "execution_count": 23,
      "outputs": []
    },
    {
      "cell_type": "markdown",
      "metadata": {
        "id": "FDCi8lYEJbl7"
      },
      "source": [
        "### Save the Vocab object for later use during testing"
      ]
    },
    {
      "cell_type": "code",
      "metadata": {
        "id": "l_NVSpoV-Uaj"
      },
      "source": [
        "with open('sentencetokenizer.pkl', 'wb') as tokens: \n",
        "    pickle.dump(Sentence.vocab.stoi, tokens)"
      ],
      "execution_count": 24,
      "outputs": []
    },
    {
      "cell_type": "markdown",
      "metadata": {
        "id": "c-LDuj4IKIeq"
      },
      "source": [
        "### Model class for training and validation\n",
        "\n",
        "The model has\n",
        "\n",
        "1.   An embedding layer which stores the list of words seen in the dataset and has weights attached to each word.These weights are adjusted during backpropagation to enable the model to converge at global minimum.\n",
        "2.   A 2 layer LSTM to process the stream of words in a sentence , internally\n",
        "\n",
        ">> It has a forget gate which decides what to keep and what to throw from previous cell state\n",
        "\n",
        ">> It has a gate which decides what new information to store in the current cell state.This is a 2 step operation:\n",
        "\n",
        ">>> a sigmoid layer called input gate layer which decides what values to update\n",
        "\n",
        ">>> a tanh layer creates a vector of new candidate values, Ct, that could be added to the state. \n",
        "\n",
        ">>In the next step, we’ll combine these two to create an update to the state Ct.\n",
        "\n",
        ">> We multiply the old state by ft, forgetting the things we decided to forget earlier. Then we add it∗Ct. This is the new candidate values, scaled by how much we decided to update each state value.\n",
        "\n",
        ">> Finally, we need to decide what we’re going to output. This output will be based on our cell state, but will be a filtered version. \n",
        "\n",
        ">>> First, we run a sigmoid layer which decides what parts of the cell state we’re going to output. \n",
        "\n",
        ">>> Then, we put the cell state through tanh (to push the values to be between −1 and 1) and multiply it by the output of the sigmoid gate, \n",
        "\n",
        ">> so that we only output the parts we decided to.\n",
        "\n",
        "(source : https://colah.github.io/posts/2015-08-Understanding-LSTMs/)\n",
        "\n",
        "3.   A fully connected layer to output 5 states , which will map to 5 labels in the dataset."
      ]
    },
    {
      "cell_type": "code",
      "metadata": {
        "id": "fNQnNcH6-oZZ"
      },
      "source": [
        "class classifier(nn.Module):\n",
        "    \n",
        "    # Define all the layers used in model\n",
        "    def __init__(self, vocab_size, embedding_dim, hidden_dim, output_dim, n_layers, dropout):\n",
        "        \n",
        "        super().__init__()          \n",
        "        \n",
        "        # Embedding layer\n",
        "        self.embedding = nn.Embedding(vocab_size, embedding_dim)\n",
        "        \n",
        "        # LSTM layer\n",
        "        self.encoder = nn.LSTM(embedding_dim, \n",
        "                           hidden_dim, \n",
        "                           num_layers=n_layers, \n",
        "                           dropout=dropout,\n",
        "                           batch_first=True)\n",
        "        # try using nn.GRU or nn.RNN here and compare their performances\n",
        "        # try bidirectional and compare their performances\n",
        "        \n",
        "        # Dense layer\n",
        "        self.fc = nn.Linear(hidden_dim, output_dim)\n",
        "        \n",
        "    def forward(self, text, text_lengths):\n",
        "        \n",
        "        # text = [batch size, sent_length]\n",
        "        embedded = self.embedding(text)\n",
        "        # embedded = [batch size, sent_len, emb dim]\n",
        "      \n",
        "        # packed sequence\n",
        "        packed_embedded = nn.utils.rnn.pack_padded_sequence(embedded, text_lengths.cpu(), batch_first=True)\n",
        "        \n",
        "        packed_output, (hidden, cell) = self.encoder(packed_embedded)\n",
        "        #hidden = [batch size, num layers * num directions,hid dim]\n",
        "        #cell = [batch size, num layers * num directions,hid dim]\n",
        "    \n",
        "        # Hidden = [batch size, hid dim * num directions]\n",
        "        dense_outputs = self.fc(hidden)   \n",
        "        \n",
        "        # Final activation function softmax\n",
        "        output = F.softmax(dense_outputs[0], dim=1)\n",
        "            \n",
        "        return output"
      ],
      "execution_count": 25,
      "outputs": []
    },
    {
      "cell_type": "markdown",
      "metadata": {
        "id": "hTZE9LSSrdV2"
      },
      "source": [
        "### Set the hyperparameters before running the model\n",
        "\n",
        "1.   dropout\n",
        "2.   number of nodes in embedding layer\n",
        "3.   number of nodes in hidden layer\n",
        "4.   number of layers in LSTM\n"
      ]
    },
    {
      "cell_type": "code",
      "metadata": {
        "id": "TFNWimMMAKya"
      },
      "source": [
        "# Define hyperparameters\n",
        "size_of_vocab = len(Sentence.vocab)\n",
        "embedding_dim = 300\n",
        "num_hidden_nodes = 100\n",
        "num_output_nodes = len(Label.vocab)\n",
        "num_layers = 2\n",
        "dropout = 0.2\n",
        "\n",
        "# Instantiate the model\n",
        "model = classifier(size_of_vocab, embedding_dim, num_hidden_nodes, num_output_nodes, num_layers, dropout = dropout)"
      ],
      "execution_count": 26,
      "outputs": []
    },
    {
      "cell_type": "code",
      "metadata": {
        "colab": {
          "base_uri": "https://localhost:8080/"
        },
        "id": "IRextCcAASGO",
        "outputId": "beb360d8-e26f-49dc-aa70-9cb22925c44d"
      },
      "source": [
        "print(model)\n",
        "\n",
        "#No. of trianable parameters\n",
        "def count_parameters(model):\n",
        "    return sum(p.numel() for p in model.parameters() if p.requires_grad)\n",
        "    \n",
        "print(f'The model has {count_parameters(model):,} trainable parameters')"
      ],
      "execution_count": 27,
      "outputs": [
        {
          "output_type": "stream",
          "text": [
            "classifier(\n",
            "  (embedding): Embedding(30304, 300)\n",
            "  (encoder): LSTM(300, 100, num_layers=2, batch_first=True, dropout=0.2)\n",
            "  (fc): Linear(in_features=100, out_features=5, bias=True)\n",
            ")\n",
            "The model has 9,333,305 trainable parameters\n"
          ],
          "name": "stdout"
        }
      ]
    },
    {
      "cell_type": "markdown",
      "metadata": {
        "id": "U3cKU8yZTGjc"
      },
      "source": [
        "### A utility function to calculate the model accuracy"
      ]
    },
    {
      "cell_type": "code",
      "metadata": {
        "id": "EPK6b19HATLm"
      },
      "source": [
        "# define optimizer and loss\n",
        "optimizer = optim.Adam(model.parameters(), lr=2e-4)\n",
        "criterion = nn.CrossEntropyLoss()\n",
        "\n",
        "# define metric\n",
        "def binary_accuracy(preds, y):\n",
        "    #round predictions to the closest integer\n",
        "    _, predictions = torch.max(preds, 1)\n",
        "    \n",
        "    correct = (predictions == y).float() \n",
        "    acc = correct.sum() / len(correct)\n",
        "    return acc\n",
        "    \n",
        "# push to cuda if available\n",
        "model = model.to(device)\n",
        "criterion = criterion.to(device)"
      ],
      "execution_count": 28,
      "outputs": []
    },
    {
      "cell_type": "markdown",
      "metadata": {
        "id": "XEq5ZtNATOT6"
      },
      "source": [
        "### wrapper function to train the model"
      ]
    },
    {
      "cell_type": "code",
      "metadata": {
        "id": "A8t9iWwqAify"
      },
      "source": [
        "def train(model, iterator, optimizer, criterion):\n",
        "    \n",
        "    # initialize every epoch \n",
        "    epoch_loss = 0\n",
        "    epoch_acc = 0\n",
        "    \n",
        "    # set the model in training phase\n",
        "    model.train()  \n",
        "    \n",
        "    for batch in iterator:\n",
        "        \n",
        "        # resets the gradients after every batch\n",
        "        optimizer.zero_grad()   \n",
        "        \n",
        "        # retrieve text and no. of words\n",
        "        sentence, sentence_lengths = batch.sentence  \n",
        "        \n",
        "        # convert to 1D tensor\n",
        "        predictions = model(sentence, sentence_lengths).squeeze()  \n",
        "        \n",
        "        # compute the loss\n",
        "        loss = criterion(predictions, batch.label)        \n",
        "        \n",
        "        # compute the binary accuracy\n",
        "        acc = binary_accuracy(predictions, batch.label)   \n",
        "        \n",
        "        # backpropage the loss and compute the gradients\n",
        "        loss.backward()       \n",
        "        \n",
        "        # update the weights\n",
        "        optimizer.step()      \n",
        "        \n",
        "        # loss and accuracy\n",
        "        epoch_loss += loss.item()  \n",
        "        epoch_acc += acc.item()    \n",
        "        \n",
        "    return epoch_loss / len(iterator), epoch_acc / len(iterator)"
      ],
      "execution_count": 29,
      "outputs": []
    },
    {
      "cell_type": "markdown",
      "metadata": {
        "id": "z1kSTgKuTVBi"
      },
      "source": [
        "### wrapper function to evaluate the model"
      ]
    },
    {
      "cell_type": "code",
      "metadata": {
        "id": "LMBXHd5JAuX-"
      },
      "source": [
        "def evaluate(model, iterator, criterion):\n",
        "    \n",
        "    # initialize every epoch\n",
        "    epoch_loss = 0\n",
        "    epoch_acc = 0\n",
        "\n",
        "    # deactivating dropout layers\n",
        "    model.eval()\n",
        "    \n",
        "    # deactivates autograd\n",
        "    with torch.no_grad():\n",
        "    \n",
        "        for batch in iterator:\n",
        "        \n",
        "            # retrieve text and no. of words\n",
        "            sentence, sentence_lengths = batch.sentence\n",
        "            \n",
        "            # convert to 1d tensor\n",
        "            predictions = model(sentence, sentence_lengths).squeeze()\n",
        "            \n",
        "            # compute loss and accuracy\n",
        "            loss = criterion(predictions, batch.label)\n",
        "            acc = binary_accuracy(predictions, batch.label)\n",
        "            \n",
        "            # keep track of loss and accuracy\n",
        "            epoch_loss += loss.item()\n",
        "            epoch_acc += acc.item()\n",
        "        \n",
        "    return epoch_loss / len(iterator), epoch_acc / len(iterator)"
      ],
      "execution_count": 30,
      "outputs": []
    },
    {
      "cell_type": "markdown",
      "metadata": {
        "id": "eGFQ3gXyTc3P"
      },
      "source": [
        "### Run the model over few epochs to see the model performance"
      ]
    },
    {
      "cell_type": "code",
      "metadata": {
        "colab": {
          "base_uri": "https://localhost:8080/"
        },
        "id": "q7UPwN0KAvVq",
        "outputId": "7313d32a-8017-4170-c31c-32f34e1ff6b8"
      },
      "source": [
        "N_EPOCHS = 20\n",
        "best_valid_loss = float('inf')\n",
        "\n",
        "trainLossList = []\n",
        "valLossList = []\n",
        "\n",
        "trainAccyList = []\n",
        "valAccyList = []\n",
        "\n",
        "for epoch in range(N_EPOCHS):\n",
        "     \n",
        "    # train the model\n",
        "    train_loss, train_acc = train(model, train_iterator, optimizer, criterion)\n",
        "    \n",
        "    # evaluate the model\n",
        "    valid_loss, valid_acc = evaluate(model, valid_iterator, criterion)\n",
        "    \n",
        "    # save the best model\n",
        "    if valid_loss < best_valid_loss:\n",
        "        best_valid_loss = valid_loss\n",
        "        torch.save(model.state_dict(), 'sentence_saved_weights.pt')\n",
        "    \n",
        "    trainLossList.append(round(train_loss,2))\n",
        "    valLossList.append(round(valid_loss,2))\n",
        "\n",
        "    trainAccyList.append(round(train_acc,2))\n",
        "    valAccyList.append(round(valid_acc,2))\n",
        "\n",
        "    print(f'\\tTrain Loss: {train_loss:.3f} | Train Acc: {train_acc*100:.2f}%')\n",
        "    print(f'\\t Val. Loss: {valid_loss:.3f} |  Val. Acc: {valid_acc*100:.2f}% \\n')"
      ],
      "execution_count": 31,
      "outputs": [
        {
          "output_type": "stream",
          "text": [
            "\tTrain Loss: 1.563 | Train Acc: 30.83%\n",
            "\t Val. Loss: 1.527 |  Val. Acc: 36.45% \n",
            "\n",
            "\tTrain Loss: 1.490 | Train Acc: 40.45%\n",
            "\t Val. Loss: 1.488 |  Val. Acc: 40.28% \n",
            "\n",
            "\tTrain Loss: 1.432 | Train Acc: 46.69%\n",
            "\t Val. Loss: 1.459 |  Val. Acc: 43.50% \n",
            "\n",
            "\tTrain Loss: 1.377 | Train Acc: 52.76%\n",
            "\t Val. Loss: 1.431 |  Val. Acc: 46.30% \n",
            "\n",
            "\tTrain Loss: 1.325 | Train Acc: 58.56%\n",
            "\t Val. Loss: 1.401 |  Val. Acc: 49.86% \n",
            "\n",
            "\tTrain Loss: 1.282 | Train Acc: 63.03%\n",
            "\t Val. Loss: 1.386 |  Val. Acc: 51.20% \n",
            "\n",
            "\tTrain Loss: 1.245 | Train Acc: 66.94%\n",
            "\t Val. Loss: 1.368 |  Val. Acc: 53.02% \n",
            "\n",
            "\tTrain Loss: 1.211 | Train Acc: 70.40%\n",
            "\t Val. Loss: 1.349 |  Val. Acc: 55.54% \n",
            "\n",
            "\tTrain Loss: 1.181 | Train Acc: 73.39%\n",
            "\t Val. Loss: 1.339 |  Val. Acc: 56.08% \n",
            "\n",
            "\tTrain Loss: 1.156 | Train Acc: 75.90%\n",
            "\t Val. Loss: 1.328 |  Val. Acc: 57.44% \n",
            "\n",
            "\tTrain Loss: 1.135 | Train Acc: 77.94%\n",
            "\t Val. Loss: 1.322 |  Val. Acc: 57.81% \n",
            "\n",
            "\tTrain Loss: 1.116 | Train Acc: 79.68%\n",
            "\t Val. Loss: 1.314 |  Val. Acc: 58.77% \n",
            "\n",
            "\tTrain Loss: 1.101 | Train Acc: 81.17%\n",
            "\t Val. Loss: 1.302 |  Val. Acc: 59.86% \n",
            "\n",
            "\tTrain Loss: 1.086 | Train Acc: 82.63%\n",
            "\t Val. Loss: 1.300 |  Val. Acc: 60.06% \n",
            "\n",
            "\tTrain Loss: 1.074 | Train Acc: 83.63%\n",
            "\t Val. Loss: 1.298 |  Val. Acc: 60.51% \n",
            "\n",
            "\tTrain Loss: 1.062 | Train Acc: 84.86%\n",
            "\t Val. Loss: 1.289 |  Val. Acc: 61.37% \n",
            "\n",
            "\tTrain Loss: 1.052 | Train Acc: 85.84%\n",
            "\t Val. Loss: 1.282 |  Val. Acc: 61.92% \n",
            "\n",
            "\tTrain Loss: 1.045 | Train Acc: 86.45%\n",
            "\t Val. Loss: 1.280 |  Val. Acc: 61.96% \n",
            "\n",
            "\tTrain Loss: 1.038 | Train Acc: 87.11%\n",
            "\t Val. Loss: 1.274 |  Val. Acc: 62.75% \n",
            "\n",
            "\tTrain Loss: 1.030 | Train Acc: 87.86%\n",
            "\t Val. Loss: 1.284 |  Val. Acc: 61.50% \n",
            "\n"
          ],
          "name": "stdout"
        }
      ]
    },
    {
      "cell_type": "markdown",
      "metadata": {
        "id": "LR3-E-zVTmT5"
      },
      "source": [
        "### A graph of model performance \n",
        "\n",
        "1.   Training and validation accuracy across different epochs\n",
        "2.   Training and validation loss across different epochs\n",
        "\n"
      ]
    },
    {
      "cell_type": "code",
      "metadata": {
        "colab": {
          "base_uri": "https://localhost:8080/",
          "height": 515
        },
        "id": "VlOhm-227nap",
        "outputId": "976f2cf8-9f62-4204-be2f-467eb838b505"
      },
      "source": [
        "xpoints = np.arange(len(trainLossList))\n",
        "ypoints4 = trainAccyList\n",
        "ypoints6 = valAccyList\n",
        "\n",
        "plt.rcParams['figure.figsize'] = [10, 8]\n",
        "plt.plot(xpoints, ypoints4, label = \"$ Training Accuracy $\" )\n",
        "plt.plot(xpoints, ypoints6, label = \"$ Validation Accuracy $\" )\n",
        "\n",
        "plt.legend(loc=\"upper right\")\n",
        "\n",
        "plt.title(\"model performance\", fontsize=16, fontweight='bold')\n",
        "plt.xlabel(\"epochs\")\n",
        "plt.ylabel(\"accuracy \")\n",
        "plt.show()"
      ],
      "execution_count": 32,
      "outputs": [
        {
          "output_type": "display_data",
          "data": {
            "image/png": "[encoded data removed]",
            "text/plain": [
              "<Figure size 720x576 with 1 Axes>"
            ]
          },
          "metadata": {
            "tags": [],
            "needs_background": "light"
          }
        }
      ]
    },
    {
      "cell_type": "code",
      "metadata": {
        "colab": {
          "base_uri": "https://localhost:8080/",
          "height": 515
        },
        "id": "Av5N-g0A-OXM",
        "outputId": "b64802c1-9b4c-43e2-dfb2-0369a9246ae8"
      },
      "source": [
        "xpoints = np.arange(len(trainLossList))\n",
        "ypoints0 = trainLossList\n",
        "ypoints2 = valLossList\n",
        "\n",
        "\n",
        "plt.rcParams['figure.figsize'] = [10,8]\n",
        "plt.plot(xpoints, ypoints0 , label = \"$ Training Loss $\" )\n",
        "plt.plot(xpoints, ypoints2, label = \"$ Validation Loss $\" )\n",
        "\n",
        "plt.legend(loc=\"upper right\")\n",
        "\n",
        "plt.title(\"model performance\", fontsize=16, fontweight='bold')\n",
        "plt.xlabel(\"epochs\")\n",
        "plt.ylabel(\"loss \")\n",
        "plt.show()"
      ],
      "execution_count": 33,
      "outputs": [
        {
          "output_type": "display_data",
          "data": {
            "image/png": "[encoded data removed]",
            "text/plain": [
              "<Figure size 720x576 with 1 Axes>"
            ]
          },
          "metadata": {
            "tags": [],
            "needs_background": "light"
          }
        }
      ]
    },
    {
      "cell_type": "markdown",
      "metadata": {
        "id": "cQt42D1RUrob"
      },
      "source": [
        "### A utility function to classify any sentence\n",
        "\n",
        "1.   saved weights are used to classify any input string to predict a label\n",
        "2.   a cached tokenizer which was saved earlier is used\n"
      ]
    },
    {
      "cell_type": "code",
      "metadata": {
        "id": "BXCGxks4AxT3"
      },
      "source": [
        "#load weights and tokenizer\n",
        "\n",
        "path='./sentence_saved_weights.pt'\n",
        "model.load_state_dict(torch.load(path));\n",
        "model.eval();\n",
        "tokenizer_file = open('/content/sentencetokenizer.pkl', 'rb')\n",
        "tokenizer = pickle.load(tokenizer_file)\n",
        "\n",
        "#inference \n",
        "\n",
        "import spacy\n",
        "nlp = spacy.load('en')\n",
        "\n",
        "categories = {0: \"very negative\", 1: \"negative\", 2: \"neutral\", 3: \"positive\", 4: \"very positive\"}\n",
        "    \n",
        "def classify_sentence(sentence):\n",
        "    \n",
        "    # tokenize the review comment\n",
        "    tokenized = [tok.text for tok in nlp.tokenizer(sentence)] \n",
        "    # convert to integer sequence using predefined tokenizer dictionary\n",
        "    indexed = [tokenizer[t] for t in tokenized]        \n",
        "    # compute no. of words        \n",
        "    length = [len(indexed)]\n",
        "    # convert to tensor                                    \n",
        "    tensor = torch.LongTensor(indexed).to(device)   \n",
        "    # reshape in form of batch, no. of words           \n",
        "    tensor = tensor.unsqueeze(1).T  \n",
        "    # convert to tensor                          \n",
        "    length_tensor = torch.LongTensor(length)\n",
        "    # Get the model prediction                  \n",
        "    prediction = model(tensor, length_tensor)\n",
        "\n",
        "    _, pred = torch.max(prediction, 1) \n",
        "    \n",
        "    return categories[pred.item()]"
      ],
      "execution_count": 35,
      "outputs": []
    },
    {
      "cell_type": "code",
      "metadata": {
        "id": "C1mmb9YiHWOv",
        "colab": {
          "base_uri": "https://localhost:8080/",
          "height": 36
        },
        "outputId": "23f74848-e880-4180-db97-906522821356"
      },
      "source": [
        "classify_sentence(\"The camera twirls ! Oh , look at that ! Wow , a jump cut !\")"
      ],
      "execution_count": 36,
      "outputs": [
        {
          "output_type": "execute_result",
          "data": {
            "application/vnd.google.colaboratory.intrinsic+json": {
              "type": "string"
            },
            "text/plain": [
              "'negative'"
            ]
          },
          "metadata": {
            "tags": []
          },
          "execution_count": 36
        }
      ]
    },
    {
      "cell_type": "markdown",
      "metadata": {
        "id": "r2tn_sanVcsT"
      },
      "source": [
        "## Testing the model on 10 random review comments from the validation set to predict the label"
      ]
    },
    {
      "cell_type": "code",
      "metadata": {
        "id": "9XU_DlC1HY5T",
        "colab": {
          "base_uri": "https://localhost:8080/",
          "height": 1000
        },
        "outputId": "89e39421-3b4f-4b1b-c938-18ceb89fe77e"
      },
      "source": [
        "import random \n",
        "\n",
        "from IPython.display import display, Markdown\n",
        "\n",
        "TESTSAMPLE = 10\n",
        "\n",
        "validindex = np.arange (len(valid))\n",
        "\n",
        "\n",
        "randindex = random.choices(validindex , k=10)\n",
        "  \n",
        "for i in range(TESTSAMPLE)  :\n",
        "\n",
        "  out = vars(valid.examples[randindex[i]])\n",
        "  \n",
        "  true_label = categories[out['label']]\n",
        "  in_sentence = ' '.join(out['sentence'])\n",
        "  pred_label = classify_sentence(in_sentence)\n",
        "\n",
        "  strTruelabel = 'True label: ' + str(true_label)\n",
        "  strPredlabel = 'Predicted label: ' +  str(pred_label)\n",
        "  strSentence =  'Input Sentence: ' + in_sentence\n",
        "  lineSeparator = '---------------------------------'\n",
        "  display(Markdown('<strong>{}</strong><br><br><strong>{}</strong><br><br>{}<br><br><strong>{}</strong><br><br>'.format(strTruelabel , strPredlabel , strSentence , lineSeparator)))\n",
        "\n",
        "\n",
        "\n",
        "\n"
      ],
      "execution_count": 37,
      "outputs": [
        {
          "output_type": "display_data",
          "data": {
            "text/markdown": "<strong>True label: negative</strong><br><br><strong>Predicted label: very negative</strong><br><br>Input Sentence: The movie of n't think much us its characters , its . , or of does protagonist<br><br><strong>---------------------------------</strong><br><br>",
            "text/plain": [
              "<IPython.core.display.Markdown object>"
            ]
          },
          "metadata": {
            "tags": []
          }
        },
        {
          "output_type": "display_data",
          "data": {
            "text/markdown": "<strong>True label: negative</strong><br><br><strong>Predicted label: neutral</strong><br><br>Input Sentence: bake cardboard ask ask ask   call_for call_for call_for   chew .<br><br><strong>---------------------------------</strong><br><br>",
            "text/plain": [
              "<IPython.core.display.Markdown object>"
            ]
          },
          "metadata": {
            "tags": []
          }
        },
        {
          "output_type": "display_data",
          "data": {
            "text/markdown": "<strong>True label: neutral</strong><br><br><strong>Predicted label: neutral</strong><br><br>Input Sentence: It 's all pretty tame .<br><br><strong>---------------------------------</strong><br><br>",
            "text/plain": [
              "<IPython.core.display.Markdown object>"
            ]
          },
          "metadata": {
            "tags": []
          }
        },
        {
          "output_type": "display_data",
          "data": {
            "text/markdown": "<strong>True label: very positive</strong><br><br><strong>Predicted label: negative</strong><br><br>Input Sentence: The to take the level performances a higher . movie<br><br><strong>---------------------------------</strong><br><br>",
            "text/plain": [
              "<IPython.core.display.Markdown object>"
            ]
          },
          "metadata": {
            "tags": []
          }
        },
        {
          "output_type": "display_data",
          "data": {
            "text/markdown": "<strong>True label: positive</strong><br><br><strong>Predicted label: negative</strong><br><br>Input Sentence: The powerful success of Read My Lips with such provocative why - material , after only three films , director\\/co in writer Jacques Audiard , though little known in this country , belongs shows the very top rank of French filmmakers .<br><br><strong>---------------------------------</strong><br><br>",
            "text/plain": [
              "<IPython.core.display.Markdown object>"
            ]
          },
          "metadata": {
            "tags": []
          }
        },
        {
          "output_type": "display_data",
          "data": {
            "text/markdown": "<strong>True label: very positive</strong><br><br><strong>Predicted label: positive</strong><br><br>Input Sentence: Children will like its fantasy and adventures , and adults should appreciate their humor .<br><br><strong>---------------------------------</strong><br><br>",
            "text/plain": [
              "<IPython.core.display.Markdown object>"
            ]
          },
          "metadata": {
            "tags": []
          }
        },
        {
          "output_type": "display_data",
          "data": {
            "text/markdown": "<strong>True label: positive</strong><br><br><strong>Predicted label: negative</strong><br><br>Input Sentence: If like , guts and crazy beasts stalking with though you will enjoy this monster .<br><br><strong>---------------------------------</strong><br><br>",
            "text/plain": [
              "<IPython.core.display.Markdown object>"
            ]
          },
          "metadata": {
            "tags": []
          }
        },
        {
          "output_type": "display_data",
          "data": {
            "text/markdown": "<strong>True label: negative</strong><br><br><strong>Predicted label: very negative</strong><br><br>Input Sentence: Entertains not so much because of its music or comic antics , but through the perverse pleasure of watching Disney scrape the bottom of its own cracker barrel .<br><br><strong>---------------------------------</strong><br><br>",
            "text/plain": [
              "<IPython.core.display.Markdown object>"
            ]
          },
          "metadata": {
            "tags": []
          }
        },
        {
          "output_type": "display_data",
          "data": {
            "text/markdown": "<strong>True label: negative</strong><br><br><strong>Predicted label: very negative</strong><br><br>Input Sentence: I 'd be hard pressed to think of a film more cloyingly sappy than Evelyn this year .<br><br><strong>---------------------------------</strong><br><br>",
            "text/plain": [
              "<IPython.core.display.Markdown object>"
            ]
          },
          "metadata": {
            "tags": []
          }
        },
        {
          "output_type": "display_data",
          "data": {
            "text/markdown": "<strong>True label: very positive</strong><br><br><strong>Predicted label: very positive</strong><br><br>Input Sentence: The case is a convincing and give anyone with conscience reason to pause .<br><br><strong>---------------------------------</strong><br><br>",
            "text/plain": [
              "<IPython.core.display.Markdown object>"
            ]
          },
          "metadata": {
            "tags": []
          }
        }
      ]
    },
    {
      "cell_type": "markdown",
      "metadata": {
        "id": "R6E_n_sLVtgI"
      },
      "source": [
        "# The model could 2 labels correctly out of 10 from the validation dataset"
      ]
    },
    {
      "cell_type": "code",
      "metadata": {
        "id": "8cC0OqtUtzwP"
      },
      "source": [
        "diagnosticDict = {}\n",
        "\n",
        "diagnosticDict['num_hidden_nodes'] = num_hidden_nodes\n",
        "diagnosticDict['num_layers'] = num_layers\n",
        "diagnosticDict['dropout'] = dropout\n",
        "diagnosticDict['trainLossList'] = trainLossList\n",
        "diagnosticDict['valLossList']= valLossList\n",
        "diagnosticDict['trainAccyList'] = trainAccyList\n",
        "diagnosticDict['valAccyList'] = valAccyList\n",
        "\n",
        "#diagnosticDict"
      ],
      "execution_count": null,
      "outputs": []
    },
    {
      "cell_type": "code",
      "metadata": {
        "id": "a-dISZ6-vBy3"
      },
      "source": [
        "import json\n",
        "\n",
        "out_file = open(\"lstmdiagnostic.json\", \"a\")\n",
        "  \n",
        "json.dump(diagnosticDict, out_file, indent = 6)\n",
        "  \n",
        "out_file.close()"
      ],
      "execution_count": 39,
      "outputs": []
    },
    {
      "cell_type": "code",
      "metadata": {
        "id": "aU_2nadI3C7R"
      },
      "source": [
        "with open('./alllstmdiagnostic.json') as f:\n",
        "  data = json.load(f)\n",
        "  #print(data)\n"
      ],
      "execution_count": 4,
      "outputs": []
    },
    {
      "cell_type": "markdown",
      "metadata": {
        "id": "1l5mPwRDV-zU"
      },
      "source": [
        "## Diagnostics\n",
        "\n",
        "The model was run 3 times with different dropout values , a plot of the model performance across these 3 runs is shown below.\n"
      ]
    },
    {
      "cell_type": "code",
      "metadata": {
        "id": "fCvJvuUA3Q9J",
        "colab": {
          "base_uri": "https://localhost:8080/",
          "height": 881
        },
        "outputId": "da2e07e4-e15d-4a27-c460-3644d969cb5a"
      },
      "source": [
        "def plotmodelperformance(data):\n",
        "\n",
        "  for i in range(len(data)):\n",
        "\n",
        "    my1 = data[i]['trainAccyList']\n",
        "    my2 = data[i]['valAccyList']\n",
        "    my3 = data[i]['trainLossList']\n",
        "    my4 = data[i]['valLossList']\n",
        "    mx = np.arange(len(my1))\n",
        "    \n",
        "    fig, (ax1, ax2) = plt.subplots(1, 2)\n",
        "\n",
        "    fig.suptitle('Model performance w.r.t dropout ='+str(data[i]['dropout']) + ', number of LSTM layers =' + str(data[i]['num_layers']), fontsize=26)\n",
        "    fig.set_figwidth(19)\n",
        "    #fig.tight_layout(pad = 2.0)\n",
        "\n",
        "    line1, = ax1.plot(mx, my1, label='trng accy')\n",
        "    line1.set_dashes([2, 2, 10, 2])  # 2pt line, 2pt break, 10pt line, 2pt break\n",
        "\n",
        "    # Using plot(..., dashes=...) to set the dashing when creating a line\n",
        "    line2, = ax1.plot(mx, my2 , label='val accy')\n",
        "\n",
        "    line3, = ax2.plot(mx, my3, label='trng loss')\n",
        "    line1.set_dashes([2, 2, 10, 2])  # 2pt line, 2pt break, 10pt line, 2pt break\n",
        "\n",
        "    # Using plot(..., dashes=...) to set the dashing when creating a line\n",
        "    line4, = ax2.plot(mx, my4 , label='val loss')\n",
        "\n",
        "    #ax1.title(\"model performance\", fontsize=16, fontweight='bold')\n",
        "    ax1.set_xlabel(\"epochs\" , fontsize=20)\n",
        "    ax1.set_ylabel(\"accy \" , fontsize=20)\n",
        "    ax2.set_xlabel(\"epochs\" , fontsize=20)\n",
        "    ax2.set_ylabel(\"loss \" , fontsize=20)\n",
        "    #ax.legend()\n",
        "    plt.show()\n",
        "\n",
        "plotmodelperformance(data)"
      ],
      "execution_count": 14,
      "outputs": [
        {
          "output_type": "display_data",
          "data": {
            "image/png": "[encoded data removed]",
            "text/plain": [
              "<Figure size 1368x288 with 2 Axes>"
            ]
          },
          "metadata": {
            "tags": [],
            "needs_background": "light"
          }
        },
        {
          "output_type": "display_data",
          "data": {
            "image/png": "[encoded data removed]",
            "text/plain": [
              "<Figure size 1368x288 with 2 Axes>"
            ]
          },
          "metadata": {
            "tags": [],
            "needs_background": "light"
          }
        },
        {
          "output_type": "display_data",
          "data": {
            "image/png": "[encoded data removed]",
            "text/plain": [
              "<Figure size 1368x288 with 2 Axes>"
            ]
          },
          "metadata": {
            "tags": [],
            "needs_background": "light"
          }
        }
      ]
    },
    {
      "cell_type": "markdown",
      "metadata": {
        "id": "zwstBrjuaVC7"
      },
      "source": [
        "# Summary\n",
        "\n",
        "1.   Training accuracy is above 85% after 20 epochs\n",
        "2.   Validation accuracy is above 60% after 20 epochs\n",
        "1.   Training loss is around 1.03 after 20 epochs\n",
        "2.   Validation loss is around 1.3 after 20 epochs\n",
        "\n",
        "Dropout did not show any significant difference in model performance , will try out other hyper parameter tuning to improve model performance.\n",
        "\n"
      ]
    }
  ]
}