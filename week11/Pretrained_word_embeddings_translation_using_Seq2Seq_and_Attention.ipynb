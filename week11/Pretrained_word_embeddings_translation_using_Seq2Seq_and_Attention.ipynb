{
  "nbformat": 4,
  "nbformat_minor": 0,
  "metadata": {
    "colab": {
      "name": "Pretrained_word_embeddings_translation using Seq2Seq and Attention.ipynb",
      "provenance": [],
      "collapsed_sections": [],
      "toc_visible": true,
      "machine_shape": "hm"
    },
    "kernelspec": {
      "name": "python3",
      "display_name": "Python 3"
    },
    "language_info": {
      "name": "python"
    },
    "accelerator": "GPU"
  },
  "cells": [
    {
      "cell_type": "markdown",
      "metadata": {
        "id": "j-8YWPn2l-hv"
      },
      "source": [
        "https://medium.com/@martinpella/how-to-use-pre-trained-word-embeddings-in-pytorch-71ca59249f76\n",
        "\n"
      ]
    },
    {
      "cell_type": "markdown",
      "metadata": {
        "id": "3sb9ZNf5BKlB"
      },
      "source": [
        "### Install bcolz \n",
        "\n",
        "bcolz provides columnar and compressed data containers. Column storage allows for efficiently querying tables with a large number of columns. It also allows for cheap addition and removal of column. In addition, bcolz objects are compressed by default for reducing memory/disk I/O needs. The compression process is carried out internally by Blosc, a high-performance compressor that is optimized for binary data.\n",
        "\n",
        "(source : https://pypi.org/project/bcolz/)"
      ]
    },
    {
      "cell_type": "code",
      "metadata": {
        "colab": {
          "base_uri": "https://localhost:8080/"
        },
        "id": "H8AsLbUNtDgZ",
        "outputId": "627e9572-5576-4af5-ac07-c3da78cc1ae5"
      },
      "source": [
        "!pip install bcolz"
      ],
      "execution_count": 1,
      "outputs": [
        {
          "output_type": "stream",
          "text": [
            "Collecting bcolz\n",
            "\u001b[?25l  Downloading https://files.pythonhosted.org/packages/5c/4e/23942de9d5c0fb16f10335fa83e52b431bcb8c0d4a8419c9ac206268c279/bcolz-1.2.1.tar.gz (1.5MB)\n",
            "\r\u001b[K     |▎                               | 10kB 20.3MB/s eta 0:00:01\r\u001b[K     |▌                               | 20kB 27.6MB/s eta 0:00:01\r\u001b[K     |▊                               | 30kB 19.4MB/s eta 0:00:01\r\u001b[K     |█                               | 40kB 16.4MB/s eta 0:00:01\r\u001b[K     |█▏                              | 51kB 7.8MB/s eta 0:00:01\r\u001b[K     |█▍                              | 61kB 8.7MB/s eta 0:00:01\r\u001b[K     |█▋                              | 71kB 8.9MB/s eta 0:00:01\r\u001b[K     |█▉                              | 81kB 8.3MB/s eta 0:00:01\r\u001b[K     |██                              | 92kB 8.8MB/s eta 0:00:01\r\u001b[K     |██▎                             | 102kB 7.5MB/s eta 0:00:01\r\u001b[K     |██▌                             | 112kB 7.5MB/s eta 0:00:01\r\u001b[K     |██▊                             | 122kB 7.5MB/s eta 0:00:01\r\u001b[K     |███                             | 133kB 7.5MB/s eta 0:00:01\r\u001b[K     |███▏                            | 143kB 7.5MB/s eta 0:00:01\r\u001b[K     |███▍                            | 153kB 7.5MB/s eta 0:00:01\r\u001b[K     |███▋                            | 163kB 7.5MB/s eta 0:00:01\r\u001b[K     |███▉                            | 174kB 7.5MB/s eta 0:00:01\r\u001b[K     |████                            | 184kB 7.5MB/s eta 0:00:01\r\u001b[K     |████▎                           | 194kB 7.5MB/s eta 0:00:01\r\u001b[K     |████▌                           | 204kB 7.5MB/s eta 0:00:01\r\u001b[K     |████▊                           | 215kB 7.5MB/s eta 0:00:01\r\u001b[K     |█████                           | 225kB 7.5MB/s eta 0:00:01\r\u001b[K     |█████▏                          | 235kB 7.5MB/s eta 0:00:01\r\u001b[K     |█████▍                          | 245kB 7.5MB/s eta 0:00:01\r\u001b[K     |█████▋                          | 256kB 7.5MB/s eta 0:00:01\r\u001b[K     |█████▉                          | 266kB 7.5MB/s eta 0:00:01\r\u001b[K     |██████                          | 276kB 7.5MB/s eta 0:00:01\r\u001b[K     |██████▎                         | 286kB 7.5MB/s eta 0:00:01\r\u001b[K     |██████▌                         | 296kB 7.5MB/s eta 0:00:01\r\u001b[K     |██████▊                         | 307kB 7.5MB/s eta 0:00:01\r\u001b[K     |███████                         | 317kB 7.5MB/s eta 0:00:01\r\u001b[K     |███████▏                        | 327kB 7.5MB/s eta 0:00:01\r\u001b[K     |███████▍                        | 337kB 7.5MB/s eta 0:00:01\r\u001b[K     |███████▋                        | 348kB 7.5MB/s eta 0:00:01\r\u001b[K     |███████▉                        | 358kB 7.5MB/s eta 0:00:01\r\u001b[K     |████████                        | 368kB 7.5MB/s eta 0:00:01\r\u001b[K     |████████▎                       | 378kB 7.5MB/s eta 0:00:01\r\u001b[K     |████████▌                       | 389kB 7.5MB/s eta 0:00:01\r\u001b[K     |████████▊                       | 399kB 7.5MB/s eta 0:00:01\r\u001b[K     |█████████                       | 409kB 7.5MB/s eta 0:00:01\r\u001b[K     |█████████▏                      | 419kB 7.5MB/s eta 0:00:01\r\u001b[K     |█████████▍                      | 430kB 7.5MB/s eta 0:00:01\r\u001b[K     |█████████▋                      | 440kB 7.5MB/s eta 0:00:01\r\u001b[K     |█████████▉                      | 450kB 7.5MB/s eta 0:00:01\r\u001b[K     |██████████                      | 460kB 7.5MB/s eta 0:00:01\r\u001b[K     |██████████▎                     | 471kB 7.5MB/s eta 0:00:01\r\u001b[K     |██████████▋                     | 481kB 7.5MB/s eta 0:00:01\r\u001b[K     |██████████▉                     | 491kB 7.5MB/s eta 0:00:01\r\u001b[K     |███████████                     | 501kB 7.5MB/s eta 0:00:01\r\u001b[K     |███████████▎                    | 512kB 7.5MB/s eta 0:00:01\r\u001b[K     |███████████▌                    | 522kB 7.5MB/s eta 0:00:01\r\u001b[K     |███████████▊                    | 532kB 7.5MB/s eta 0:00:01\r\u001b[K     |████████████                    | 542kB 7.5MB/s eta 0:00:01\r\u001b[K     |████████████▏                   | 552kB 7.5MB/s eta 0:00:01\r\u001b[K     |████████████▍                   | 563kB 7.5MB/s eta 0:00:01\r\u001b[K     |████████████▋                   | 573kB 7.5MB/s eta 0:00:01\r\u001b[K     |████████████▉                   | 583kB 7.5MB/s eta 0:00:01\r\u001b[K     |█████████████                   | 593kB 7.5MB/s eta 0:00:01\r\u001b[K     |█████████████▎                  | 604kB 7.5MB/s eta 0:00:01\r\u001b[K     |█████████████▌                  | 614kB 7.5MB/s eta 0:00:01\r\u001b[K     |█████████████▊                  | 624kB 7.5MB/s eta 0:00:01\r\u001b[K     |██████████████                  | 634kB 7.5MB/s eta 0:00:01\r\u001b[K     |██████████████▏                 | 645kB 7.5MB/s eta 0:00:01\r\u001b[K     |██████████████▍                 | 655kB 7.5MB/s eta 0:00:01\r\u001b[K     |██████████████▋                 | 665kB 7.5MB/s eta 0:00:01\r\u001b[K     |██████████████▉                 | 675kB 7.5MB/s eta 0:00:01\r\u001b[K     |███████████████                 | 686kB 7.5MB/s eta 0:00:01\r\u001b[K     |███████████████▎                | 696kB 7.5MB/s eta 0:00:01\r\u001b[K     |███████████████▌                | 706kB 7.5MB/s eta 0:00:01\r\u001b[K     |███████████████▊                | 716kB 7.5MB/s eta 0:00:01\r\u001b[K     |████████████████                | 727kB 7.5MB/s eta 0:00:01\r\u001b[K     |████████████████▏               | 737kB 7.5MB/s eta 0:00:01\r\u001b[K     |████████████████▍               | 747kB 7.5MB/s eta 0:00:01\r\u001b[K     |████████████████▋               | 757kB 7.5MB/s eta 0:00:01\r\u001b[K     |████████████████▉               | 768kB 7.5MB/s eta 0:00:01\r\u001b[K     |█████████████████               | 778kB 7.5MB/s eta 0:00:01\r\u001b[K     |█████████████████▎              | 788kB 7.5MB/s eta 0:00:01\r\u001b[K     |█████████████████▌              | 798kB 7.5MB/s eta 0:00:01\r\u001b[K     |█████████████████▊              | 808kB 7.5MB/s eta 0:00:01\r\u001b[K     |██████████████████              | 819kB 7.5MB/s eta 0:00:01\r\u001b[K     |██████████████████▏             | 829kB 7.5MB/s eta 0:00:01\r\u001b[K     |██████████████████▍             | 839kB 7.5MB/s eta 0:00:01\r\u001b[K     |██████████████████▋             | 849kB 7.5MB/s eta 0:00:01\r\u001b[K     |██████████████████▉             | 860kB 7.5MB/s eta 0:00:01\r\u001b[K     |███████████████████             | 870kB 7.5MB/s eta 0:00:01\r\u001b[K     |███████████████████▎            | 880kB 7.5MB/s eta 0:00:01\r\u001b[K     |███████████████████▌            | 890kB 7.5MB/s eta 0:00:01\r\u001b[K     |███████████████████▊            | 901kB 7.5MB/s eta 0:00:01\r\u001b[K     |████████████████████            | 911kB 7.5MB/s eta 0:00:01\r\u001b[K     |████████████████████▏           | 921kB 7.5MB/s eta 0:00:01\r\u001b[K     |████████████████████▍           | 931kB 7.5MB/s eta 0:00:01\r\u001b[K     |████████████████████▋           | 942kB 7.5MB/s eta 0:00:01\r\u001b[K     |████████████████████▉           | 952kB 7.5MB/s eta 0:00:01\r\u001b[K     |█████████████████████▏          | 962kB 7.5MB/s eta 0:00:01\r\u001b[K     |█████████████████████▍          | 972kB 7.5MB/s eta 0:00:01\r\u001b[K     |█████████████████████▋          | 983kB 7.5MB/s eta 0:00:01\r\u001b[K     |█████████████████████▉          | 993kB 7.5MB/s eta 0:00:01\r\u001b[K     |██████████████████████          | 1.0MB 7.5MB/s eta 0:00:01\r\u001b[K     |██████████████████████▎         | 1.0MB 7.5MB/s eta 0:00:01\r\u001b[K     |██████████████████████▌         | 1.0MB 7.5MB/s eta 0:00:01\r\u001b[K     |██████████████████████▊         | 1.0MB 7.5MB/s eta 0:00:01\r\u001b[K     |███████████████████████         | 1.0MB 7.5MB/s eta 0:00:01\r\u001b[K     |███████████████████████▏        | 1.1MB 7.5MB/s eta 0:00:01\r\u001b[K     |███████████████████████▍        | 1.1MB 7.5MB/s eta 0:00:01\r\u001b[K     |███████████████████████▋        | 1.1MB 7.5MB/s eta 0:00:01\r\u001b[K     |███████████████████████▉        | 1.1MB 7.5MB/s eta 0:00:01\r\u001b[K     |████████████████████████        | 1.1MB 7.5MB/s eta 0:00:01\r\u001b[K     |████████████████████████▎       | 1.1MB 7.5MB/s eta 0:00:01\r\u001b[K     |████████████████████████▌       | 1.1MB 7.5MB/s eta 0:00:01\r\u001b[K     |████████████████████████▊       | 1.1MB 7.5MB/s eta 0:00:01\r\u001b[K     |█████████████████████████       | 1.1MB 7.5MB/s eta 0:00:01\r\u001b[K     |█████████████████████████▏      | 1.1MB 7.5MB/s eta 0:00:01\r\u001b[K     |█████████████████████████▍      | 1.2MB 7.5MB/s eta 0:00:01\r\u001b[K     |█████████████████████████▋      | 1.2MB 7.5MB/s eta 0:00:01\r\u001b[K     |█████████████████████████▉      | 1.2MB 7.5MB/s eta 0:00:01\r\u001b[K     |██████████████████████████      | 1.2MB 7.5MB/s eta 0:00:01\r\u001b[K     |██████████████████████████▎     | 1.2MB 7.5MB/s eta 0:00:01\r\u001b[K     |██████████████████████████▌     | 1.2MB 7.5MB/s eta 0:00:01\r\u001b[K     |██████████████████████████▊     | 1.2MB 7.5MB/s eta 0:00:01\r\u001b[K     |███████████████████████████     | 1.2MB 7.5MB/s eta 0:00:01\r\u001b[K     |███████████████████████████▏    | 1.2MB 7.5MB/s eta 0:00:01\r\u001b[K     |███████████████████████████▍    | 1.2MB 7.5MB/s eta 0:00:01\r\u001b[K     |███████████████████████████▋    | 1.3MB 7.5MB/s eta 0:00:01\r\u001b[K     |███████████████████████████▉    | 1.3MB 7.5MB/s eta 0:00:01\r\u001b[K     |████████████████████████████    | 1.3MB 7.5MB/s eta 0:00:01\r\u001b[K     |████████████████████████████▎   | 1.3MB 7.5MB/s eta 0:00:01\r\u001b[K     |████████████████████████████▌   | 1.3MB 7.5MB/s eta 0:00:01\r\u001b[K     |████████████████████████████▊   | 1.3MB 7.5MB/s eta 0:00:01\r\u001b[K     |█████████████████████████████   | 1.3MB 7.5MB/s eta 0:00:01\r\u001b[K     |█████████████████████████████▏  | 1.3MB 7.5MB/s eta 0:00:01\r\u001b[K     |█████████████████████████████▍  | 1.3MB 7.5MB/s eta 0:00:01\r\u001b[K     |█████████████████████████████▋  | 1.4MB 7.5MB/s eta 0:00:01\r\u001b[K     |█████████████████████████████▉  | 1.4MB 7.5MB/s eta 0:00:01\r\u001b[K     |██████████████████████████████  | 1.4MB 7.5MB/s eta 0:00:01\r\u001b[K     |██████████████████████████████▎ | 1.4MB 7.5MB/s eta 0:00:01\r\u001b[K     |██████████████████████████████▌ | 1.4MB 7.5MB/s eta 0:00:01\r\u001b[K     |██████████████████████████████▊ | 1.4MB 7.5MB/s eta 0:00:01\r\u001b[K     |███████████████████████████████ | 1.4MB 7.5MB/s eta 0:00:01\r\u001b[K     |███████████████████████████████▏| 1.4MB 7.5MB/s eta 0:00:01\r\u001b[K     |███████████████████████████████▍| 1.4MB 7.5MB/s eta 0:00:01\r\u001b[K     |███████████████████████████████▊| 1.4MB 7.5MB/s eta 0:00:01\r\u001b[K     |████████████████████████████████| 1.5MB 7.5MB/s eta 0:00:01\r\u001b[K     |████████████████████████████████| 1.5MB 7.5MB/s \n",
            "\u001b[?25hRequirement already satisfied: numpy>=1.7 in /usr/local/lib/python3.7/dist-packages (from bcolz) (1.19.5)\n",
            "Building wheels for collected packages: bcolz\n",
            "  Building wheel for bcolz (setup.py) ... \u001b[?25l\u001b[?25hdone\n",
            "  Created wheel for bcolz: filename=bcolz-1.2.1-cp37-cp37m-linux_x86_64.whl size=2650815 sha256=23c60715b4d494cb7ebdb7e4592454f49db2c6c61c643d3bf46bc9ed9f4b7923\n",
            "  Stored in directory: /root/.cache/pip/wheels/9f/78/26/fb8c0acb91a100dc8914bf236c4eaa4b207cb876893c40b745\n",
            "Successfully built bcolz\n",
            "Installing collected packages: bcolz\n",
            "Successfully installed bcolz-1.2.1\n"
          ],
          "name": "stdout"
        }
      ]
    },
    {
      "cell_type": "code",
      "metadata": {
        "colab": {
          "base_uri": "https://localhost:8080/"
        },
        "id": "Bu5SNtHetIVP",
        "outputId": "72d96c37-4aef-40dc-f013-f14c02f26b65"
      },
      "source": [
        "!pip install pytorch-nlp"
      ],
      "execution_count": 2,
      "outputs": [
        {
          "output_type": "stream",
          "text": [
            "Collecting pytorch-nlp\n",
            "\u001b[?25l  Downloading https://files.pythonhosted.org/packages/4f/51/f0ee1efb75f7cc2e3065c5da1363d6be2eec79691b2821594f3f2329528c/pytorch_nlp-0.5.0-py3-none-any.whl (90kB)\n",
            "\r\u001b[K     |███▋                            | 10kB 22.0MB/s eta 0:00:01\r\u001b[K     |███████▎                        | 20kB 27.2MB/s eta 0:00:01\r\u001b[K     |███████████                     | 30kB 18.6MB/s eta 0:00:01\r\u001b[K     |██████████████▌                 | 40kB 16.2MB/s eta 0:00:01\r\u001b[K     |██████████████████▏             | 51kB 10.3MB/s eta 0:00:01\r\u001b[K     |█████████████████████▉          | 61kB 10.7MB/s eta 0:00:01\r\u001b[K     |█████████████████████████▌      | 71kB 10.0MB/s eta 0:00:01\r\u001b[K     |█████████████████████████████   | 81kB 11.1MB/s eta 0:00:01\r\u001b[K     |████████████████████████████████| 92kB 6.0MB/s \n",
            "\u001b[?25hRequirement already satisfied: tqdm in /usr/local/lib/python3.7/dist-packages (from pytorch-nlp) (4.41.1)\n",
            "Requirement already satisfied: numpy in /usr/local/lib/python3.7/dist-packages (from pytorch-nlp) (1.19.5)\n",
            "Installing collected packages: pytorch-nlp\n",
            "Successfully installed pytorch-nlp-0.5.0\n"
          ],
          "name": "stdout"
        }
      ]
    },
    {
      "cell_type": "markdown",
      "metadata": {
        "id": "UUXR2OE4B2iX"
      },
      "source": [
        "### mount google drive\n",
        "\n"
      ]
    },
    {
      "cell_type": "code",
      "metadata": {
        "id": "w2u1KAgLnDah",
        "colab": {
          "base_uri": "https://localhost:8080/"
        },
        "outputId": "fde2f846-8dcb-4d92-831f-4109df88d4bb"
      },
      "source": [
        "from google.colab import drive\n",
        "drive.mount('/content/drive')"
      ],
      "execution_count": 3,
      "outputs": [
        {
          "output_type": "stream",
          "text": [
            "Mounted at /content/drive\n"
          ],
          "name": "stdout"
        }
      ]
    },
    {
      "cell_type": "code",
      "metadata": {
        "id": "vxCla6HFCtRH"
      },
      "source": [
        "%matplotlib inline"
      ],
      "execution_count": 4,
      "outputs": []
    },
    {
      "cell_type": "markdown",
      "metadata": {
        "id": "7X2eCbt0uYT9"
      },
      "source": [
        "### include the libraries"
      ]
    },
    {
      "cell_type": "code",
      "metadata": {
        "id": "kZHV0_ypfMqI"
      },
      "source": [
        "#bolz not available, install it \n",
        "\n",
        "from __future__ import unicode_literals, print_function, division\n",
        "from io import open\n",
        "import unicodedata\n",
        "import string\n",
        "import re\n",
        "import random\n",
        "import bcolz  # to process the data from Glove File \n",
        "import pickle # to dump and load pretrained glove vectors \n",
        "import copy   # to make deepcopy of python lists and dictionaries\n",
        "import operator\n",
        "import numpy as np\n",
        "from pandas import DataFrame # to visualize the glove word embeddings in form of DataFrame\n",
        "import torch\n",
        "import torch.nn as nn\n",
        "from torch import optim\n",
        "import torch.nn.functional as F\n",
        "import os\n",
        "import shutil\n",
        "\n",
        "from zipfile import ZipFile\n",
        "from pathlib import Path\n",
        "\n",
        "device = torch.device(\"cuda\" if torch.cuda.is_available() else \"cpu\")"
      ],
      "execution_count": 5,
      "outputs": []
    },
    {
      "cell_type": "markdown",
      "metadata": {
        "id": "lqV-ZH-mwvZq"
      },
      "source": [
        "#### Initialize file constant strings"
      ]
    },
    {
      "cell_type": "code",
      "metadata": {
        "id": "GTVplOclI72U"
      },
      "source": [
        "embedfile = '/content/seq2seq/glove/glove.6B.300d.txt'\n",
        "\n",
        "processfolder = '/content/seq2seq/embed/'\n",
        "glovezipfilename = 'glove6B_300dprocessed.zip'\n",
        "gloveziploc = '/content/drive/MyDrive/Colab Notebooks/end2/data/glove.6B.zip'\n",
        "zipextrfolder = '/content/seq2seq/glove'\n",
        "\n",
        "fromfileloc = \"/content/\" + glovezipfilename \n",
        "gdriveloc = \"/content/drive/MyDrive/Colab Notebooks/end2/data/glove6B/\" + glovezipfilename\n",
        "\n",
        "processedextractpath = '/content'\n",
        "\n",
        "# if the files are not processed\n",
        "rootdirfile = '/content/seq2seq/embed/glove.6B.300d.dat'\n",
        "wordsfile = '/content/seq2seq/embed/glove.6B.300d_words.pkl'\n",
        "words2idxfile = '/content/seq2seq/embed/glove.6B.300d_idx.pkl'\n",
        "\n",
        "rootdirfileafter = '/content/content/seq2seq/embed/glove.6B.300d.dat'\n",
        "wordsfileafter = '/content/content/seq2seq/embed/glove.6B.300d_words.pkl'\n",
        "words2idxfileafter = '/content/content/seq2seq/embed/glove.6B.300d_idx.pkl'\n",
        "\n",
        "\n",
        "EMBEDDING_DIM = 300"
      ],
      "execution_count": 15,
      "outputs": []
    },
    {
      "cell_type": "markdown",
      "metadata": {
        "id": "GjY6NYlV5zVX"
      },
      "source": [
        "Parse through the glove text file to create the words, words2index array and the pre-trained weights of the words.\n",
        "\n",
        "Algorithm:\n",
        "\n",
        "* Upload the glove zip from google drive\n",
        "\n",
        "* extract the files to a local folder\n",
        "\n",
        "* process the glove file which has 300 dimensions of weights  for each word\n",
        "\n",
        "* save the processed file back to google drive\n",
        "\n",
        "* in the later runs , use the processed files for training and evaluation.\n",
        "\n",
        "\n",
        "### Upload the zip from g drive"
      ]
    },
    {
      "cell_type": "code",
      "metadata": {
        "id": "ylwkaJ62t3w8"
      },
      "source": [
        "def upload_glove_zip():\n",
        "\n",
        "  with ZipFile(gloveziploc, 'r') as zipObj:  \n",
        "    # Extract all the contents of zip file in different directory\n",
        "    zipObj.extractall(zipextrfolder)\n",
        "   \n",
        "   "
      ],
      "execution_count": 8,
      "outputs": []
    },
    {
      "cell_type": "markdown",
      "metadata": {
        "id": "mGGdhVc25wTY"
      },
      "source": [
        "### check if dir exists"
      ]
    },
    {
      "cell_type": "code",
      "metadata": {
        "id": "Ot_LfgYOuUGo"
      },
      "source": [
        "def check_dir(glovefilepath):\n",
        "\n",
        "  directory = os.path.dirname(glovefilepath)\n",
        "  print(directory)\n",
        "\n",
        "  try:\n",
        "    os.stat(directory)\n",
        "  except:\n",
        "    os.mkdir(directory)       \n"
      ],
      "execution_count": 9,
      "outputs": []
    },
    {
      "cell_type": "markdown",
      "metadata": {
        "id": "O9boOltIvjxF"
      },
      "source": [
        "### process the zip file"
      ]
    },
    {
      "cell_type": "code",
      "metadata": {
        "id": "9YyHo_CHvi-G"
      },
      "source": [
        "def process_glove_zip():\n",
        "\n",
        "  words = []\n",
        "  idx = 0\n",
        "  word2idx = {}\n",
        "  vectors = bcolz.carray(np.zeros(1), rootdir=rootdirfile, mode='w')\n",
        "  with open(embedfile, 'rb') as f:\n",
        "    for l in f:\n",
        "      line = l.decode().split()\n",
        "      word = line[0]\n",
        "      words.append(word)\n",
        "      word2idx[word] = idx\n",
        "      idx += 1\n",
        "      vect = np.array(line[1:]).astype(np.float)\n",
        "      vectors.append(vect)\n",
        "     \n",
        "  vectors = bcolz.carray(vectors[1:].reshape((400000, EMBEDDING_DIM)), rootdir= rootdirfile, mode='w')\n",
        "  vectors.flush()\n",
        "  pickle.dump(words, open(wordsfile, 'wb'))\n",
        "  pickle.dump(word2idx, open(words2idxfile, 'wb'))"
      ],
      "execution_count": 10,
      "outputs": []
    },
    {
      "cell_type": "markdown",
      "metadata": {
        "id": "2II1DqLnvzGp"
      },
      "source": [
        "### compress the processed file"
      ]
    },
    {
      "cell_type": "code",
      "metadata": {
        "id": "nPfhmFnqvyr9"
      },
      "source": [
        "def zip_compression_tree(root_path, zip_name):\n",
        "  with ZipFile(zip_name, 'w') as z:\n",
        "    for root, dirs, files in os.walk(root_path):\n",
        "\n",
        "      for file in files:\n",
        "        z.write(os.path.join(root, file))\n",
        "      for directory in dirs:\n",
        "        z.write(os.path.join(root, directory))"
      ],
      "execution_count": 11,
      "outputs": []
    },
    {
      "cell_type": "code",
      "metadata": {
        "colab": {
          "base_uri": "https://localhost:8080/",
          "height": 36
        },
        "id": "ejYKMd9x-84Q",
        "outputId": "3e2db4f4-44cc-4207-be6e-51454871ff8a"
      },
      "source": [
        "processfolder"
      ],
      "execution_count": 14,
      "outputs": [
        {
          "output_type": "execute_result",
          "data": {
            "application/vnd.google.colaboratory.intrinsic+json": {
              "type": "string"
            },
            "text/plain": [
              "'/content/seq2seq/embed'"
            ]
          },
          "metadata": {
            "tags": []
          },
          "execution_count": 14
        }
      ]
    },
    {
      "cell_type": "code",
      "metadata": {
        "id": "j95bZSxY2s9R"
      },
      "source": [
        "def processfileifnotprocessed():\n",
        "  # upload the glove zip file from g drive to colab\n",
        "  upload_glove_zip()\n",
        "\n",
        "  #check if embed folder exist inside /content/glove\n",
        "  check_dir(processfolder)\n",
        "\n",
        "  #process the glove files to create words , words2index\n",
        "  # and save to /content/seq2seq/embed\n",
        "  process_glove_zip()\n",
        "\n",
        "  # zip the /content/seq2seq/embed folder \n",
        "  zip_compression_tree( processfolder , glovezipfilename )\n",
        "\n",
        "  # copy the zip file to g drive\n",
        "  shutil.copy( fromfileloc , gdriveloc)\n",
        "\n",
        "\n",
        "\n"
      ],
      "execution_count": 12,
      "outputs": []
    },
    {
      "cell_type": "markdown",
      "metadata": {
        "id": "GPUhLNpYtq_B"
      },
      "source": [
        "Check if the glove data is already processed and available in google drive \n",
        "\n",
        "* if yes then upload the processed zip file\n",
        "\n",
        "* if no , then upload the glove zip file and create words , words2index and the 300 dimension embeddings\n",
        "\n",
        "### check if glove file is processed"
      ]
    },
    {
      "cell_type": "code",
      "metadata": {
        "colab": {
          "base_uri": "https://localhost:8080/"
        },
        "id": "XMSaSl9v6p98",
        "outputId": "2efeb463-f86d-4d91-e877-2f0ca8005957"
      },
      "source": [
        "glovefile = Path(gdriveloc)\n",
        "\n",
        "try:\n",
        "    glove_abs_path = glovefile.resolve(strict=True)\n",
        "except FileNotFoundError:\n",
        "\n",
        "  print('file does not exist')\n",
        "\n",
        "  # compress the processed files\n",
        "  processfileifnotprocessed()\n",
        "else:\n",
        "    print('file exists')"
      ],
      "execution_count": 16,
      "outputs": [
        {
          "output_type": "stream",
          "text": [
            "file does not exist\n",
            "/content/seq2seq/embed\n"
          ],
          "name": "stdout"
        }
      ]
    },
    {
      "cell_type": "markdown",
      "metadata": {
        "id": "QgCOHx3f4DGD"
      },
      "source": [
        "Once the glove files are processed then upload them from google drive for training and evaluation.\n",
        "\n",
        "### copy from google drive"
      ]
    },
    {
      "cell_type": "code",
      "metadata": {
        "id": "kHSRK7cVqkc5"
      },
      "source": [
        "with ZipFile(gdriveloc, 'r') as zipObj:\n",
        "   # Extract all the contents of zip file in different directory\n",
        "   zipObj.extractall(processedextractpath)\n"
      ],
      "execution_count": 19,
      "outputs": []
    },
    {
      "cell_type": "markdown",
      "metadata": {
        "id": "CRLHaUPeJ-fO"
      },
      "source": [
        "### get the words, words2index and word embeddings for english words"
      ]
    },
    {
      "cell_type": "code",
      "metadata": {
        "id": "NmVp0I5coLbP"
      },
      "source": [
        "vectors = bcolz.open(rootdirfileafter)[:]\n",
        "words = pickle.load(open(wordsfileafter, 'rb'))\n",
        "word2idx = pickle.load(open(words2idxfileafter, 'rb'))\n",
        "glove = {w: vectors[word2idx[w]] for w in words}"
      ],
      "execution_count": 21,
      "outputs": []
    },
    {
      "cell_type": "code",
      "metadata": {
        "id": "1aRkyfI0oXlu",
        "colab": {
          "base_uri": "https://localhost:8080/",
          "height": 412
        },
        "outputId": "1bcdf133-aa70-469c-adda-fae111e245f1"
      },
      "source": [
        "glove_dframe = DataFrame(vectors, columns=range(1,EMBEDDING_DIM + 1), index=words)\n",
        "glove_dframe[1000:1010]"
      ],
      "execution_count": 22,
      "outputs": [
        {
          "output_type": "execute_result",
          "data": {
            "text/html": [
              "<div>\n",
              "<style scoped>\n",
              "    .dataframe tbody tr th:only-of-type {\n",
              "        vertical-align: middle;\n",
              "    }\n",
              "\n",
              "    .dataframe tbody tr th {\n",
              "        vertical-align: top;\n",
              "    }\n",
              "\n",
              "    .dataframe thead th {\n",
              "        text-align: right;\n",
              "    }\n",
              "</style>\n",
              "<table border=\"1\" class=\"dataframe\">\n",
              "  <thead>\n",
              "    <tr style=\"text-align: right;\">\n",
              "      <th></th>\n",
              "      <th>1</th>\n",
              "      <th>2</th>\n",
              "      <th>3</th>\n",
              "      <th>4</th>\n",
              "      <th>5</th>\n",
              "      <th>6</th>\n",
              "      <th>7</th>\n",
              "      <th>8</th>\n",
              "      <th>9</th>\n",
              "      <th>10</th>\n",
              "      <th>11</th>\n",
              "      <th>12</th>\n",
              "      <th>13</th>\n",
              "      <th>14</th>\n",
              "      <th>15</th>\n",
              "      <th>16</th>\n",
              "      <th>17</th>\n",
              "      <th>18</th>\n",
              "      <th>19</th>\n",
              "      <th>20</th>\n",
              "      <th>21</th>\n",
              "      <th>22</th>\n",
              "      <th>23</th>\n",
              "      <th>24</th>\n",
              "      <th>25</th>\n",
              "      <th>26</th>\n",
              "      <th>27</th>\n",
              "      <th>28</th>\n",
              "      <th>29</th>\n",
              "      <th>30</th>\n",
              "      <th>31</th>\n",
              "      <th>32</th>\n",
              "      <th>33</th>\n",
              "      <th>34</th>\n",
              "      <th>35</th>\n",
              "      <th>36</th>\n",
              "      <th>37</th>\n",
              "      <th>38</th>\n",
              "      <th>39</th>\n",
              "      <th>40</th>\n",
              "      <th>...</th>\n",
              "      <th>261</th>\n",
              "      <th>262</th>\n",
              "      <th>263</th>\n",
              "      <th>264</th>\n",
              "      <th>265</th>\n",
              "      <th>266</th>\n",
              "      <th>267</th>\n",
              "      <th>268</th>\n",
              "      <th>269</th>\n",
              "      <th>270</th>\n",
              "      <th>271</th>\n",
              "      <th>272</th>\n",
              "      <th>273</th>\n",
              "      <th>274</th>\n",
              "      <th>275</th>\n",
              "      <th>276</th>\n",
              "      <th>277</th>\n",
              "      <th>278</th>\n",
              "      <th>279</th>\n",
              "      <th>280</th>\n",
              "      <th>281</th>\n",
              "      <th>282</th>\n",
              "      <th>283</th>\n",
              "      <th>284</th>\n",
              "      <th>285</th>\n",
              "      <th>286</th>\n",
              "      <th>287</th>\n",
              "      <th>288</th>\n",
              "      <th>289</th>\n",
              "      <th>290</th>\n",
              "      <th>291</th>\n",
              "      <th>292</th>\n",
              "      <th>293</th>\n",
              "      <th>294</th>\n",
              "      <th>295</th>\n",
              "      <th>296</th>\n",
              "      <th>297</th>\n",
              "      <th>298</th>\n",
              "      <th>299</th>\n",
              "      <th>300</th>\n",
              "    </tr>\n",
              "  </thead>\n",
              "  <tbody>\n",
              "    <tr>\n",
              "      <th>themselves</th>\n",
              "      <td>0.369050</td>\n",
              "      <td>0.203750</td>\n",
              "      <td>0.202940</td>\n",
              "      <td>0.112330</td>\n",
              "      <td>0.035794</td>\n",
              "      <td>0.369570</td>\n",
              "      <td>0.202420</td>\n",
              "      <td>0.401740</td>\n",
              "      <td>0.386180</td>\n",
              "      <td>-1.357200</td>\n",
              "      <td>0.131310</td>\n",
              "      <td>-0.336070</td>\n",
              "      <td>-0.112070</td>\n",
              "      <td>-0.209690</td>\n",
              "      <td>-0.309970</td>\n",
              "      <td>0.085240</td>\n",
              "      <td>-0.097837</td>\n",
              "      <td>-0.196220</td>\n",
              "      <td>0.32281</td>\n",
              "      <td>-0.055962</td>\n",
              "      <td>-0.471130</td>\n",
              "      <td>0.295380</td>\n",
              "      <td>0.518620</td>\n",
              "      <td>0.227730</td>\n",
              "      <td>-0.118780</td>\n",
              "      <td>-0.209060</td>\n",
              "      <td>-0.168010</td>\n",
              "      <td>0.154470</td>\n",
              "      <td>0.297070</td>\n",
              "      <td>0.447530</td>\n",
              "      <td>0.25790</td>\n",
              "      <td>-0.082340</td>\n",
              "      <td>0.063640</td>\n",
              "      <td>-0.529250</td>\n",
              "      <td>-0.82997</td>\n",
              "      <td>0.073081</td>\n",
              "      <td>0.165680</td>\n",
              "      <td>0.454610</td>\n",
              "      <td>0.455310</td>\n",
              "      <td>-0.091374</td>\n",
              "      <td>...</td>\n",
              "      <td>0.039080</td>\n",
              "      <td>-0.582720</td>\n",
              "      <td>-0.037004</td>\n",
              "      <td>0.083635</td>\n",
              "      <td>0.083522</td>\n",
              "      <td>-0.030475</td>\n",
              "      <td>-0.30151</td>\n",
              "      <td>-0.487310</td>\n",
              "      <td>-0.056683</td>\n",
              "      <td>-0.125530</td>\n",
              "      <td>0.464500</td>\n",
              "      <td>0.166710</td>\n",
              "      <td>0.241800</td>\n",
              "      <td>0.301570</td>\n",
              "      <td>-0.632770</td>\n",
              "      <td>0.159680</td>\n",
              "      <td>-2.45400</td>\n",
              "      <td>0.120500</td>\n",
              "      <td>0.294960</td>\n",
              "      <td>-0.092366</td>\n",
              "      <td>0.042739</td>\n",
              "      <td>-0.077092</td>\n",
              "      <td>0.153550</td>\n",
              "      <td>-0.061834</td>\n",
              "      <td>-0.278110</td>\n",
              "      <td>-0.005609</td>\n",
              "      <td>0.160560</td>\n",
              "      <td>0.556110</td>\n",
              "      <td>0.373420</td>\n",
              "      <td>-0.22897</td>\n",
              "      <td>0.049974</td>\n",
              "      <td>-0.415090</td>\n",
              "      <td>-0.265090</td>\n",
              "      <td>-0.208030</td>\n",
              "      <td>0.363670</td>\n",
              "      <td>-0.148800</td>\n",
              "      <td>-0.354590</td>\n",
              "      <td>-0.038342</td>\n",
              "      <td>0.082031</td>\n",
              "      <td>-0.554860</td>\n",
              "    </tr>\n",
              "    <tr>\n",
              "      <th>firm</th>\n",
              "      <td>0.221000</td>\n",
              "      <td>0.381770</td>\n",
              "      <td>-0.278810</td>\n",
              "      <td>-0.096292</td>\n",
              "      <td>0.187290</td>\n",
              "      <td>-0.646910</td>\n",
              "      <td>0.257880</td>\n",
              "      <td>0.476020</td>\n",
              "      <td>0.137010</td>\n",
              "      <td>-1.672900</td>\n",
              "      <td>-0.171210</td>\n",
              "      <td>0.211520</td>\n",
              "      <td>0.506990</td>\n",
              "      <td>0.025261</td>\n",
              "      <td>0.105280</td>\n",
              "      <td>0.421120</td>\n",
              "      <td>-0.248760</td>\n",
              "      <td>-0.061086</td>\n",
              "      <td>-0.24310</td>\n",
              "      <td>-0.485030</td>\n",
              "      <td>0.316540</td>\n",
              "      <td>0.026972</td>\n",
              "      <td>0.656840</td>\n",
              "      <td>0.287070</td>\n",
              "      <td>-0.562050</td>\n",
              "      <td>0.405640</td>\n",
              "      <td>-0.153210</td>\n",
              "      <td>0.247710</td>\n",
              "      <td>-0.435070</td>\n",
              "      <td>0.096581</td>\n",
              "      <td>-0.38686</td>\n",
              "      <td>0.778020</td>\n",
              "      <td>-0.005506</td>\n",
              "      <td>-0.069740</td>\n",
              "      <td>-1.08530</td>\n",
              "      <td>0.102450</td>\n",
              "      <td>-0.025506</td>\n",
              "      <td>0.092354</td>\n",
              "      <td>0.257580</td>\n",
              "      <td>-0.453610</td>\n",
              "      <td>...</td>\n",
              "      <td>-0.467820</td>\n",
              "      <td>0.207050</td>\n",
              "      <td>-0.208910</td>\n",
              "      <td>0.037262</td>\n",
              "      <td>0.068540</td>\n",
              "      <td>0.690240</td>\n",
              "      <td>0.46868</td>\n",
              "      <td>-0.303760</td>\n",
              "      <td>-0.069161</td>\n",
              "      <td>0.158120</td>\n",
              "      <td>-0.735480</td>\n",
              "      <td>-0.104090</td>\n",
              "      <td>-0.297540</td>\n",
              "      <td>-0.138840</td>\n",
              "      <td>0.026623</td>\n",
              "      <td>-0.278680</td>\n",
              "      <td>-0.72771</td>\n",
              "      <td>-0.348060</td>\n",
              "      <td>0.173740</td>\n",
              "      <td>0.049296</td>\n",
              "      <td>-0.352760</td>\n",
              "      <td>-0.414810</td>\n",
              "      <td>-0.384370</td>\n",
              "      <td>-0.204310</td>\n",
              "      <td>0.407280</td>\n",
              "      <td>-0.139170</td>\n",
              "      <td>0.500970</td>\n",
              "      <td>0.611710</td>\n",
              "      <td>-0.057615</td>\n",
              "      <td>0.22779</td>\n",
              "      <td>0.083527</td>\n",
              "      <td>-0.127220</td>\n",
              "      <td>-0.197270</td>\n",
              "      <td>0.289500</td>\n",
              "      <td>0.474690</td>\n",
              "      <td>0.554550</td>\n",
              "      <td>0.332310</td>\n",
              "      <td>-0.121980</td>\n",
              "      <td>-0.164300</td>\n",
              "      <td>-0.006815</td>\n",
              "    </tr>\n",
              "    <tr>\n",
              "      <th>injured</th>\n",
              "      <td>-0.140250</td>\n",
              "      <td>0.072169</td>\n",
              "      <td>-0.166640</td>\n",
              "      <td>-0.169440</td>\n",
              "      <td>-0.239750</td>\n",
              "      <td>-0.089541</td>\n",
              "      <td>-0.099999</td>\n",
              "      <td>0.119210</td>\n",
              "      <td>-0.497500</td>\n",
              "      <td>0.030276</td>\n",
              "      <td>-0.092824</td>\n",
              "      <td>-0.211530</td>\n",
              "      <td>0.370210</td>\n",
              "      <td>0.000461</td>\n",
              "      <td>-0.112600</td>\n",
              "      <td>0.469230</td>\n",
              "      <td>-0.759020</td>\n",
              "      <td>0.827120</td>\n",
              "      <td>-0.62148</td>\n",
              "      <td>0.004316</td>\n",
              "      <td>0.107760</td>\n",
              "      <td>-0.113500</td>\n",
              "      <td>-0.104140</td>\n",
              "      <td>-0.704480</td>\n",
              "      <td>-0.056685</td>\n",
              "      <td>0.184290</td>\n",
              "      <td>-0.464830</td>\n",
              "      <td>0.104510</td>\n",
              "      <td>0.153730</td>\n",
              "      <td>-0.118850</td>\n",
              "      <td>0.19370</td>\n",
              "      <td>0.656350</td>\n",
              "      <td>0.122040</td>\n",
              "      <td>-0.400200</td>\n",
              "      <td>-0.59855</td>\n",
              "      <td>-0.953120</td>\n",
              "      <td>0.959680</td>\n",
              "      <td>-0.023263</td>\n",
              "      <td>0.657690</td>\n",
              "      <td>0.622880</td>\n",
              "      <td>...</td>\n",
              "      <td>0.190710</td>\n",
              "      <td>0.353620</td>\n",
              "      <td>-0.226510</td>\n",
              "      <td>0.656380</td>\n",
              "      <td>0.222830</td>\n",
              "      <td>-0.184590</td>\n",
              "      <td>0.08574</td>\n",
              "      <td>0.051930</td>\n",
              "      <td>-0.546640</td>\n",
              "      <td>-0.170820</td>\n",
              "      <td>-0.237040</td>\n",
              "      <td>-0.858070</td>\n",
              "      <td>0.054441</td>\n",
              "      <td>0.130080</td>\n",
              "      <td>0.048173</td>\n",
              "      <td>0.143990</td>\n",
              "      <td>-2.30850</td>\n",
              "      <td>0.087884</td>\n",
              "      <td>-0.107480</td>\n",
              "      <td>0.964260</td>\n",
              "      <td>0.299360</td>\n",
              "      <td>0.217480</td>\n",
              "      <td>1.409100</td>\n",
              "      <td>-0.375130</td>\n",
              "      <td>0.280910</td>\n",
              "      <td>0.436440</td>\n",
              "      <td>-0.145010</td>\n",
              "      <td>0.254020</td>\n",
              "      <td>-0.004088</td>\n",
              "      <td>-0.16666</td>\n",
              "      <td>0.218110</td>\n",
              "      <td>-0.347400</td>\n",
              "      <td>0.560710</td>\n",
              "      <td>-0.373550</td>\n",
              "      <td>0.150450</td>\n",
              "      <td>0.116490</td>\n",
              "      <td>-0.301820</td>\n",
              "      <td>-0.467220</td>\n",
              "      <td>-0.415100</td>\n",
              "      <td>0.109390</td>\n",
              "    </tr>\n",
              "    <tr>\n",
              "      <th>itself</th>\n",
              "      <td>0.165780</td>\n",
              "      <td>-0.172600</td>\n",
              "      <td>0.072930</td>\n",
              "      <td>-0.058319</td>\n",
              "      <td>0.151010</td>\n",
              "      <td>-0.005043</td>\n",
              "      <td>0.114490</td>\n",
              "      <td>0.294230</td>\n",
              "      <td>0.395460</td>\n",
              "      <td>-2.149000</td>\n",
              "      <td>0.442570</td>\n",
              "      <td>-0.014603</td>\n",
              "      <td>0.271950</td>\n",
              "      <td>-0.171780</td>\n",
              "      <td>0.036310</td>\n",
              "      <td>0.022364</td>\n",
              "      <td>-0.429290</td>\n",
              "      <td>-0.025936</td>\n",
              "      <td>0.25653</td>\n",
              "      <td>-0.291850</td>\n",
              "      <td>-0.182910</td>\n",
              "      <td>0.439820</td>\n",
              "      <td>0.259700</td>\n",
              "      <td>0.642150</td>\n",
              "      <td>-0.312880</td>\n",
              "      <td>-0.236130</td>\n",
              "      <td>-0.157750</td>\n",
              "      <td>-0.093765</td>\n",
              "      <td>-0.201900</td>\n",
              "      <td>0.669350</td>\n",
              "      <td>0.12595</td>\n",
              "      <td>-0.004502</td>\n",
              "      <td>-0.283820</td>\n",
              "      <td>-0.194490</td>\n",
              "      <td>-0.24290</td>\n",
              "      <td>0.394500</td>\n",
              "      <td>0.077907</td>\n",
              "      <td>0.039759</td>\n",
              "      <td>-0.374350</td>\n",
              "      <td>-0.179160</td>\n",
              "      <td>...</td>\n",
              "      <td>-0.166980</td>\n",
              "      <td>-0.143610</td>\n",
              "      <td>-0.265930</td>\n",
              "      <td>0.122800</td>\n",
              "      <td>0.026036</td>\n",
              "      <td>0.125490</td>\n",
              "      <td>0.16137</td>\n",
              "      <td>-0.140850</td>\n",
              "      <td>0.355230</td>\n",
              "      <td>-0.272000</td>\n",
              "      <td>0.142610</td>\n",
              "      <td>0.085925</td>\n",
              "      <td>-0.142120</td>\n",
              "      <td>0.216400</td>\n",
              "      <td>-0.327380</td>\n",
              "      <td>0.102810</td>\n",
              "      <td>-1.72650</td>\n",
              "      <td>-0.104750</td>\n",
              "      <td>0.829430</td>\n",
              "      <td>0.277590</td>\n",
              "      <td>-0.047645</td>\n",
              "      <td>-0.290160</td>\n",
              "      <td>0.044775</td>\n",
              "      <td>-0.234680</td>\n",
              "      <td>0.008739</td>\n",
              "      <td>-0.175230</td>\n",
              "      <td>-0.093007</td>\n",
              "      <td>0.581460</td>\n",
              "      <td>0.174460</td>\n",
              "      <td>0.21092</td>\n",
              "      <td>0.150340</td>\n",
              "      <td>0.055307</td>\n",
              "      <td>-0.004693</td>\n",
              "      <td>0.097277</td>\n",
              "      <td>0.344250</td>\n",
              "      <td>0.188300</td>\n",
              "      <td>0.018718</td>\n",
              "      <td>0.142020</td>\n",
              "      <td>-0.000705</td>\n",
              "      <td>-0.655720</td>\n",
              "    </tr>\n",
              "    <tr>\n",
              "      <th>governor</th>\n",
              "      <td>0.222550</td>\n",
              "      <td>-0.152870</td>\n",
              "      <td>0.201510</td>\n",
              "      <td>-0.593180</td>\n",
              "      <td>0.176360</td>\n",
              "      <td>-0.301150</td>\n",
              "      <td>0.484450</td>\n",
              "      <td>-0.441280</td>\n",
              "      <td>-0.148480</td>\n",
              "      <td>-0.944340</td>\n",
              "      <td>0.418670</td>\n",
              "      <td>0.560970</td>\n",
              "      <td>-0.009064</td>\n",
              "      <td>0.399980</td>\n",
              "      <td>0.219850</td>\n",
              "      <td>0.665040</td>\n",
              "      <td>-0.145600</td>\n",
              "      <td>0.028520</td>\n",
              "      <td>0.35131</td>\n",
              "      <td>-0.153920</td>\n",
              "      <td>0.314990</td>\n",
              "      <td>0.259370</td>\n",
              "      <td>0.786120</td>\n",
              "      <td>-0.489820</td>\n",
              "      <td>-0.246110</td>\n",
              "      <td>-0.950750</td>\n",
              "      <td>-0.055001</td>\n",
              "      <td>-0.463340</td>\n",
              "      <td>0.264980</td>\n",
              "      <td>-0.367430</td>\n",
              "      <td>0.71340</td>\n",
              "      <td>0.264110</td>\n",
              "      <td>0.181870</td>\n",
              "      <td>-0.008711</td>\n",
              "      <td>-0.41921</td>\n",
              "      <td>0.313690</td>\n",
              "      <td>0.760180</td>\n",
              "      <td>-0.312360</td>\n",
              "      <td>-0.258780</td>\n",
              "      <td>-0.130840</td>\n",
              "      <td>...</td>\n",
              "      <td>0.250660</td>\n",
              "      <td>-0.099036</td>\n",
              "      <td>-0.270680</td>\n",
              "      <td>-0.134550</td>\n",
              "      <td>0.337290</td>\n",
              "      <td>-0.590290</td>\n",
              "      <td>0.30909</td>\n",
              "      <td>-0.034710</td>\n",
              "      <td>-0.388240</td>\n",
              "      <td>-0.076110</td>\n",
              "      <td>0.197620</td>\n",
              "      <td>-0.413640</td>\n",
              "      <td>-0.049047</td>\n",
              "      <td>0.405250</td>\n",
              "      <td>-0.378680</td>\n",
              "      <td>-0.027257</td>\n",
              "      <td>-1.61590</td>\n",
              "      <td>-0.014226</td>\n",
              "      <td>0.682020</td>\n",
              "      <td>0.165040</td>\n",
              "      <td>-0.186690</td>\n",
              "      <td>-0.723760</td>\n",
              "      <td>0.171020</td>\n",
              "      <td>-0.893570</td>\n",
              "      <td>-0.679080</td>\n",
              "      <td>0.494050</td>\n",
              "      <td>0.083366</td>\n",
              "      <td>0.339650</td>\n",
              "      <td>0.077829</td>\n",
              "      <td>0.15890</td>\n",
              "      <td>-0.419380</td>\n",
              "      <td>0.402110</td>\n",
              "      <td>0.598480</td>\n",
              "      <td>-0.573930</td>\n",
              "      <td>-0.080998</td>\n",
              "      <td>0.450910</td>\n",
              "      <td>-0.742270</td>\n",
              "      <td>-0.306330</td>\n",
              "      <td>-0.566960</td>\n",
              "      <td>1.330200</td>\n",
              "    </tr>\n",
              "    <tr>\n",
              "      <th>movie</th>\n",
              "      <td>-0.138000</td>\n",
              "      <td>-0.122030</td>\n",
              "      <td>0.005464</td>\n",
              "      <td>-0.010215</td>\n",
              "      <td>0.131340</td>\n",
              "      <td>0.286160</td>\n",
              "      <td>-0.364360</td>\n",
              "      <td>-0.035735</td>\n",
              "      <td>-0.172180</td>\n",
              "      <td>-0.388640</td>\n",
              "      <td>0.586370</td>\n",
              "      <td>0.131890</td>\n",
              "      <td>-0.151300</td>\n",
              "      <td>0.355150</td>\n",
              "      <td>-0.342980</td>\n",
              "      <td>-0.543940</td>\n",
              "      <td>-0.403020</td>\n",
              "      <td>-0.171290</td>\n",
              "      <td>0.19899</td>\n",
              "      <td>0.243170</td>\n",
              "      <td>0.213320</td>\n",
              "      <td>0.603350</td>\n",
              "      <td>0.225560</td>\n",
              "      <td>0.463820</td>\n",
              "      <td>0.064101</td>\n",
              "      <td>0.364090</td>\n",
              "      <td>0.253280</td>\n",
              "      <td>-0.797710</td>\n",
              "      <td>0.267710</td>\n",
              "      <td>0.424620</td>\n",
              "      <td>-0.62075</td>\n",
              "      <td>0.312080</td>\n",
              "      <td>-0.253160</td>\n",
              "      <td>0.135620</td>\n",
              "      <td>-1.13230</td>\n",
              "      <td>0.009910</td>\n",
              "      <td>-0.624710</td>\n",
              "      <td>-0.048047</td>\n",
              "      <td>0.231390</td>\n",
              "      <td>0.161020</td>\n",
              "      <td>...</td>\n",
              "      <td>0.175180</td>\n",
              "      <td>-0.083995</td>\n",
              "      <td>0.138640</td>\n",
              "      <td>-0.363210</td>\n",
              "      <td>0.446860</td>\n",
              "      <td>-0.187760</td>\n",
              "      <td>0.17833</td>\n",
              "      <td>-0.199660</td>\n",
              "      <td>0.535910</td>\n",
              "      <td>0.576620</td>\n",
              "      <td>0.541540</td>\n",
              "      <td>-0.105550</td>\n",
              "      <td>-0.274720</td>\n",
              "      <td>0.117330</td>\n",
              "      <td>0.223610</td>\n",
              "      <td>0.326450</td>\n",
              "      <td>-1.62790</td>\n",
              "      <td>-0.142970</td>\n",
              "      <td>-0.010648</td>\n",
              "      <td>-0.625190</td>\n",
              "      <td>-0.037267</td>\n",
              "      <td>-0.358630</td>\n",
              "      <td>0.023786</td>\n",
              "      <td>-0.059398</td>\n",
              "      <td>-0.108130</td>\n",
              "      <td>0.593280</td>\n",
              "      <td>-0.113330</td>\n",
              "      <td>-0.152500</td>\n",
              "      <td>-0.141360</td>\n",
              "      <td>0.67566</td>\n",
              "      <td>0.113310</td>\n",
              "      <td>0.153940</td>\n",
              "      <td>-0.322600</td>\n",
              "      <td>0.017754</td>\n",
              "      <td>-0.975180</td>\n",
              "      <td>0.021112</td>\n",
              "      <td>-0.154760</td>\n",
              "      <td>0.199340</td>\n",
              "      <td>0.057473</td>\n",
              "      <td>-0.023767</td>\n",
              "    </tr>\n",
              "    <tr>\n",
              "      <th>range</th>\n",
              "      <td>-0.620890</td>\n",
              "      <td>0.891750</td>\n",
              "      <td>-0.435230</td>\n",
              "      <td>0.169300</td>\n",
              "      <td>0.249030</td>\n",
              "      <td>0.197990</td>\n",
              "      <td>-0.295990</td>\n",
              "      <td>0.367270</td>\n",
              "      <td>-0.018245</td>\n",
              "      <td>-2.228800</td>\n",
              "      <td>0.238750</td>\n",
              "      <td>0.036770</td>\n",
              "      <td>-0.011487</td>\n",
              "      <td>0.238510</td>\n",
              "      <td>0.243450</td>\n",
              "      <td>0.021676</td>\n",
              "      <td>0.208700</td>\n",
              "      <td>0.365900</td>\n",
              "      <td>0.17523</td>\n",
              "      <td>0.427410</td>\n",
              "      <td>0.385040</td>\n",
              "      <td>-0.080948</td>\n",
              "      <td>0.093325</td>\n",
              "      <td>-0.092187</td>\n",
              "      <td>-0.273490</td>\n",
              "      <td>0.237310</td>\n",
              "      <td>-0.266530</td>\n",
              "      <td>-0.260900</td>\n",
              "      <td>0.038261</td>\n",
              "      <td>0.162950</td>\n",
              "      <td>0.76020</td>\n",
              "      <td>-0.037867</td>\n",
              "      <td>-0.382270</td>\n",
              "      <td>-0.031615</td>\n",
              "      <td>0.23775</td>\n",
              "      <td>-0.236230</td>\n",
              "      <td>0.114490</td>\n",
              "      <td>0.161350</td>\n",
              "      <td>0.094456</td>\n",
              "      <td>-0.089346</td>\n",
              "      <td>...</td>\n",
              "      <td>0.129660</td>\n",
              "      <td>-0.153280</td>\n",
              "      <td>0.197600</td>\n",
              "      <td>-0.496440</td>\n",
              "      <td>-0.711440</td>\n",
              "      <td>-0.244040</td>\n",
              "      <td>-0.11449</td>\n",
              "      <td>0.544300</td>\n",
              "      <td>0.413120</td>\n",
              "      <td>-0.077157</td>\n",
              "      <td>0.268610</td>\n",
              "      <td>0.197800</td>\n",
              "      <td>-0.176510</td>\n",
              "      <td>0.264940</td>\n",
              "      <td>-0.000278</td>\n",
              "      <td>0.034870</td>\n",
              "      <td>-1.80120</td>\n",
              "      <td>0.243200</td>\n",
              "      <td>-0.406450</td>\n",
              "      <td>-0.360500</td>\n",
              "      <td>0.060142</td>\n",
              "      <td>0.216420</td>\n",
              "      <td>0.078688</td>\n",
              "      <td>-0.102660</td>\n",
              "      <td>-0.057274</td>\n",
              "      <td>0.452540</td>\n",
              "      <td>-0.423230</td>\n",
              "      <td>-0.570580</td>\n",
              "      <td>0.179960</td>\n",
              "      <td>0.06032</td>\n",
              "      <td>-0.442780</td>\n",
              "      <td>-0.226090</td>\n",
              "      <td>-0.101190</td>\n",
              "      <td>0.058086</td>\n",
              "      <td>0.240920</td>\n",
              "      <td>0.413630</td>\n",
              "      <td>-0.220770</td>\n",
              "      <td>0.161060</td>\n",
              "      <td>0.059301</td>\n",
              "      <td>-0.368230</td>\n",
              "    </tr>\n",
              "    <tr>\n",
              "      <th>cross</th>\n",
              "      <td>-0.349670</td>\n",
              "      <td>-0.049535</td>\n",
              "      <td>-0.024488</td>\n",
              "      <td>0.005708</td>\n",
              "      <td>0.145230</td>\n",
              "      <td>0.107280</td>\n",
              "      <td>-0.638980</td>\n",
              "      <td>-0.153030</td>\n",
              "      <td>-0.138950</td>\n",
              "      <td>-1.841600</td>\n",
              "      <td>-0.045721</td>\n",
              "      <td>0.029797</td>\n",
              "      <td>-0.177800</td>\n",
              "      <td>0.212760</td>\n",
              "      <td>0.125850</td>\n",
              "      <td>0.522330</td>\n",
              "      <td>-0.024196</td>\n",
              "      <td>-0.259890</td>\n",
              "      <td>-0.16468</td>\n",
              "      <td>-0.003194</td>\n",
              "      <td>-0.300290</td>\n",
              "      <td>0.024874</td>\n",
              "      <td>0.444640</td>\n",
              "      <td>-0.857430</td>\n",
              "      <td>-0.116230</td>\n",
              "      <td>-0.039101</td>\n",
              "      <td>0.484060</td>\n",
              "      <td>0.185650</td>\n",
              "      <td>-0.104810</td>\n",
              "      <td>0.076980</td>\n",
              "      <td>0.40999</td>\n",
              "      <td>-0.078983</td>\n",
              "      <td>0.532530</td>\n",
              "      <td>0.389360</td>\n",
              "      <td>-0.72197</td>\n",
              "      <td>0.198320</td>\n",
              "      <td>0.139390</td>\n",
              "      <td>-0.964350</td>\n",
              "      <td>0.123540</td>\n",
              "      <td>-0.047883</td>\n",
              "      <td>...</td>\n",
              "      <td>0.072150</td>\n",
              "      <td>0.019796</td>\n",
              "      <td>0.325900</td>\n",
              "      <td>-0.038936</td>\n",
              "      <td>-0.103140</td>\n",
              "      <td>0.533100</td>\n",
              "      <td>-0.35079</td>\n",
              "      <td>-0.315330</td>\n",
              "      <td>-0.176330</td>\n",
              "      <td>-0.284710</td>\n",
              "      <td>-0.118070</td>\n",
              "      <td>-0.050882</td>\n",
              "      <td>0.302580</td>\n",
              "      <td>0.321880</td>\n",
              "      <td>0.266650</td>\n",
              "      <td>-0.061272</td>\n",
              "      <td>-1.55550</td>\n",
              "      <td>-0.490850</td>\n",
              "      <td>-0.045259</td>\n",
              "      <td>0.069589</td>\n",
              "      <td>-0.111970</td>\n",
              "      <td>-0.469380</td>\n",
              "      <td>0.388900</td>\n",
              "      <td>0.064703</td>\n",
              "      <td>0.209520</td>\n",
              "      <td>0.072829</td>\n",
              "      <td>0.264170</td>\n",
              "      <td>0.123470</td>\n",
              "      <td>0.266850</td>\n",
              "      <td>-0.45304</td>\n",
              "      <td>0.249200</td>\n",
              "      <td>0.254170</td>\n",
              "      <td>-0.164810</td>\n",
              "      <td>0.610740</td>\n",
              "      <td>-0.149170</td>\n",
              "      <td>-0.237650</td>\n",
              "      <td>0.265630</td>\n",
              "      <td>0.061265</td>\n",
              "      <td>0.714770</td>\n",
              "      <td>-0.020653</td>\n",
              "    </tr>\n",
              "    <tr>\n",
              "      <th>track</th>\n",
              "      <td>-0.013537</td>\n",
              "      <td>-0.028098</td>\n",
              "      <td>0.045745</td>\n",
              "      <td>0.501960</td>\n",
              "      <td>-0.420070</td>\n",
              "      <td>-0.387700</td>\n",
              "      <td>0.087914</td>\n",
              "      <td>0.154890</td>\n",
              "      <td>0.009970</td>\n",
              "      <td>-1.281600</td>\n",
              "      <td>-0.145340</td>\n",
              "      <td>0.759740</td>\n",
              "      <td>0.291340</td>\n",
              "      <td>-0.490830</td>\n",
              "      <td>0.143930</td>\n",
              "      <td>0.012481</td>\n",
              "      <td>-0.252700</td>\n",
              "      <td>0.219010</td>\n",
              "      <td>0.40605</td>\n",
              "      <td>0.045597</td>\n",
              "      <td>-0.043374</td>\n",
              "      <td>0.440560</td>\n",
              "      <td>0.026050</td>\n",
              "      <td>0.622210</td>\n",
              "      <td>-0.434630</td>\n",
              "      <td>0.142530</td>\n",
              "      <td>0.190630</td>\n",
              "      <td>0.208740</td>\n",
              "      <td>0.083095</td>\n",
              "      <td>-0.153260</td>\n",
              "      <td>-0.32083</td>\n",
              "      <td>-0.146340</td>\n",
              "      <td>0.151610</td>\n",
              "      <td>-0.178270</td>\n",
              "      <td>-0.81349</td>\n",
              "      <td>0.530850</td>\n",
              "      <td>-0.299400</td>\n",
              "      <td>0.175920</td>\n",
              "      <td>-0.162440</td>\n",
              "      <td>-0.262340</td>\n",
              "      <td>...</td>\n",
              "      <td>-0.402520</td>\n",
              "      <td>-0.270120</td>\n",
              "      <td>-0.186870</td>\n",
              "      <td>0.447640</td>\n",
              "      <td>-0.183460</td>\n",
              "      <td>0.214270</td>\n",
              "      <td>-0.35856</td>\n",
              "      <td>-0.076986</td>\n",
              "      <td>0.119210</td>\n",
              "      <td>-0.524680</td>\n",
              "      <td>-0.084396</td>\n",
              "      <td>-0.212570</td>\n",
              "      <td>-0.117040</td>\n",
              "      <td>0.091083</td>\n",
              "      <td>0.118280</td>\n",
              "      <td>-0.341740</td>\n",
              "      <td>-1.83570</td>\n",
              "      <td>0.110260</td>\n",
              "      <td>0.490870</td>\n",
              "      <td>0.207590</td>\n",
              "      <td>0.257730</td>\n",
              "      <td>-0.450890</td>\n",
              "      <td>-0.419890</td>\n",
              "      <td>0.466250</td>\n",
              "      <td>-0.058407</td>\n",
              "      <td>-0.263970</td>\n",
              "      <td>-0.014843</td>\n",
              "      <td>-0.028327</td>\n",
              "      <td>-0.611600</td>\n",
              "      <td>-0.60458</td>\n",
              "      <td>0.083903</td>\n",
              "      <td>-0.016643</td>\n",
              "      <td>-0.586390</td>\n",
              "      <td>0.158410</td>\n",
              "      <td>-0.326650</td>\n",
              "      <td>0.052116</td>\n",
              "      <td>0.299660</td>\n",
              "      <td>-0.209060</td>\n",
              "      <td>0.051424</td>\n",
              "      <td>0.041097</td>\n",
              "    </tr>\n",
              "    <tr>\n",
              "      <th>programs</th>\n",
              "      <td>-0.364870</td>\n",
              "      <td>-0.139270</td>\n",
              "      <td>0.410780</td>\n",
              "      <td>0.055217</td>\n",
              "      <td>0.106990</td>\n",
              "      <td>0.662690</td>\n",
              "      <td>-0.057047</td>\n",
              "      <td>0.062563</td>\n",
              "      <td>-0.423200</td>\n",
              "      <td>-1.641000</td>\n",
              "      <td>0.148160</td>\n",
              "      <td>0.385790</td>\n",
              "      <td>-0.109900</td>\n",
              "      <td>-0.120550</td>\n",
              "      <td>-0.073661</td>\n",
              "      <td>0.089233</td>\n",
              "      <td>0.409190</td>\n",
              "      <td>-0.436450</td>\n",
              "      <td>0.32058</td>\n",
              "      <td>-0.021455</td>\n",
              "      <td>0.064191</td>\n",
              "      <td>-0.279920</td>\n",
              "      <td>0.064893</td>\n",
              "      <td>0.691020</td>\n",
              "      <td>-0.014064</td>\n",
              "      <td>0.887910</td>\n",
              "      <td>-0.084804</td>\n",
              "      <td>-0.000694</td>\n",
              "      <td>-0.149470</td>\n",
              "      <td>-0.116040</td>\n",
              "      <td>0.32962</td>\n",
              "      <td>-0.126330</td>\n",
              "      <td>0.389960</td>\n",
              "      <td>-0.314830</td>\n",
              "      <td>-0.34235</td>\n",
              "      <td>0.272030</td>\n",
              "      <td>0.140140</td>\n",
              "      <td>0.095233</td>\n",
              "      <td>-0.252840</td>\n",
              "      <td>-0.270960</td>\n",
              "      <td>...</td>\n",
              "      <td>0.058129</td>\n",
              "      <td>0.289880</td>\n",
              "      <td>0.067109</td>\n",
              "      <td>-0.275110</td>\n",
              "      <td>0.330330</td>\n",
              "      <td>-0.053286</td>\n",
              "      <td>-0.57275</td>\n",
              "      <td>0.371780</td>\n",
              "      <td>0.057279</td>\n",
              "      <td>0.488360</td>\n",
              "      <td>0.074421</td>\n",
              "      <td>0.025272</td>\n",
              "      <td>-0.351880</td>\n",
              "      <td>0.115620</td>\n",
              "      <td>-0.163360</td>\n",
              "      <td>-0.583540</td>\n",
              "      <td>-2.84400</td>\n",
              "      <td>0.206790</td>\n",
              "      <td>0.543850</td>\n",
              "      <td>0.276900</td>\n",
              "      <td>-0.492360</td>\n",
              "      <td>-0.397410</td>\n",
              "      <td>0.219550</td>\n",
              "      <td>-0.043619</td>\n",
              "      <td>0.182990</td>\n",
              "      <td>-0.069586</td>\n",
              "      <td>-0.200970</td>\n",
              "      <td>-0.202590</td>\n",
              "      <td>-0.110470</td>\n",
              "      <td>-0.52647</td>\n",
              "      <td>-0.362400</td>\n",
              "      <td>-0.694670</td>\n",
              "      <td>-0.092683</td>\n",
              "      <td>0.001446</td>\n",
              "      <td>-0.443860</td>\n",
              "      <td>-0.273180</td>\n",
              "      <td>-0.069304</td>\n",
              "      <td>-0.357750</td>\n",
              "      <td>-0.298850</td>\n",
              "      <td>-0.389170</td>\n",
              "    </tr>\n",
              "  </tbody>\n",
              "</table>\n",
              "<p>10 rows × 300 columns</p>\n",
              "</div>"
            ],
            "text/plain": [
              "                 1         2         3    ...       298       299       300\n",
              "themselves  0.369050  0.203750  0.202940  ... -0.038342  0.082031 -0.554860\n",
              "firm        0.221000  0.381770 -0.278810  ... -0.121980 -0.164300 -0.006815\n",
              "injured    -0.140250  0.072169 -0.166640  ... -0.467220 -0.415100  0.109390\n",
              "itself      0.165780 -0.172600  0.072930  ...  0.142020 -0.000705 -0.655720\n",
              "governor    0.222550 -0.152870  0.201510  ... -0.306330 -0.566960  1.330200\n",
              "movie      -0.138000 -0.122030  0.005464  ...  0.199340  0.057473 -0.023767\n",
              "range      -0.620890  0.891750 -0.435230  ...  0.161060  0.059301 -0.368230\n",
              "cross      -0.349670 -0.049535 -0.024488  ...  0.061265  0.714770 -0.020653\n",
              "track      -0.013537 -0.028098  0.045745  ... -0.209060  0.051424  0.041097\n",
              "programs   -0.364870 -0.139270  0.410780  ... -0.357750 -0.298850 -0.389170\n",
              "\n",
              "[10 rows x 300 columns]"
            ]
          },
          "metadata": {
            "tags": []
          },
          "execution_count": 22
        }
      ]
    },
    {
      "cell_type": "markdown",
      "metadata": {
        "id": "YXKa2JUBozK8"
      },
      "source": [
        "reset the position of <sos> and <eos> in the words and words2index array"
      ]
    },
    {
      "cell_type": "code",
      "metadata": {
        "id": "UYfedA43oglp"
      },
      "source": [
        "# for moving 'sos' token at index 0 and 'eos' token at index 1\n",
        "sos_index = word2idx['sos']\n",
        "eos_index = word2idx['eos']\n",
        "sos_swap_word = words[0]\n",
        "eos_swap_word = words[1]\n",
        "words[0], words[sos_index] = words[sos_index], words[0]\n",
        "words[1], words[eos_index] = words[eos_index], words[1]\n",
        "word2idx[sos_swap_word], word2idx['sos'] = word2idx['sos'], word2idx[sos_swap_word]\n",
        "word2idx[eos_swap_word], word2idx['eos'] = word2idx['eos'], word2idx[eos_swap_word]"
      ],
      "execution_count": 27,
      "outputs": []
    },
    {
      "cell_type": "markdown",
      "metadata": {
        "id": "lL7aXfpMK-MC"
      },
      "source": [
        "### Glove dataset has 0.4 M words and its embedding"
      ]
    },
    {
      "cell_type": "code",
      "metadata": {
        "colab": {
          "base_uri": "https://localhost:8080/"
        },
        "id": "N7UY0w17ZtjA",
        "outputId": "7a53fdd6-509e-439b-c437-9d2faac4f52d"
      },
      "source": [
        "len(word2idx)"
      ],
      "execution_count": 28,
      "outputs": [
        {
          "output_type": "execute_result",
          "data": {
            "text/plain": [
              "400000"
            ]
          },
          "metadata": {
            "tags": []
          },
          "execution_count": 28
        }
      ]
    },
    {
      "cell_type": "code",
      "metadata": {
        "id": "tAJuXyyNolDH"
      },
      "source": [
        "word2idx = { k : v for k , v in sorted(word2idx.items(), key=operator.itemgetter(1))}"
      ],
      "execution_count": 29,
      "outputs": []
    },
    {
      "cell_type": "markdown",
      "metadata": {
        "id": "QKLY5ijWDvTY"
      },
      "source": [
        "\n",
        "NLP From Scratch: Translation with a Sequence to Sequence Network and Attention\n",
        "*******************************************************************************\n",
        "**Author**: `Sean Robertson <https://github.com/spro/practical-pytorch>`_\n",
        "[PyTorch Source](https://pytorch.org/tutorials/intermediate/seq2seq_translation_tutorial.html)\n",
        "\n",
        "This is the third and final tutorial on doing \"NLP From Scratch\", where we\n",
        "write our own classes and functions to preprocess the data to do our NLP\n",
        "modeling tasks. We hope after you complete this tutorial that you'll proceed to\n",
        "learn how `torchtext` can handle much of this preprocessing for you in the\n",
        "three tutorials immediately following this one.\n",
        "\n",
        "In this project we will be teaching a neural network to translate from\n",
        "French to English.\n",
        "\n",
        "::\n",
        "\n",
        "    [KEY: > input, = target, < output]\n",
        "\n",
        "    > il est en train de peindre un tableau .\n",
        "    = he is painting a picture .\n",
        "    < he is painting a picture .\n",
        "\n",
        "    > pourquoi ne pas essayer ce vin delicieux ?\n",
        "    = why not try that delicious wine ?\n",
        "    < why not try that delicious wine ?\n",
        "\n",
        "    > elle n est pas poete mais romanciere .\n",
        "    = she is not a poet but a novelist .\n",
        "    < she not not a poet but a novelist .\n",
        "\n",
        "    > vous etes trop maigre .\n",
        "    = you re too skinny .\n",
        "    < you re all alone .\n",
        "\n",
        "... to varying degrees of success.\n",
        "\n",
        "This is made possible by the simple but powerful idea of the [sequence to sequence network](https://arxiv.org/abs/1409.3215), in which two\n",
        "recurrent neural networks work together to transform one sequence to\n",
        "another. An encoder network condenses an input sequence into a vector,\n",
        "and a decoder network unfolds that vector into a new sequence.\n",
        "\n",
        ".. figure:: /_static/img/seq-seq-images/seq2seq.png\n",
        "   :alt:\n",
        "\n",
        "To improve upon this model we'll use an [attention\n",
        "mechanism](https://arxiv.org/abs/1409.0473), which lets the decoder\n",
        "learn to focus over a specific range of the input sequence.\n",
        "\n",
        "**Recommended Reading:**\n",
        "\n",
        "I assume you have at least installed PyTorch, know Python, and\n",
        "understand Tensors:\n",
        "\n",
        "-  https://pytorch.org/ For installation instructions\n",
        "-  [Deep Learning with PyTorch](https://pytorch.org/tutorials/beginner/deep_learning_60min_blitz.html): A 60 Minute Blitz to get started with PyTorch in general\n",
        "-  [Learning PyTorch with Examples](https://pytorch.org/tutorials/beginner/pytorch_with_examples.html) for a wide and deep overview\n",
        "\n",
        "\n",
        "It would also be useful to know about Sequence to Sequence networks and\n",
        "how they work:\n",
        "\n",
        "-  [Learning Phrase Representations using RNN Encoder-Decoder for Statistical Machine Translation](https://arxiv.org/abs/1406.1078)\n",
        "-  [Sequence to Sequence Learning with Neural Networks](https://arxiv.org/abs/1409.3215)\n",
        "-  [Neural Machine Translation by Jointly Learning to Align and Translate](https://arxiv.org/abs/1409.0473)\n",
        "-  [A Neural Conversational Model](https://arxiv.org/abs/1506.05869)\n",
        "\n",
        "\n",
        "\n",
        "![Image](https://pytorch.org/tutorials/_images/seq2seq.png)\n",
        "\n",
        "**Requirements**"
      ]
    },
    {
      "cell_type": "markdown",
      "metadata": {
        "id": "bOnvAngbDpi0"
      },
      "source": [
        "Grovey word embedding is only for english language , so a separate class for english language is required. In this class the word2index , word2count and index2word array are initialized with values form grovy dataset. \n",
        "\n",
        "### English Language class"
      ]
    },
    {
      "cell_type": "code",
      "metadata": {
        "id": "BX_HnHuOpmKa"
      },
      "source": [
        "class EnglishLang:\n",
        "    def __init__(self, name):\n",
        "        self.name = name\n",
        "        self.word2index = { k : v for k , v in sorted(word2idx.items(), key=operator.itemgetter(1))}\n",
        "        self.word2count = { word : 1 for word in words }\n",
        "        self.index2word = { i : word for word, i in word2idx.items() }\n",
        "        self.n_words = 400001\n",
        "    def addSentence(self, sentence):\n",
        "        for word in sentence.split(' '):\n",
        "            self.addWord(word)\n",
        "    def addWord(self, word):\n",
        "        if word not in self.word2index:\n",
        "            self.word2index[word] = self.n_words\n",
        "            self.word2count[word] = 1\n",
        "            self.index2word[self.n_words] = word\n",
        "            self.n_words += 1\n",
        "        else:\n",
        "            self.word2count[word] += 1"
      ],
      "execution_count": 31,
      "outputs": []
    },
    {
      "cell_type": "markdown",
      "metadata": {
        "id": "30yEbATJDXCF"
      },
      "source": [
        "Loading data files\n",
        "==================\n",
        "\n",
        "The data for this project is a set of many thousands of English to\n",
        "French translation pairs.\n",
        "\n",
        "[This question on Open Data Stack\n",
        "Exchange](https://opendata.stackexchange.com/questions/3888/dataset-of-sentences-translated-into-many-languages)\n",
        "pointed me/him to the open translation site https://tatoeba.org/ which has\n",
        "downloads available at https://tatoeba.org/eng/downloads - and better\n",
        "yet, someone did the extra work of splitting language pairs into\n",
        "individual text files here: https://www.manythings.org/anki/\n",
        "\n",
        "The English to French pairs are too big to include in the repo, so\n",
        "download to ``data/eng-fra.txt`` before continuing. The file is a tab\n",
        "separated list of translation pairs:\n",
        "\n",
        "::\n",
        "\n",
        "    I am cold.    J'ai froid.\n",
        "\n",
        ".. Note::\n",
        "   Download the data from\n",
        "   `here <https://download.pytorch.org/tutorial/data.zip>`_\n",
        "   and extract it to the current directory.\n",
        "\n"
      ]
    },
    {
      "cell_type": "code",
      "metadata": {
        "colab": {
          "base_uri": "https://localhost:8080/"
        },
        "id": "d_EPl_QFDUSE",
        "outputId": "97be939b-a365-4912-f3eb-e7f9d6addc5a"
      },
      "source": [
        "!wget https://download.pytorch.org/tutorial/data.zip\n",
        "\n",
        "!unzip data.zip"
      ],
      "execution_count": 34,
      "outputs": [
        {
          "output_type": "stream",
          "text": [
            "--2021-07-17 05:46:36--  https://download.pytorch.org/tutorial/data.zip\n",
            "Resolving download.pytorch.org (download.pytorch.org)... 99.86.37.74, 99.86.37.53, 99.86.37.37, ...\n",
            "Connecting to download.pytorch.org (download.pytorch.org)|99.86.37.74|:443... connected.\n",
            "HTTP request sent, awaiting response... 200 OK\n",
            "Length: 2882130 (2.7M) [application/zip]\n",
            "Saving to: ‘data.zip’\n",
            "\n",
            "data.zip            100%[===================>]   2.75M  --.-KB/s    in 0.06s   \n",
            "\n",
            "2021-07-17 05:46:36 (43.5 MB/s) - ‘data.zip’ saved [2882130/2882130]\n",
            "\n",
            "Archive:  data.zip\n",
            "   creating: data/\n",
            "  inflating: data/eng-fra.txt        \n",
            "   creating: data/names/\n",
            "  inflating: data/names/Arabic.txt   \n",
            "  inflating: data/names/Chinese.txt  \n",
            "  inflating: data/names/Czech.txt    \n",
            "  inflating: data/names/Dutch.txt    \n",
            "  inflating: data/names/English.txt  \n",
            "  inflating: data/names/French.txt   \n",
            "  inflating: data/names/German.txt   \n",
            "  inflating: data/names/Greek.txt    \n",
            "  inflating: data/names/Irish.txt    \n",
            "  inflating: data/names/Italian.txt  \n",
            "  inflating: data/names/Japanese.txt  \n",
            "  inflating: data/names/Korean.txt   \n",
            "  inflating: data/names/Polish.txt   \n",
            "  inflating: data/names/Portuguese.txt  \n",
            "  inflating: data/names/Russian.txt  \n",
            "  inflating: data/names/Scottish.txt  \n",
            "  inflating: data/names/Spanish.txt  \n",
            "  inflating: data/names/Vietnamese.txt  \n"
          ],
          "name": "stdout"
        }
      ]
    },
    {
      "cell_type": "markdown",
      "metadata": {
        "id": "xAY3toaqDxXA"
      },
      "source": [
        "Similar to the character encoding used in the character-level RNN\n",
        "tutorials, we will be representing each word in a language as a one-hot\n",
        "vector, or giant vector of zeros except for a single one (at the index\n",
        "of the word). Compared to the dozens of characters that might exist in a\n",
        "language, there are many many more words, so the encoding vector is much\n",
        "larger. We will however cheat a bit and trim the data to only use a few\n",
        "thousand words per language.\n",
        "\n",
        "![image](https://pytorch.org/tutorials/_images/word-encoding.png)\n",
        "\n",
        "We'll need a unique index per word to use as the inputs and targets of\n",
        "the networks later. To keep track of all this we will use a helper class\n",
        "called ``Lang`` which has word → index (``word2index``) and index → word\n",
        "(``index2word``) dictionaries, as well as a count of each word\n",
        "``word2count`` which will be used to replace rare words later.\n",
        "\n",
        "\n",
        "\n",
        "\n",
        "\n",
        "\n"
      ]
    },
    {
      "cell_type": "markdown",
      "metadata": {
        "id": "c3NpJpN_OVvc"
      },
      "source": [
        "A generic language class is required to handle non english sentences.The dataset used in this exercise has sentences in English and French.So the French sentences are processed by this generic langual class.\n",
        "\n",
        "### Generic language class"
      ]
    },
    {
      "cell_type": "code",
      "metadata": {
        "id": "PLdDKLAODduG"
      },
      "source": [
        "SOS_token = 0\n",
        "EOS_token = 1\n",
        "\n",
        "\n",
        "class Lang:\n",
        "    def __init__(self, name):\n",
        "        self.name = name\n",
        "        self.word2index = {}\n",
        "        self.word2count = {}\n",
        "        self.index2word = {0: \"SOS\", 1: \"EOS\"}\n",
        "        self.n_words = 2  # Count SOS and EOS\n",
        "\n",
        "    def addSentence(self, sentence):\n",
        "        for word in sentence.split(' '):\n",
        "            self.addWord(word)\n",
        "\n",
        "    def addWord(self, word):\n",
        "        if word not in self.word2index:\n",
        "            self.word2index[word] = self.n_words\n",
        "            self.word2count[word] = 1\n",
        "            self.index2word[self.n_words] = word\n",
        "            self.n_words += 1\n",
        "        else:\n",
        "            self.word2count[word] += 1"
      ],
      "execution_count": 35,
      "outputs": []
    },
    {
      "cell_type": "markdown",
      "metadata": {
        "id": "tFrQoWJbEOYd"
      },
      "source": [
        "The files are all in Unicode, to simplify we will turn Unicode\n",
        "characters to ASCII, make everything lowercase, and trim most\n",
        "punctuation."
      ]
    },
    {
      "cell_type": "code",
      "metadata": {
        "id": "696X0f6eEMa9"
      },
      "source": [
        "# Turn a Unicode string to plain ASCII, thanks to\n",
        "# https://stackoverflow.com/a/518232/2809427\n",
        "def unicodeToAscii(s):\n",
        "    return ''.join(\n",
        "        c for c in unicodedata.normalize('NFD', s)\n",
        "        if unicodedata.category(c) != 'Mn'\n",
        "    )\n",
        "\n",
        "# Lowercase, trim, and remove non-letter characters\n",
        "\n",
        "\n",
        "def normalizeString(s):\n",
        "    s = unicodeToAscii(s.lower().strip())\n",
        "    s = re.sub(r\"([.!?])\", r\" \\1\", s)\n",
        "    s = re.sub(r\"[^a-zA-Z.!?]+\", r\" \", s)\n",
        "    return s"
      ],
      "execution_count": 36,
      "outputs": []
    },
    {
      "cell_type": "markdown",
      "metadata": {
        "id": "AVorNRFCETgM"
      },
      "source": [
        "To read the data file we will split the file into lines, and then split\n",
        "lines into pairs. The files are all English → Other Language, so if we\n",
        "want to translate from Other Language → English I added the ``reverse``\n",
        "flag to reverse the pairs.\n",
        "\n",
        "\n"
      ]
    },
    {
      "cell_type": "markdown",
      "metadata": {
        "id": "7Vcf76qWP0Lq"
      },
      "source": [
        "So if the *reverse* flag is true , then \n",
        "\n",
        "* input language is French\n",
        "\n",
        "* output language is English"
      ]
    },
    {
      "cell_type": "code",
      "metadata": {
        "id": "eD5V5PPHERbk"
      },
      "source": [
        "def readLangs(lang1, lang2, reverse=False):\n",
        "    print(\"Reading lines...\")\n",
        "\n",
        "    # Read the file and split into lines\n",
        "    lines = open('data/%s-%s.txt' % (lang1, lang2), encoding='utf-8').\\\n",
        "        read().strip().split('\\n')\n",
        "\n",
        "    # Split every line into pairs and normalize\n",
        "    pairs = [[normalizeString(s) for s in l.split('\\t')] for l in lines]\n",
        "\n",
        "    # Reverse pairs, make Lang instances\n",
        "    if reverse:\n",
        "        pairs = [list(reversed(p)) for p in pairs]\n",
        "        input_lang = Lang(lang2)\n",
        "        output_lang = EnglishLang(lang1)\n",
        "    else:\n",
        "        input_lang = EnglishLang(lang1)\n",
        "        output_lang = Lang(lang2)\n",
        "\n",
        "    return input_lang, output_lang, pairs"
      ],
      "execution_count": 37,
      "outputs": []
    },
    {
      "cell_type": "markdown",
      "metadata": {
        "id": "ZjaZPWj-Ed1p"
      },
      "source": [
        "Since there are a *lot* of example sentences and we want to train\n",
        "something quickly, we'll trim the data set to only relatively short and\n",
        "simple sentences. Here the maximum length is 10 words (that includes\n",
        "ending punctuation) and we're filtering to sentences that translate to\n",
        "the form \"I am\" or \"He is\" etc. (accounting for apostrophes replaced\n",
        "earlier).\n",
        "\n",
        "\n"
      ]
    },
    {
      "cell_type": "markdown",
      "metadata": {
        "id": "rjtHfHtOqUis"
      },
      "source": [
        "### Initialize constants"
      ]
    },
    {
      "cell_type": "code",
      "metadata": {
        "id": "uXqsLgUpqC__"
      },
      "source": [
        "MAX_LENGTH = 10\n",
        "LANG1 = 'eng'\n",
        "LANG2 = 'fra'\n",
        "REVERSE_LANG = True"
      ],
      "execution_count": 38,
      "outputs": []
    },
    {
      "cell_type": "code",
      "metadata": {
        "id": "fpLh4takEcl9"
      },
      "source": [
        "\n",
        "\n",
        "eng_prefixes = (\n",
        "    \"i am \", \"i m \",\n",
        "    \"he is\", \"he s \",\n",
        "    \"she is\", \"she s \",\n",
        "    \"you are\", \"you re \",\n",
        "    \"we are\", \"we re \",\n",
        "    \"they are\", \"they re \"\n",
        ")\n",
        "\n",
        "\n",
        "def filterPair(p):\n",
        "    return len(p[0].split(' ')) < MAX_LENGTH and \\\n",
        "        len(p[1].split(' ')) < MAX_LENGTH and \\\n",
        "        p[1].startswith(eng_prefixes)\n",
        "\n",
        "\n",
        "def filterPairs(pairs):\n",
        "    return [pair for pair in pairs if filterPair(pair)]"
      ],
      "execution_count": 39,
      "outputs": []
    },
    {
      "cell_type": "markdown",
      "metadata": {
        "id": "QQpC4FE3EsXQ"
      },
      "source": [
        "The full process for preparing the data is:\n",
        "\n",
        "-  Read text file and split into lines, split lines into pairs\n",
        "-  Normalize text, filter by length and content\n",
        "-  Make word lists from sentences in pairs\n",
        "\n",
        "In this case the input language is French and output language is English\n"
      ]
    },
    {
      "cell_type": "code",
      "metadata": {
        "colab": {
          "base_uri": "https://localhost:8080/"
        },
        "id": "HQl0eg8BH9BS",
        "outputId": "959fdcfd-eee3-4a66-dfed-5c1f185d71fc"
      },
      "source": [
        "def prepareData(lang1, lang2, reverse=False):\n",
        "    input_lang, output_lang, pairs = readLangs(lang1, lang2, reverse)\n",
        "    print(\"Read %s sentence pairs\" % len(pairs))\n",
        "    pairs = filterPairs(pairs)\n",
        "    print(\"Trimmed to %s sentence pairs\" % len(pairs))\n",
        "    print(\"Counting words...\")\n",
        "    for pair in pairs:\n",
        "        input_lang.addSentence(pair[0])\n",
        "        output_lang.addSentence(pair[1])\n",
        "    print(\"Counted words:\")\n",
        "    print(input_lang.name, input_lang.n_words)\n",
        "    print(output_lang.name, output_lang.n_words)\n",
        "    return input_lang, output_lang, pairs\n",
        "\n",
        "\n",
        "input_lang, output_lang, pairs = prepareData(LANG1, LANG2, REVERSE_LANG)\n",
        "print(random.choice(pairs))"
      ],
      "execution_count": 40,
      "outputs": [
        {
          "output_type": "stream",
          "text": [
            "Reading lines...\n",
            "Read 135842 sentence pairs\n",
            "Trimmed to 10599 sentence pairs\n",
            "Counting words...\n",
            "Counted words:\n",
            "fra 4345\n",
            "eng 400005\n",
            "['tu es un grand maintenant .', 'you re grown up now .']\n"
          ],
          "name": "stdout"
        }
      ]
    },
    {
      "cell_type": "markdown",
      "metadata": {
        "id": "sklKeEAZEw9A"
      },
      "source": [
        "The Seq2Seq Model\n",
        "=================\n",
        "\n",
        "A Recurrent Neural Network, or RNN, is a network that operates on a\n",
        "sequence and uses its own output as input for subsequent steps.\n",
        "\n",
        "A [Sequence to Sequence network](https://arxiv.org/abs/1409.3215), or\n",
        "seq2seq network, or [Encoder Decoder\n",
        "network](https://arxiv.org/pdf/1406.1078v3.pdf), is a model\n",
        "consisting of two RNNs called the encoder and decoder. The encoder reads\n",
        "an input sequence and outputs a single vector, and the decoder reads\n",
        "that vector to produce an output sequence.\n",
        "\n",
        "![image](https://pytorch.org/tutorials/_images/seq2seq.png)\n",
        "\n",
        "Unlike sequence prediction with a single RNN, where every input\n",
        "corresponds to an output, the seq2seq model frees us from sequence\n",
        "length and order, which makes it ideal for translation between two\n",
        "languages.\n",
        "\n",
        "Consider the sentence \"Je ne suis pas le chat noir\" → \"I am not the\n",
        "black cat\". Most of the words in the input sentence have a direct\n",
        "translation in the output sentence, but are in slightly different\n",
        "orders, e.g. \"chat noir\" and \"black cat\". Because of the \"ne/pas\"\n",
        "construction there is also one more word in the input sentence. It would\n",
        "be difficult to produce a correct translation directly from the sequence\n",
        "of input words.\n",
        "\n",
        "With a seq2seq model the encoder creates a single vector which, in the\n",
        "ideal case, encodes the \"meaning\" of the input sequence into a single\n",
        "vector — a single point in some N dimensional space of sentences.\n",
        "\n",
        "\n"
      ]
    },
    {
      "cell_type": "markdown",
      "metadata": {
        "id": "BJZ7qgeoGH25"
      },
      "source": [
        "The Encoder\n",
        "-----------\n",
        "\n",
        "The encoder of a seq2seq network is a RNN that outputs some value for\n",
        "every word from the input sentence. For every input word the encoder\n",
        "outputs a vector and a hidden state, and uses the hidden state for the\n",
        "next input word.\n",
        "\n",
        "![image](https://pytorch.org/tutorials/_images/encoder-network.png)"
      ]
    },
    {
      "cell_type": "code",
      "metadata": {
        "id": "hUFStkIuEqo7"
      },
      "source": [
        "class EncoderRNN(nn.Module):\n",
        "    def __init__(self, input_size, hidden_size):\n",
        "        super(EncoderRNN, self).__init__()\n",
        "        self.hidden_size = hidden_size\n",
        "\n",
        "        self.embedding = nn.Embedding(input_size, hidden_size)\n",
        "        self.gru = nn.GRU(hidden_size, hidden_size)\n",
        "\n",
        "    def forward(self, input, hidden):\n",
        "        embedded = self.embedding(input).view(1, 1, -1)\n",
        "        output = embedded\n",
        "        output, hidden = self.gru(output, hidden)\n",
        "        return output, hidden\n",
        "\n",
        "    def initHidden(self):\n",
        "        return torch.zeros(1, 1, self.hidden_size, device=device)"
      ],
      "execution_count": 41,
      "outputs": []
    },
    {
      "cell_type": "markdown",
      "metadata": {
        "id": "4WzcqRwLGR_c"
      },
      "source": [
        "#Simple Decoder\n",
        "\n",
        "In the simplest seq2seq decoder we use only last output of the encoder.\n",
        "This last output is sometimes called the *context vector* as it encodes\n",
        "context from the entire sequence. This context vector is used as the\n",
        "initial hidden state of the decoder.\n",
        "\n",
        "At every step of decoding, the decoder is given an input token and\n",
        "hidden state. The initial input token is the start-of-string ``<SOS>``\n",
        "token, and the first hidden state is the context vector (the encoder's\n",
        "last hidden state).\n",
        "\n",
        "![image](https://pytorch.org/tutorials/_images/decoder-network.png)\n",
        "\n",
        "\n",
        "\n"
      ]
    },
    {
      "cell_type": "code",
      "metadata": {
        "id": "aTpja5ExGQR_"
      },
      "source": [
        "class DecoderRNN(nn.Module):\n",
        "    def __init__(self, hidden_size, output_size):\n",
        "        super(DecoderRNN, self).__init__()\n",
        "        self.hidden_size = hidden_size\n",
        "\n",
        "        self.embedding = nn.Embedding(output_size, hidden_size)\n",
        "        self.gru = nn.GRU(hidden_size, hidden_size)\n",
        "        self.out = nn.Linear(hidden_size, output_size)\n",
        "        self.softmax = nn.LogSoftmax(dim=1)\n",
        "\n",
        "    def forward(self, input, hidden):\n",
        "        output = self.embedding(input).view(1, 1, -1)\n",
        "        output = F.relu(output)\n",
        "        output, hidden = self.gru(output, hidden)\n",
        "        output = self.softmax(self.out(output[0]))\n",
        "        return output, hidden\n",
        "\n",
        "    def initHidden(self):\n",
        "        return torch.zeros(1, 1, self.hidden_size, device=device)"
      ],
      "execution_count": 42,
      "outputs": []
    },
    {
      "cell_type": "markdown",
      "metadata": {
        "id": "iGMxRg_-Ga5T"
      },
      "source": [
        "# Attention Decoder\n",
        "\n",
        "If only the context vector is passed between the encoder and decoder,\n",
        "that single vector carries the burden of encoding the entire sentence.\n",
        "\n",
        "Attention allows the decoder network to \"focus\" on a different part of\n",
        "the encoder's outputs for every step of the decoder's own outputs. First\n",
        "we calculate a set of *attention weights*. These will be multiplied by\n",
        "the encoder output vectors to create a weighted combination. The result\n",
        "(called ``attn_applied`` in the code) should contain information about\n",
        "that specific part of the input sequence, and thus help the decoder\n",
        "choose the right output words.\n",
        "\n",
        "![image](https://i.imgur.com/1152PYf.png)\n",
        "\n",
        "Calculating the attention weights is done with another feed-forward\n",
        "layer ``attn``, using the decoder's input and hidden state as inputs.\n",
        "Because there are sentences of all sizes in the training data, to\n",
        "actually create and train this layer we have to choose a maximum\n",
        "sentence length (input length, for encoder outputs) that it can apply\n",
        "to. Sentences of the maximum length will use all the attention weights,\n",
        "while shorter sentences will only use the first few.\n",
        "\n",
        "![image](https://pytorch.org/tutorials/_images/attention-decoder-network.png)\n",
        "\n",
        "\n",
        "\n"
      ]
    },
    {
      "cell_type": "code",
      "metadata": {
        "id": "yTgpqalYGaOR"
      },
      "source": [
        "class AttnDecoderRNN(nn.Module):\n",
        "    def __init__(self, hidden_size, output_size, dropout_p=0.1, max_length=MAX_LENGTH):\n",
        "        super(AttnDecoderRNN, self).__init__()\n",
        "        self.hidden_size = hidden_size\n",
        "        self.output_size = output_size\n",
        "        self.dropout_p = dropout_p\n",
        "        self.max_length = max_length\n",
        "\n",
        "        self.embedding = nn.Embedding(self.output_size, self.hidden_size)\n",
        "        self.attn = nn.Linear(self.hidden_size * 2, self.max_length)\n",
        "        self.attn_combine = nn.Linear(self.hidden_size * 2, self.hidden_size)\n",
        "        self.dropout = nn.Dropout(self.dropout_p)\n",
        "        self.gru = nn.GRU(self.hidden_size, self.hidden_size)\n",
        "        self.out = nn.Linear(self.hidden_size, self.output_size)\n",
        "\n",
        "    def forward(self, input, hidden, encoder_outputs):\n",
        "        embedded = self.embedding(input).view(1, 1, -1)\n",
        "        embedded = self.dropout(embedded)\n",
        "\n",
        "        attn_weights = F.softmax(\n",
        "            self.attn(torch.cat((embedded[0], hidden[0]), 1)), dim=1)\n",
        "        attn_applied = torch.bmm(attn_weights.unsqueeze(0),\n",
        "                                 encoder_outputs.unsqueeze(0))\n",
        "\n",
        "        output = torch.cat((embedded[0], attn_applied[0]), 1)\n",
        "        output = self.attn_combine(output).unsqueeze(0)\n",
        "\n",
        "        output = F.relu(output)\n",
        "        output, hidden = self.gru(output, hidden)\n",
        "\n",
        "        output = F.log_softmax(self.out(output[0]), dim=1)\n",
        "        return output, hidden, attn_weights\n",
        "\n",
        "    def initHidden(self):\n",
        "        return torch.zeros(1, 1, self.hidden_size, device=device)"
      ],
      "execution_count": 43,
      "outputs": []
    },
    {
      "cell_type": "markdown",
      "metadata": {
        "id": "9Xa7siQKGqQE"
      },
      "source": [
        "<div class=\"alert alert-info\"><h4>Note</h4><p>There are other forms of attention that work around the length\n",
        "  limitation by using a relative position approach. Read about \"local\n",
        "  attention\" in `Effective Approaches to Attention-based Neural Machine\n",
        "  Translation <https://arxiv.org/abs/1508.04025>`__.</p></div>\n",
        "\n",
        "Training\n",
        "========\n",
        "\n",
        "Preparing Training Data\n",
        "-----------------------\n",
        "\n",
        "To train, for each pair we will need an input tensor (indexes of the\n",
        "words in the input sentence) and target tensor (indexes of the words in\n",
        "the target sentence). While creating these vectors we will append the\n",
        "EOS token to both sequences.\n",
        "\n",
        "\n"
      ]
    },
    {
      "cell_type": "code",
      "metadata": {
        "id": "-mj3FhJBGoS_"
      },
      "source": [
        "def indexesFromSentence(lang, sentence):\n",
        "    return [lang.word2index[word] for word in sentence.split(' ')]\n",
        "\n",
        "\n",
        "def tensorFromSentence(lang, sentence):\n",
        "    indexes = indexesFromSentence(lang, sentence)\n",
        "    indexes.append(EOS_token)\n",
        "    return torch.tensor(indexes, dtype=torch.long, device=device).view(-1, 1)\n",
        "\n",
        "\n",
        "def tensorsFromPair(pair):\n",
        "    input_tensor = tensorFromSentence(input_lang, pair[0])\n",
        "    target_tensor = tensorFromSentence(output_lang, pair[1])\n",
        "    return (input_tensor, target_tensor)"
      ],
      "execution_count": 44,
      "outputs": []
    },
    {
      "cell_type": "markdown",
      "metadata": {
        "id": "1rtejHTjG5Ia"
      },
      "source": [
        "Training the Model\n",
        "------------------\n",
        "\n",
        "To train we run the input sentence through the encoder, and keep track\n",
        "of every output and the latest hidden state. Then the decoder is given\n",
        "the ``<SOS>`` token as its first input, and the last hidden state of the\n",
        "encoder as its first hidden state.\n",
        "\n",
        "\"Teacher forcing\" is the concept of using the real target outputs as\n",
        "each next input, instead of using the decoder's guess as the next input.\n",
        "Using teacher forcing causes it to converge faster but [when the trained network is exploited, it may exhibit instability](http://citeseerx.ist.psu.edu/viewdoc/download?doi=10.1.1.378.4095&rep=rep1&type=pdf).\n",
        "\n",
        "You can observe outputs of teacher-forced networks that read with\n",
        "coherent grammar but wander far from the correct translation -\n",
        "intuitively it has learned to represent the output grammar and can \"pick\n",
        "up\" the meaning once the teacher tells it the first few words, but it\n",
        "has not properly learned how to create the sentence from the translation\n",
        "in the first place.\n",
        "\n",
        "Because of the freedom PyTorch's autograd gives us, we can randomly\n",
        "choose to use teacher forcing or not with a simple if statement. Turn\n",
        "``teacher_forcing_ratio`` up to use more of it.\n",
        "\n",
        "\n"
      ]
    },
    {
      "cell_type": "code",
      "metadata": {
        "id": "xWVqaIu-Gt3b"
      },
      "source": [
        "teacher_forcing_ratio = 0.5\n",
        "\n",
        "\n",
        "def train(input_tensor, target_tensor, encoder, decoder, encoder_optimizer, decoder_optimizer, criterion, max_length=MAX_LENGTH):\n",
        "    encoder_hidden = encoder.initHidden()\n",
        "\n",
        "    encoder_optimizer.zero_grad()\n",
        "    decoder_optimizer.zero_grad()\n",
        "\n",
        "    input_length = input_tensor.size(0)\n",
        "    target_length = target_tensor.size(0)\n",
        "\n",
        "    encoder_outputs = torch.zeros(max_length, encoder.hidden_size, device=device)\n",
        "\n",
        "    loss = 0\n",
        "\n",
        "    for ei in range(input_length):\n",
        "        encoder_output, encoder_hidden = encoder(\n",
        "            input_tensor[ei], encoder_hidden)\n",
        "        encoder_outputs[ei] = encoder_output[0, 0]\n",
        "\n",
        "    decoder_input = torch.tensor([[SOS_token]], device=device)\n",
        "\n",
        "    decoder_hidden = encoder_hidden\n",
        "\n",
        "    use_teacher_forcing = True if random.random() < teacher_forcing_ratio else False\n",
        "\n",
        "    if use_teacher_forcing:\n",
        "        # Teacher forcing: Feed the target as the next input\n",
        "        for di in range(target_length):\n",
        "            decoder_output, decoder_hidden, decoder_attention = decoder(\n",
        "                decoder_input, decoder_hidden, encoder_outputs)\n",
        "            loss += criterion(decoder_output, target_tensor[di])\n",
        "            decoder_input = target_tensor[di]  # Teacher forcing\n",
        "\n",
        "    else:\n",
        "        # Without teacher forcing: use its own predictions as the next input\n",
        "        for di in range(target_length):\n",
        "            decoder_output, decoder_hidden, decoder_attention = decoder(\n",
        "                decoder_input, decoder_hidden, encoder_outputs)\n",
        "            topv, topi = decoder_output.topk(1)\n",
        "            decoder_input = topi.squeeze().detach()  # detach from history as input\n",
        "\n",
        "            loss += criterion(decoder_output, target_tensor[di])\n",
        "            if decoder_input.item() == EOS_token:\n",
        "                break\n",
        "\n",
        "    loss.backward()\n",
        "\n",
        "    encoder_optimizer.step()\n",
        "    decoder_optimizer.step()\n",
        "\n",
        "    return loss.item() / target_length"
      ],
      "execution_count": 45,
      "outputs": []
    },
    {
      "cell_type": "markdown",
      "metadata": {
        "id": "5OQi5ocOHDuv"
      },
      "source": [
        "import time\n",
        "import math\n",
        "\n",
        "\n",
        "def asMinutes(s):\n",
        "    m = math.floor(s / 60)\n",
        "    s -= m * 60\n",
        "    return '%dm %ds' % (m, s)\n",
        "\n",
        "\n",
        "def timeSince(since, percent):\n",
        "    now = time.time()\n",
        "    s = now - since\n",
        "    es = s / (percent)\n",
        "    rs = es - s\n",
        "    return '%s (- %s)' % (asMinutes(s), asMinutes(rs))\n",
        "\n"
      ]
    },
    {
      "cell_type": "code",
      "metadata": {
        "id": "0A3z6eQtG3rv"
      },
      "source": [
        "import time\n",
        "import math\n",
        "\n",
        "\n",
        "def asMinutes(s):\n",
        "    m = math.floor(s / 60)\n",
        "    s -= m * 60\n",
        "    return '%dm %ds' % (m, s)\n",
        "\n",
        "\n",
        "def timeSince(since, percent):\n",
        "    now = time.time()\n",
        "    s = now - since\n",
        "    es = s / (percent)\n",
        "    rs = es - s\n",
        "    return '%s (- %s)' % (asMinutes(s), asMinutes(rs))"
      ],
      "execution_count": 46,
      "outputs": []
    },
    {
      "cell_type": "markdown",
      "metadata": {
        "id": "po1iCyBTHHIG"
      },
      "source": [
        "The whole training process looks like this:\n",
        "\n",
        "-  Start a timer\n",
        "-  Initialize optimizers and criterion\n",
        "-  Create set of training pairs\n",
        "-  Start empty losses array for plotting\n",
        "\n",
        "Then we call ``train`` many times and occasionally print the progress (%\n",
        "of examples, time so far, estimated time) and average loss.\n",
        "\n",
        "\n"
      ]
    },
    {
      "cell_type": "code",
      "metadata": {
        "id": "_Gf1aSD1HFx_"
      },
      "source": [
        "def trainIters(encoder, decoder, n_iters, print_every=1000, plot_every=100, learning_rate=0.01):\n",
        "    start = time.time()\n",
        "    plot_losses = []\n",
        "    print_loss_total = 0  # Reset every print_every\n",
        "    plot_loss_total = 0  # Reset every plot_every\n",
        "\n",
        "    encoder_optimizer = optim.SGD(encoder.parameters(), lr=learning_rate)\n",
        "    decoder_optimizer = optim.SGD(decoder.parameters(), lr=learning_rate)\n",
        "    training_pairs = [tensorsFromPair(random.choice(pairs))\n",
        "                      for i in range(n_iters)]\n",
        "    criterion = nn.NLLLoss()\n",
        "\n",
        "    for iter in range(1, n_iters + 1):\n",
        "        training_pair = training_pairs[iter - 1]\n",
        "        input_tensor = training_pair[0]\n",
        "        target_tensor = training_pair[1]\n",
        "\n",
        "        loss = train(input_tensor, target_tensor, encoder,\n",
        "                     decoder, encoder_optimizer, decoder_optimizer, criterion)\n",
        "        print_loss_total += loss\n",
        "        plot_loss_total += loss\n",
        "\n",
        "        if iter % print_every == 0:\n",
        "            print_loss_avg = print_loss_total / print_every\n",
        "            print_loss_total = 0\n",
        "            print('%s (%d %d%%) %.4f' % (timeSince(start, iter / n_iters),\n",
        "                                         iter, iter / n_iters * 100, print_loss_avg))\n",
        "\n",
        "        if iter % plot_every == 0:\n",
        "            plot_loss_avg = plot_loss_total / plot_every\n",
        "            plot_losses.append(plot_loss_avg)\n",
        "            plot_loss_total = 0\n",
        "\n",
        "    showPlot(plot_losses)"
      ],
      "execution_count": 47,
      "outputs": []
    },
    {
      "cell_type": "markdown",
      "metadata": {
        "id": "SxLPtvy-HJv8"
      },
      "source": [
        "Plotting results\n",
        "----------------\n",
        "\n",
        "Plotting is done with matplotlib, using the array of loss values\n",
        "``plot_losses`` saved while training.\n",
        "\n",
        "\n"
      ]
    },
    {
      "cell_type": "code",
      "metadata": {
        "id": "kErPEK3PHIjD"
      },
      "source": [
        "import matplotlib.pyplot as plt\n",
        "plt.switch_backend('agg')\n",
        "import matplotlib.ticker as ticker\n",
        "import numpy as np\n",
        "\n",
        "\n",
        "def showPlot(points):\n",
        "    plt.figure()\n",
        "    fig, ax = plt.subplots()\n",
        "    # this locator puts ticks at regular intervals\n",
        "    loc = ticker.MultipleLocator(base=0.2)\n",
        "    ax.yaxis.set_major_locator(loc)\n",
        "    plt.plot(points)"
      ],
      "execution_count": 48,
      "outputs": []
    },
    {
      "cell_type": "markdown",
      "metadata": {
        "id": "8BWg0QVLHMnS"
      },
      "source": [
        "Evaluation\n",
        "==========\n",
        "\n",
        "Evaluation is mostly the same as training, but there are no targets so\n",
        "we simply feed the decoder's predictions back to itself for each step.\n",
        "Every time it predicts a word we add it to the output string, and if it\n",
        "predicts the EOS token we stop there. We also store the decoder's\n",
        "attention outputs for display later.\n",
        "\n",
        "\n"
      ]
    },
    {
      "cell_type": "code",
      "metadata": {
        "id": "cbjgrd4yHLMS"
      },
      "source": [
        "def evaluate(encoder, decoder, sentence, max_length=MAX_LENGTH):\n",
        "    with torch.no_grad():\n",
        "        input_tensor = tensorFromSentence(input_lang, sentence)\n",
        "        input_length = input_tensor.size()[0]\n",
        "        encoder_hidden = encoder.initHidden()\n",
        "\n",
        "        encoder_outputs = torch.zeros(max_length, encoder.hidden_size, device=device)\n",
        "\n",
        "        for ei in range(input_length):\n",
        "            encoder_output, encoder_hidden = encoder(input_tensor[ei],\n",
        "                                                     encoder_hidden)\n",
        "            encoder_outputs[ei] += encoder_output[0, 0]\n",
        "\n",
        "        decoder_input = torch.tensor([[SOS_token]], device=device)  # SOS\n",
        "\n",
        "        decoder_hidden = encoder_hidden\n",
        "\n",
        "        decoded_words = []\n",
        "        decoder_attentions = torch.zeros(max_length, max_length)\n",
        "\n",
        "        for di in range(max_length):\n",
        "            decoder_output, decoder_hidden, decoder_attention = decoder(\n",
        "                decoder_input, decoder_hidden, encoder_outputs)\n",
        "            decoder_attentions[di] = decoder_attention.data\n",
        "            topv, topi = decoder_output.data.topk(1)\n",
        "            if topi.item() == EOS_token:\n",
        "                decoded_words.append('<EOS>')\n",
        "                break\n",
        "            else:\n",
        "                decoded_words.append(output_lang.index2word[topi.item()])\n",
        "\n",
        "            decoder_input = topi.squeeze().detach()\n",
        "\n",
        "        return decoded_words, decoder_attentions[:di + 1]"
      ],
      "execution_count": 49,
      "outputs": []
    },
    {
      "cell_type": "markdown",
      "metadata": {
        "id": "tEDyINR3HP8X"
      },
      "source": [
        "We can evaluate random sentences from the training set and print out the\n",
        "input, target, and output to make some subjective quality judgements:\n",
        "\n",
        "\n"
      ]
    },
    {
      "cell_type": "code",
      "metadata": {
        "id": "41NOzzmRHOfs"
      },
      "source": [
        "def evaluateRandomly(encoder, decoder, n=10):\n",
        "    for i in range(n):\n",
        "        pair = random.choice(pairs)\n",
        "        print('>', pair[0])\n",
        "        print('=', pair[1])\n",
        "        output_words, attentions = evaluate(encoder, decoder, pair[0])\n",
        "        output_sentence = ' '.join(output_words)\n",
        "        print('<', output_sentence)\n",
        "        print('')"
      ],
      "execution_count": 50,
      "outputs": []
    },
    {
      "cell_type": "markdown",
      "metadata": {
        "id": "-I3YLTtFHSkq"
      },
      "source": [
        "Training and Evaluating\n",
        "=======================\n",
        "\n",
        "With all these helper functions in place (it looks like extra work, but\n",
        "it makes it easier to run multiple experiments) we can actually\n",
        "initialize a network and start training.\n",
        "\n",
        "Remember that the input sentences were heavily filtered. For this small\n",
        "dataset we can use relatively small networks of 256 hidden nodes and a\n",
        "single GRU layer. After about 40 minutes on a MacBook CPU we'll get some\n",
        "reasonable results.\n",
        "\n",
        ".. Note::\n",
        "   If you run this notebook you can train, interrupt the kernel,\n",
        "   evaluate, and continue training later. Comment out the lines where the\n",
        "   encoder and decoder are initialized and run ``trainIters`` again.\n",
        "\n",
        "\n"
      ]
    },
    {
      "cell_type": "markdown",
      "metadata": {
        "id": "r2sDLoufxk6H"
      },
      "source": [
        "### create instance of encoder and decoder"
      ]
    },
    {
      "cell_type": "code",
      "metadata": {
        "id": "v-45b8_lHRiK"
      },
      "source": [
        "hidden_size = 300 \n",
        "encoder1 = EncoderRNN(input_lang.n_words, hidden_size).to(device)\n",
        "attn_decoder1 = AttnDecoderRNN(hidden_size, output_lang.n_words, dropout_p=0.1).to(device)\n",
        "\n"
      ],
      "execution_count": 51,
      "outputs": []
    },
    {
      "cell_type": "markdown",
      "metadata": {
        "id": "k1SrRe5FQSbM"
      },
      "source": [
        "Word embeddings are pre-populated with weights from the groovy dataset for English sentences.This will help in training faster , as the weights are already calculated.\n",
        "\n",
        "A case arises here , \n",
        "\n",
        "* if the REVERSE_LANG flag is true , then the weights for output language has to be initialized\n",
        "\n",
        "* else weights for input language has to be initialized"
      ]
    },
    {
      "cell_type": "code",
      "metadata": {
        "id": "FHORaQ-TtpE9"
      },
      "source": [
        "def initialize_weights(lang):\n",
        "\n",
        "  matrix_len = lang.n_words\n",
        "  weights_matrix = np.zeros((matrix_len, EMBEDDING_DIM))\n",
        "  words_found = 0\n",
        "  for i, word in enumerate(lang.word2index):\n",
        "      try: \n",
        "          weights_matrix[i] = glove[word]\n",
        "          words_found += 1\n",
        "      except KeyError:\n",
        "          weights_matrix[i] = np.random.normal(scale=0.6, size=(EMBEDDING_DIM, ))\n",
        "\n",
        "\n",
        "  return weights_matrix\n",
        "\n",
        "\n",
        "if REVERSE_LANG:\n",
        "  embedding_weights_matrix = initialize_weights(output_lang)\n",
        "else:\n",
        "  embedding_weights_matrix = initialize_weights(input_lang)"
      ],
      "execution_count": 52,
      "outputs": []
    },
    {
      "cell_type": "markdown",
      "metadata": {
        "id": "sHrlIgEcR47g"
      },
      "source": [
        "accordingly \n",
        "\n",
        "* if the REVERSE_LANG flag is true , then the attention decoder embedding weights has to be initialized\n",
        "\n",
        "* else weights for encoder has to be initialized"
      ]
    },
    {
      "cell_type": "code",
      "metadata": {
        "id": "LUCbhAxMts4z"
      },
      "source": [
        "if REVERSE_LANG:\n",
        "  attn_decoder1.embedding.weight.data.copy_(torch.from_numpy(embedding_weights_matrix))\n",
        "else :\n",
        "  encoder1.embedding.weight.data.copy_(torch.from_numpy(embedding_weights_matrix))"
      ],
      "execution_count": 54,
      "outputs": []
    },
    {
      "cell_type": "markdown",
      "metadata": {
        "id": "V0pZeoa_SXJF"
      },
      "source": [
        "also\n",
        "\n",
        "* if the REVERSE_LANG flag is true , then the .embedding.weight.requires_grad flag can be set to false for the **attention decoder embedding layer**. This will skip backpropagation for embedding layer, which in turn will make the model process faster.\n",
        "\n",
        "* else .embedding.weight.requires_grad flag can be set to false for the **encoder embedding layer**."
      ]
    },
    {
      "cell_type": "code",
      "metadata": {
        "id": "v7jq6BFgts1a"
      },
      "source": [
        "if REVERSE_LANG:\n",
        "  attn_decoder1.embedding.weight.requires_grad = unfrozen = False\n",
        "else :\n",
        "  encoder1.embedding.weight.requires_grad = unfrozen = False"
      ],
      "execution_count": 55,
      "outputs": []
    },
    {
      "cell_type": "code",
      "metadata": {
        "colab": {
          "base_uri": "https://localhost:8080/"
        },
        "id": "dnEqa5-etsxk",
        "outputId": "4a507417-2cda-43ef-f51e-6d33a2ba6340"
      },
      "source": [
        "trainIters(encoder1, attn_decoder1, 75000, print_every=5000)"
      ],
      "execution_count": 56,
      "outputs": [
        {
          "output_type": "stream",
          "text": [
            "5m 2s (- 70m 28s) (5000 6%) 3.5390\n",
            "10m 7s (- 65m 47s) (10000 13%) 2.6173\n",
            "15m 13s (- 60m 54s) (15000 20%) 2.2009\n",
            "20m 20s (- 55m 57s) (20000 26%) 1.8947\n",
            "25m 29s (- 50m 58s) (25000 33%) 1.6736\n",
            "30m 37s (- 45m 56s) (30000 40%) 1.4324\n",
            "35m 49s (- 40m 56s) (35000 46%) 1.2794\n",
            "40m 59s (- 35m 51s) (40000 53%) 1.0828\n",
            "46m 9s (- 30m 46s) (45000 60%) 0.9577\n",
            "51m 21s (- 25m 40s) (50000 66%) 0.8736\n",
            "56m 33s (- 20m 33s) (55000 73%) 0.7881\n",
            "61m 45s (- 15m 26s) (60000 80%) 0.7013\n",
            "66m 57s (- 10m 18s) (65000 86%) 0.6301\n",
            "72m 10s (- 5m 9s) (70000 93%) 0.5606\n",
            "77m 23s (- 0m 0s) (75000 100%) 0.4985\n"
          ],
          "name": "stdout"
        }
      ]
    },
    {
      "cell_type": "markdown",
      "metadata": {
        "id": "ZZY9Gcs0TRrv"
      },
      "source": [
        "The model performance improved compared to the earlier model. \n",
        "\n",
        "performance without pre-trained word embeddings\n",
        "\n",
        "## 23m 42s (- 0m 0s) (75000 100%) 0.6437\n",
        "\n",
        "## **performance with pre-trained word embeddings**\n",
        "\n",
        "# 77m 23s (- 0m 0s) (75000 100%) 0.4985\n",
        "\n",
        "\n"
      ]
    },
    {
      "cell_type": "code",
      "metadata": {
        "colab": {
          "base_uri": "https://localhost:8080/"
        },
        "id": "e_rlcrR1Iqld",
        "outputId": "4223b809-251d-4f3c-bbbe-14b49119a1f1"
      },
      "source": [
        "evaluateRandomly(encoder1, attn_decoder1)"
      ],
      "execution_count": 57,
      "outputs": [
        {
          "output_type": "stream",
          "text": [
            "> elles sont toutes la dedans .\n",
            "= they re all in there .\n",
            "< they re all in . . <EOS>\n",
            "\n",
            "> je suis interesse par la ceramique orientale .\n",
            "= i m interested in oriental pottery .\n",
            "< i m interested in oriental pottery . <EOS>\n",
            "\n",
            "> il n est plus le bienvenu ici .\n",
            "= he is no longer welcome here .\n",
            "< he is no longer welcome here . <EOS>\n",
            "\n",
            "> vous etes idiot .\n",
            "= you re being silly .\n",
            "< you re silly . <EOS>\n",
            "\n",
            "> elles ne vont pas revenir .\n",
            "= they re not coming back .\n",
            "< they re not coming back . <EOS>\n",
            "\n",
            "> ils ne sont pas mauvais .\n",
            "= they re not evil .\n",
            "< they re not evil . <EOS>\n",
            "\n",
            "> vous etes tres gentil tom .\n",
            "= you re very kind tom .\n",
            "< you re very kind tom . <EOS>\n",
            "\n",
            "> je vais mieux .\n",
            "= i m feeling better .\n",
            "< i m better . <EOS>\n",
            "\n",
            "> elle est plus grande que sa s ur .\n",
            "= she is taller than her sister .\n",
            "< she is taller than his sister . <EOS>\n",
            "\n",
            "> elle est accoutumee a veiller toute la nuit .\n",
            "= she is used to staying up all night .\n",
            "< she is used to staying up all night . <EOS>\n",
            "\n"
          ],
          "name": "stdout"
        }
      ]
    },
    {
      "cell_type": "markdown",
      "metadata": {
        "id": "Y4J1zvrwInJk"
      },
      "source": [
        "Visualizing Attention\n",
        "---------------------\n",
        "\n",
        "A useful property of the attention mechanism is its highly interpretable\n",
        "outputs. Because it is used to weight specific encoder outputs of the\n",
        "input sequence, we can imagine looking where the network is focused most\n",
        "at each time step.\n",
        "\n",
        "You could simply run ``plt.matshow(attentions)`` to see attention output\n",
        "displayed as a matrix, with the columns being input steps and rows being\n",
        "output steps:\n",
        "\n",
        "\n"
      ]
    },
    {
      "cell_type": "code",
      "metadata": {
        "colab": {
          "base_uri": "https://localhost:8080/",
          "height": 294
        },
        "id": "1t-jIrj1HVL9",
        "outputId": "e46f1a93-f133-4906-baef-bd590e40aeb3"
      },
      "source": [
        "%matplotlib inline\n",
        "output_words, attentions = evaluate(\n",
        "    encoder1, attn_decoder1, \"je suis trop froid .\")\n",
        "plt.matshow(attentions.numpy())"
      ],
      "execution_count": 58,
      "outputs": [
        {
          "output_type": "execute_result",
          "data": {
            "text/plain": [
              "<matplotlib.image.AxesImage at 0x7fbbafdc3e50>"
            ]
          },
          "metadata": {
            "tags": []
          },
          "execution_count": 58
        },
        {
          "output_type": "display_data",
          "data": {
            "image/png": "[encoded data removed]",
            "text/plain": [
              "<Figure size 480x288 with 1 Axes>"
            ]
          },
          "metadata": {
            "tags": [],
            "needs_background": "light"
          }
        }
      ]
    },
    {
      "cell_type": "markdown",
      "metadata": {
        "id": "J5zYmdIDIvbR"
      },
      "source": [
        "For a better viewing experience we will do the extra work of adding axes\n",
        "and labels:"
      ]
    },
    {
      "cell_type": "code",
      "metadata": {
        "colab": {
          "base_uri": "https://localhost:8080/",
          "height": 1000
        },
        "id": "6iRp2UgrIxPQ",
        "outputId": "62e3cac4-8535-4ba8-ffd5-b4a93f7d7f33"
      },
      "source": [
        "def showAttention(input_sentence, output_words, attentions):\n",
        "    # Set up figure with colorbar\n",
        "    fig = plt.figure()\n",
        "    ax = fig.add_subplot(111)\n",
        "    cax = ax.matshow(attentions.numpy(), cmap='bone')\n",
        "    fig.colorbar(cax)\n",
        "\n",
        "    # Set up axes\n",
        "    ax.set_xticklabels([''] + input_sentence.split(' ') +\n",
        "                       ['<EOS>'], rotation=90)\n",
        "    ax.set_yticklabels([''] + output_words)\n",
        "\n",
        "    # Show label at every tick\n",
        "    ax.xaxis.set_major_locator(ticker.MultipleLocator(1))\n",
        "    ax.yaxis.set_major_locator(ticker.MultipleLocator(1))\n",
        "\n",
        "    plt.show()\n",
        "\n",
        "\n",
        "def evaluateAndShowAttention(input_sentence):\n",
        "    output_words, attentions = evaluate(\n",
        "        encoder1, attn_decoder1, input_sentence)\n",
        "    print('input =', input_sentence)\n",
        "    print('output =', ' '.join(output_words))\n",
        "    showAttention(input_sentence, output_words, attentions)\n",
        "\n",
        "\n",
        "evaluateAndShowAttention(\"elle a cinq ans de moins que moi .\")\n",
        "\n",
        "evaluateAndShowAttention(\"elle est trop petit .\")\n",
        "\n",
        "evaluateAndShowAttention(\"je ne crains pas de mourir .\")\n",
        "\n",
        "evaluateAndShowAttention(\"c est un jeune directeur plein de talent .\")"
      ],
      "execution_count": 59,
      "outputs": [
        {
          "output_type": "stream",
          "text": [
            "input = elle a cinq ans de moins que moi .\n",
            "output = she s five years younger than me . <EOS>\n"
          ],
          "name": "stdout"
        },
        {
          "output_type": "display_data",
          "data": {
            "image/png": "[encoded data removed]",
            "text/plain": [
              "<Figure size 432x288 with 2 Axes>"
            ]
          },
          "metadata": {
            "tags": [],
            "needs_background": "light"
          }
        },
        {
          "output_type": "stream",
          "text": [
            "input = elle est trop petit .\n",
            "output = she s too short . <EOS>\n"
          ],
          "name": "stdout"
        },
        {
          "output_type": "display_data",
          "data": {
            "image/png": "[encoded data removed]",
            "text/plain": [
              "<Figure size 432x288 with 2 Axes>"
            ]
          },
          "metadata": {
            "tags": [],
            "needs_background": "light"
          }
        },
        {
          "output_type": "stream",
          "text": [
            "input = je ne crains pas de mourir .\n",
            "output = i m not afraid to die . <EOS>\n"
          ],
          "name": "stdout"
        },
        {
          "output_type": "display_data",
          "data": {
            "image/png": "[encoded data removed]",
            "text/plain": [
              "<Figure size 432x288 with 2 Axes>"
            ]
          },
          "metadata": {
            "tags": [],
            "needs_background": "light"
          }
        },
        {
          "output_type": "stream",
          "text": [
            "input = c est un jeune directeur plein de talent .\n",
            "output = he s a talented young man . <EOS>\n"
          ],
          "name": "stdout"
        },
        {
          "output_type": "display_data",
          "data": {
            "image/png": "[encoded data removed]",
            "text/plain": [
              "<Figure size 432x288 with 2 Axes>"
            ]
          },
          "metadata": {
            "tags": [],
            "needs_background": "light"
          }
        }
      ]
    },
    {
      "cell_type": "markdown",
      "metadata": {
        "id": "3Pd9XAO6A_Wp"
      },
      "source": [
        "#### References:\n",
        "\n",
        "https://medium.com/@martinpella/how-to-use-pre-trained-word-embeddings-in-pytorch-71ca59249f76\n",
        "\n",
        "https://leakyrelu.com/2019/10/18/using-glove-word-embeddings-with-seq2seq-encoder-decoder-in-pytorch/\n",
        "\n",
        "https://stackoverflow.com/questions/10480440/zip-folder-with-subfolder-in-python"
      ]
    }
  ]
}